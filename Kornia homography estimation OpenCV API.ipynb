{
 "cells": [
  {
   "cell_type": "markdown",
   "id": "276e887a",
   "metadata": {
    "pycharm": {
     "name": "#%% md\n"
    }
   },
   "source": [
    "# Homography estimation for Kornia DoG implementation\n",
    "\n",
    "### Performed on 4 datasets\n",
    "\n",
    "* boat and bark datasets from https://www.robots.ox.ac.uk/~vgg/data/affine/\n",
    "* pure rotations of the first image from \"bark\" by multiples of 90 degrees\n",
    "* pure scaling of the first image from \"bark\" by multiples of 0.1 adjusted so that the aspect ratio is preserved"
   ]
  },
  {
   "cell_type": "markdown",
   "id": "665e02e6",
   "metadata": {
    "pycharm": {
     "name": "#%% md\n"
    }
   },
   "source": [
    "\n",
    "# Comparison of Kornia baseline and fixed version\n",
    "\n",
    "* see https://github.com/kornia/kornia/pull/2105/\n",
    "\n",
    "```\n",
    "Without fix:                                         With fix:\n",
    "\n",
    "\n",
    "running experiment: synthetic rotation by multiples of pi/2\n",
    "\n",
    "rotation        error   tentatives        inliers       rotation        error    tentatives       inliers\n",
    "   90deg     0.516270         6322           4857          90deg     0.000651          6656          6617\n",
    "  180deg     0.674599         5908           3802         180deg     0.001429          4436          4223\n",
    "  270deg     0.454714         6170           3872         270deg     0.001259          6114          5935\n",
    "     Sum     1.645583        18400          12531            Sum     0.003339         17206         16775\n",
    "\n",
    "\n",
    "running experiment: bark\n",
    "\n",
    "                error   tentatives        inliers       rotation        error    tentatives       inliers\n",
    "img2         1.257790          267             49           img2     1.379990           331            91\n",
    "img3         2.212071          121             28           img3     1.492706           125            48\n",
    "img4         1.350093          362            193           img4     1.001385           335           252\n",
    "img5         0.710791          210             90           img5     0.699119           233           171\n",
    "img6         1.352123           89             43           img6     0.987482            77            62\n",
    " Sum         6.882868         1049            403            Sum     5.560682          1101           624\n",
    "\n",
    "\n",
    "running experiment: boat\n",
    "\n",
    "              error   tentatives        inliers                         error    tentatives       inliers\n",
    "img2       0.625754         1640            425             img2     0.257128          1806           628\n",
    "img3       0.313360         1155            345             img3     0.387596          1130           417\n",
    "img4       1.635418          374             90             img4     0.834250           373           106\n",
    "img5       0.868519          193             42             img5     1.171891           227            59\n",
    "img6       6.004359           63             16             img6     4.849470            55            16\n",
    " Sum       9.447409         3425            918              Sum     7.500336          3591          1226\n",
    "\n",
    "\n",
    "running experiment: synthetic rescaling lanczos\n",
    "\n",
    "scale         error   tentatives        inliers            scale        error    tentatives       inliers\n",
    "  0.2      0.337641           46             28              0.2     0.063100            82            69\n",
    "  0.3      0.270277          219            132              0.3     0.105695           285           192\n",
    "  0.4      0.316275          597            316              0.4     0.050815           697           565\n",
    "  0.5      0.191226         1155            622              0.5     0.017677          1311          1160\n",
    "  0.6      0.162396         1782            985              0.6     0.047982          2065          1616\n",
    "  0.7      0.229305         2390           1260              0.7     0.050292          2832          2089\n",
    "  0.8      0.112914         3756           2134              0.8     0.015694          4140          3694\n",
    "  0.9      0.164707         4431           2340              0.9     0.051795          5233          3939\n",
    "  Sum      1.784741        14376           7817              Sum     0.403049         16645         13324\n",
    "```"
   ]
  },
  {
   "cell_type": "code",
   "execution_count": 1,
   "id": "a8264f73",
   "metadata": {
    "pycharm": {
     "name": "#%%\n"
    }
   },
   "outputs": [
    {
     "name": "stdout",
     "output_type": "stream",
     "text": [
      "Exact scale adjustments:\n",
      "scale: 0.2 => 0.2, dimension: 765x510 => (153, 102)\n",
      "scale: 0.3 => 0.2980392156862745, dimension: 765x510 => (228, 152)\n",
      "scale: 0.4 => 0.4, dimension: 765x510 => (306, 204)\n",
      "scale: 0.5 => 0.5019607843137255, dimension: 765x510 => (384, 256)\n",
      "scale: 0.6 => 0.6, dimension: 765x510 => (459, 306)\n",
      "scale: 0.7 => 0.6980392156862745, dimension: 765x510 => (534, 356)\n",
      "scale: 0.8 => 0.8, dimension: 765x510 => (612, 408)\n",
      "scale: 0.9 => 0.9019607843137255, dimension: 765x510 => (690, 460)\n"
     ]
    }
   ],
   "source": [
    "from tqdm.notebook import tqdm\n",
    "\n",
    "from dataset_utils import Hs_imgs_for_boat, Hs_imgs_for_bark, Hs_imgs_for_rotation, Hs_imgs_for_scaling\n",
    "from opencv_utils import get_tentatives, get_visible_part_mean_absolute_reprojection_error\n",
    "\n",
    "\n",
    "def compare_output(o1: str, o2: str):\n",
    "    for line in zip(o1.split(\"\\n\"), o2.split(\"\\n\")):\n",
    "        print(f\"{line[0]}{line[1]:>60}\")\n",
    "\n",
    "\n",
    "class Printer:\n",
    "    def __init__(self, print_output):\n",
    "        self.print_output = print_output\n",
    "        self.output = \"\"\n",
    "\n",
    "    def print(self, s=\"\"):\n",
    "        if self.print_output:\n",
    "            print(s)\n",
    "        self.output = self.output + s + \"\\n\"\n",
    "\n",
    "\n",
    "def homography_estimation_experiment(\n",
    "        detector, Hs_gt, imgs, e_name,\n",
    "        instance_names, p=Printer(print_output=True), mean=True, sum=False\n",
    "):\n",
    "\n",
    "    p.print()\n",
    "    p.print(f\"running experiment: {e_name}\")\n",
    "    p.print()\n",
    "\n",
    "    kpts_0, desc_0 = detector.detectAndCompute(imgs[0], mask=None)\n",
    "    p.print(f\"reference img keypoints: {len(kpts_0)}\")\n",
    "    p.print()\n",
    "    p.print(f\"{'':>8}{'error':>12}{'keypoints':>12}{'tentatives':>12}{'inliers':>10}\")\n",
    "\n",
    "    sum_reproj_err = 0.0\n",
    "    sum_keypoints = 0\n",
    "    sum_tent_count = 0\n",
    "    sum_in_count = 0\n",
    "\n",
    "    for other_i in tqdm(range(1, len(imgs)), leave=False):\n",
    "        kpts_other, desc_other = detector.detectAndCompute(imgs[other_i], mask=None)\n",
    "        kpts_n = len(kpts_other)\n",
    "\n",
    "        src_pts, dst_pts = get_tentatives(kpts_0, desc_0, kpts_other, desc_other, ratio_threshold=0.8)\n",
    "        if len(src_pts) < 4:\n",
    "            print(f\"WARNING: less than 4 tentatives: {len(src_pts)}\")\n",
    "            continue\n",
    "\n",
    "        H_est, inlier_mask = cv.findHomography(src_pts, dst_pts,\n",
    "                                               cv.RANSAC,\n",
    "                                               maxIters=100000,\n",
    "                                               ransacReprojThreshold=0.5,\n",
    "                                               confidence=0.9999)\n",
    "        H_gt = Hs_gt[other_i - 1]\n",
    "        \n",
    "\n",
    "        reproj_err = get_visible_part_mean_absolute_reprojection_error(imgs[0], imgs[other_i], H_gt, H_est)\n",
    "        tent_count = len(src_pts)\n",
    "        in_count = int(inlier_mask.sum())\n",
    "\n",
    "        p.print(f\"{instance_names[other_i - 1]:>8}{reproj_err:>12.6f}{kpts_n:>12}{tent_count:>12}{in_count:>10}\")\n",
    "        sum_reproj_err += reproj_err\n",
    "        sum_keypoints += kpts_n\n",
    "        sum_tent_count += tent_count\n",
    "        sum_in_count += in_count\n",
    "\n",
    "    l = len(imgs) - 1\n",
    "    if mean:\n",
    "        p.print(f\"{'Mean':>8}{sum_reproj_err/l:>12.6f}{sum_keypoints/l:>14.1f}{sum_tent_count/l:>12.1f}{sum_in_count/l:>10.1f}\")\n",
    "    if sum:\n",
    "        p.print(f\"{'Sum':>8}{sum_reproj_err:>12.6f}{sum_keypoints:>12}{sum_tent_count:>12}{sum_in_count:>10}\")\n",
    "\n",
    "\n",
    "Hs_boat, imgs_boat = Hs_imgs_for_boat()\n",
    "Hs_boat_rot, imgs_boat_rot = Hs_imgs_for_boat(rotate_query_imgs=True)\n",
    "Hs_bark, imgs_bark = Hs_imgs_for_bark()\n",
    "Hs_bark_rot, imgs_bark_rot = Hs_imgs_for_bark(rotate_query_imgs=True)\n",
    "Hs_rot, imgs_rot = Hs_imgs_for_rotation()\n",
    "print(\"Exact scale adjustments:\")\n",
    "Hs_scaling, imgs_scaling, scales = Hs_imgs_for_scaling()\n",
    "\n",
    "\n",
    "def run_on_descriptor(descriptor, name, print_output=True, mean=True, sum=False):\n",
    "    p = Printer(print_output)\n",
    "    p.print()\n",
    "    p.print(f\"descriptor: {name}:\")\n",
    "    p.print()\n",
    "    homography_estimation_experiment(descriptor, Hs_rot, imgs_rot, \"synthetic pi rotation\", [\"90deg\", \"180deg\", \"270deg\"], p, mean, sum)\n",
    "    homography_estimation_experiment(descriptor, Hs_bark, imgs_bark, \"bark\", [f\"img{i}\" for i in range(2, 7)], p, mean, sum)\n",
    "    #homography_estimation_experiment(descriptor, Hs_bark_rot, imgs_bark_rot, \"bark rotated\", [f\"img{i}\" for i in range(2, 7)], p, mean, sum)\n",
    "    homography_estimation_experiment(descriptor, Hs_boat, imgs_boat, \"boat\", [f\"img{i}\" for i in range(2, 7)], p, mean, sum)\n",
    "    #homography_estimation_experiment(descriptor, Hs_boat_rot, imgs_boat_rot, \"boat rotated\", [f\"img{i}\" for i in range(2, 7)], p, mean, sum)\n",
    "    homography_estimation_experiment(descriptor, Hs_scaling, imgs_scaling, \"synthetic rescaling lanczos\", [f\"{s}\" for s in scales], p, mean, sum)\n",
    "    return None if print_output else p.output\n"
   ]
  },
  {
   "cell_type": "code",
   "execution_count": 2,
   "id": "fe95e113",
   "metadata": {
    "pycharm": {
     "name": "#%%\n"
    }
   },
   "outputs": [],
   "source": [
    "import cv2 as cv\n",
    "import torch\n",
    "from conv_quad_interp3d import FixedConvQuadInterp3d\n",
    "from scale_pyramid import FixedDogScalePyramid\n",
    "from kornia.feature.integrated import LocalFeature, LAFDescriptor, SIFTDescriptor\n",
    "from kornia.utils import image_to_tensor\n",
    "from kornia.geometry import ScalePyramid\n",
    "from enum import Enum\n",
    "\n",
    "\n",
    "class NumpyKorniaSiftDescriptor:\n",
    "\n",
    "    def __init__(self, local_feature, device=torch.device('cpu')):\n",
    "        self.local_feature = local_feature\n",
    "        self.device = device\n",
    "\n",
    "    @staticmethod\n",
    "    def cv_kpt_from_laffs_responses(laffs, responses):\n",
    "        kpts = []\n",
    "        for i, response in enumerate(responses[0]):\n",
    "            yx = laffs[0, i, :, 2]\n",
    "            kp = cv.KeyPoint(yx[0].item(), yx[1].item(), response.item(), angle=0)\n",
    "            kpts.append(kp)\n",
    "        return kpts\n",
    "\n",
    "    def detectAndCompute(self, img, mask):\n",
    "        assert mask is None, \"not implemented with non-trivial mask\"\n",
    "        if len(img.shape) == 2:\n",
    "            img = img[:, :, None]\n",
    "        else:\n",
    "            img = cv.cvtColor(img, cv.COLOR_BGR2GRAY)\n",
    "        img_t = (image_to_tensor(img, False).float() / 255.).to(device=self.device)\n",
    "        laffs, responses, descs = self.local_feature(img_t, mask=None)\n",
    "        kpts = self.cv_kpt_from_laffs_responses(laffs, responses)\n",
    "        descs = descs[0].cpu().detach().numpy()\n",
    "        return kpts, descs\n",
    "\n",
    "\n",
    "class CustomSIFTFeature(LocalFeature):\n",
    "    \"\"\" See kornia.feature.integrated.SIFTFeature \"\"\"\n",
    "\n",
    "    def __init__(\n",
    "        self,\n",
    "        scale_space_detector,\n",
    "        rootsift: bool = True,\n",
    "        device: torch.device = torch.device('cpu'),\n",
    "    ):\n",
    "        patch_size: int = 41\n",
    "        detector = scale_space_detector.to(device)\n",
    "        descriptor = LAFDescriptor(\n",
    "            SIFTDescriptor(patch_size=patch_size, rootsift=rootsift), patch_size=patch_size, grayscale_descriptor=True\n",
    "        ).to(device)\n",
    "        super().__init__(detector, descriptor)\n",
    "\n",
    "    \n",
    "class Version(Enum):\n",
    "    FIXED = 1\n",
    "    NOT_FIXED = 2\n",
    "    ORIGINAL = 3\n",
    "\n",
    "\n",
    "def get_scale_pyramid(version, double_image=True, min_size=15):\n",
    "    if version == Version.FIXED:\n",
    "        return FixedDogScalePyramid(3, 1.6, min_size=min_size, double_image=double_image, fix_upscaling=True)\n",
    "    elif version == Version.NOT_FIXED:\n",
    "        return FixedDogScalePyramid(3, 1.6, min_size=min_size, double_image=double_image, fix_upscaling=False)\n",
    "    elif version == Version.ORIGINAL:\n",
    "        return ScalePyramid(3, 1.6, min_size=min_size, double_image=double_image)\n",
    "    else:\n",
    "        raise ValueError(f\"unexpeced version: {version}\")\n",
    "\n",
    "\n",
    "def get_conv_quad_interp3d(version, eps=1e-7):\n",
    "    if version == Version.FIXED:\n",
    "        return FixedConvQuadInterp3d(10,\n",
    "                                     eps=eps,\n",
    "                                     scatter_fix=True,\n",
    "                                     swap_xy_fix=True)\n",
    "    elif version == Version.NOT_FIXED:\n",
    "        return FixedConvQuadInterp3d(10,\n",
    "                                     eps=eps,\n",
    "                                     scatter_fix=False,\n",
    "                                     swap_xy_fix=False)\n",
    "    elif version == Version.ORIGINAL:\n",
    "        return ConvQuadInterp3d(10, eps=eps)\n",
    "    else:\n",
    "        raise ValueError(f\"unexpected version: {version}\")"
   ]
  },
  {
   "cell_type": "code",
   "execution_count": 16,
   "id": "338e1974",
   "metadata": {
    "pycharm": {
     "name": "#%%\n"
    },
    "scrolled": false
   },
   "outputs": [
    {
     "data": {
      "application/vnd.jupyter.widget-view+json": {
       "model_id": "e23d09e99b19461d8906c8a96239b2ee",
       "version_major": 2,
       "version_minor": 0
      },
      "text/plain": [
       "  0%|          | 0/3 [00:00<?, ?it/s]"
      ]
     },
     "metadata": {},
     "output_type": "display_data"
    },
    {
     "data": {
      "application/vnd.jupyter.widget-view+json": {
       "model_id": "a1ad048e1f70437fbc354c54972164af",
       "version_major": 2,
       "version_minor": 0
      },
      "text/plain": [
       "  0%|          | 0/5 [00:00<?, ?it/s]"
      ]
     },
     "metadata": {},
     "output_type": "display_data"
    },
    {
     "data": {
      "application/vnd.jupyter.widget-view+json": {
       "model_id": "16d8765905914371b0b200135dec934e",
       "version_major": 2,
       "version_minor": 0
      },
      "text/plain": [
       "  0%|          | 0/5 [00:00<?, ?it/s]"
      ]
     },
     "metadata": {},
     "output_type": "display_data"
    },
    {
     "data": {
      "application/vnd.jupyter.widget-view+json": {
       "model_id": "2731cb0c7772444e82a32ed3c4abdf72",
       "version_major": 2,
       "version_minor": 0
      },
      "text/plain": [
       "  0%|          | 0/8 [00:00<?, ?it/s]"
      ]
     },
     "metadata": {},
     "output_type": "display_data"
    },
    {
     "data": {
      "application/vnd.jupyter.widget-view+json": {
       "model_id": "721488511f844093860fe3503c14141d",
       "version_major": 2,
       "version_minor": 0
      },
      "text/plain": [
       "  0%|          | 0/3 [00:00<?, ?it/s]"
      ]
     },
     "metadata": {},
     "output_type": "display_data"
    },
    {
     "data": {
      "application/vnd.jupyter.widget-view+json": {
       "model_id": "704909405be3475f90152c71c39d10d9",
       "version_major": 2,
       "version_minor": 0
      },
      "text/plain": [
       "  0%|          | 0/5 [00:00<?, ?it/s]"
      ]
     },
     "metadata": {},
     "output_type": "display_data"
    },
    {
     "data": {
      "application/vnd.jupyter.widget-view+json": {
       "model_id": "f8e3bf077c9c41ddb52c76e6cdb6d7e1",
       "version_major": 2,
       "version_minor": 0
      },
      "text/plain": [
       "  0%|          | 0/5 [00:00<?, ?it/s]"
      ]
     },
     "metadata": {},
     "output_type": "display_data"
    },
    {
     "data": {
      "application/vnd.jupyter.widget-view+json": {
       "model_id": "68282fa09ba34469a87305991ccbe40d",
       "version_major": 2,
       "version_minor": 0
      },
      "text/plain": [
       "  0%|          | 0/5 [00:00<?, ?it/s]"
      ]
     },
     "metadata": {},
     "output_type": "display_data"
    },
    {
     "data": {
      "application/vnd.jupyter.widget-view+json": {
       "model_id": "7304a3485e884c3780cf5c53b164d2b4",
       "version_major": 2,
       "version_minor": 0
      },
      "text/plain": [
       "  0%|          | 0/5 [00:00<?, ?it/s]"
      ]
     },
     "metadata": {},
     "output_type": "display_data"
    },
    {
     "data": {
      "application/vnd.jupyter.widget-view+json": {
       "model_id": "68cb5bb09cfd4f32bb6adb8a94e0f7be",
       "version_major": 2,
       "version_minor": 0
      },
      "text/plain": [
       "  0%|          | 0/8 [00:00<?, ?it/s]"
      ]
     },
     "metadata": {},
     "output_type": "display_data"
    },
    {
     "name": "stdout",
     "output_type": "stream",
     "text": [
      "                                                            \n",
      "descriptor: Kornia SIFT fixed:                          descriptor: Kornia SIFT not fixed:\n",
      "                                                            \n",
      "                                                            \n",
      "running experiment: synthetic pi rotation                   running experiment: synthetic pi rotation\n",
      "                                                            \n",
      "reference img keypoints: 8000                               reference img keypoints: 8000\n",
      "                                                            \n",
      "               error   keypoints  tentatives   inliers                     error   keypoints  tentatives   inliers\n",
      "   90deg    0.000651        8000        6656      6617         90deg    0.505801        8000        6337      4316\n",
      "  180deg    0.001429        8000        4436      4223        180deg    0.716230        8000        5936      3971\n",
      "  270deg    0.001259        8000        6114      5935        270deg    0.536577        8000        6171      3798\n",
      "    Mean    0.001113        8000.0      5735.3    5591.7        Mean    0.586202        8000.0      6148.0    4028.3\n",
      "     Sum    0.003339       24000       17206     16775           Sum    1.758607       24000       18444     12085\n",
      "                                                            \n",
      "running experiment: bark                                    running experiment: bark\n",
      "                                                            \n",
      "reference img keypoints: 8000                               reference img keypoints: 8000\n",
      "                                                            \n",
      "               error   keypoints  tentatives   inliers                     error   keypoints  tentatives   inliers\n",
      "    img2    1.379990        8000         331        91          img2    1.122417        8000         278        60\n",
      "    img3    1.492706        8000         125        48          img3    2.144621        8000         134        33\n",
      "    img4    1.001385        8000         335       252          img4    1.377234        8000         368       187\n",
      "    img5    0.699119        8000         233       171          img5    0.727853        8000         232       111\n",
      "    img6    0.987482        8000          77        62          img6    1.339895        8000          96        45\n",
      "    Mean    1.112136        8000.0       220.2     124.8        Mean    1.342404        8000.0       221.6      87.2\n",
      "     Sum    5.560682       40000        1101       624           Sum    6.712020       40000        1108       436\n",
      "                                                            \n",
      "running experiment: bark rotated                            running experiment: bark rotated\n",
      "                                                            \n",
      "reference img keypoints: 8000                               reference img keypoints: 8000\n",
      "                                                            \n",
      "               error   keypoints  tentatives   inliers                     error   keypoints  tentatives   inliers\n",
      "    img2    1.302602        8000         226        71          img2    1.376234        8000         257        47\n",
      "    img3    1.812786        8000         189        71          img3    1.529274        8000         153        36\n",
      "    img4    0.965171        8000         382       322          img4    0.960048        8000         387       231\n",
      "    img5    0.773191        8000         180       120          img5    1.176630        8000         201        88\n",
      "    img6    0.918431        8000          87        70          img6    1.008717        8000          98        54\n",
      "    Mean    1.154436        8000.0       212.8     130.8        Mean    1.210181        8000.0       219.2      91.2\n",
      "     Sum    5.772181       40000        1064       654           Sum    6.050904       40000        1096       456\n",
      "                                                            \n",
      "running experiment: boat                                    running experiment: boat\n",
      "                                                            \n",
      "reference img keypoints: 8000                               reference img keypoints: 8000\n",
      "                                                            \n",
      "               error   keypoints  tentatives   inliers                     error   keypoints  tentatives   inliers\n",
      "    img2    0.257128        8000        1806       628          img2    0.283657        8000        1638       428\n",
      "    img3    0.387596        8000        1130       417          img3    0.514790        8000        1163       327\n",
      "    img4    0.834250        8000         373       106          img4    1.378743        8000         382        89\n",
      "    img5    1.171891        8000         227        59          img5    0.668317        8000         201        44\n",
      "    img6    4.849470        8000          55        16          img6    5.192543        8000          67        16\n",
      "    Mean    1.500067        8000.0       718.2     245.2        Mean    1.607610        8000.0       690.2     180.8\n",
      "     Sum    7.500336       40000        3591      1226           Sum    8.038051       40000        3451       904\n",
      "                                                            \n",
      "running experiment: boat rotated                            running experiment: boat rotated\n",
      "                                                            \n",
      "reference img keypoints: 8000                               reference img keypoints: 8000\n",
      "                                                            \n",
      "               error   keypoints  tentatives   inliers                     error   keypoints  tentatives   inliers\n",
      "    img2    0.539681        8000         860       254          img2    0.912465        8000        1376       308\n",
      "    img3    0.393750        8000         710       233          img3    0.753798        8000        1041       316\n",
      "    img4    2.110237        8000         346        99          img4    1.492576        8000         401        87\n",
      "    img5    0.736508        8000         170        44          img5    2.548135        8000         187        36\n",
      "    img6    4.495471        8000          58        15          img6    5.472081        8000          66        19\n",
      "    Mean    1.655129        8000.0       428.8     129.0        Mean    2.235811        8000.0       614.2     153.2\n",
      "     Sum    8.275647       40000        2144       645           Sum   11.179056       40000        3071       766\n",
      "                                                            \n",
      "running experiment: synthetic rescaling lanczos             running experiment: synthetic rescaling lanczos\n",
      "                                                            \n",
      "reference img keypoints: 8000                               reference img keypoints: 8000\n",
      "                                                            \n",
      "               error   keypoints  tentatives   inliers                     error   keypoints  tentatives   inliers\n",
      "     0.2    0.063100        8000          82        69           0.2    0.407057        8000          84        47\n",
      "     0.3    0.105695        8000         285       192           0.3    0.362363        8000         270       144\n",
      "     0.4    0.050815        8000         697       565           0.4    0.281491        8000         682       389\n",
      "     0.5    0.017677        8000        1311      1160           0.5    0.172568        8000        1252       762\n",
      "     0.6    0.047982        8000        2065      1616           0.6    0.138832        8000        1908      1124\n",
      "     0.7    0.050292        8000        2832      2089           0.7    0.231102        8000        2521      1264\n",
      "     0.8    0.015694        8000        4140      3694           0.8    0.155497        8000        3855      2101\n",
      "     0.9    0.051795        8000        5233      3939           0.9    0.088802        8000        4501      2532\n",
      "    Mean    0.050381        8000.0      2080.6    1665.5        Mean    0.229714        8000.0      1884.1    1045.4\n",
      "     Sum    0.403049       64000       16645     13324           Sum    1.837711       64000       15073      8363\n",
      "                                                            \n",
      "\n",
      "descriptor: Kornia SIFT original:\n",
      "\n",
      "\n",
      "running experiment: synthetic pi rotation\n",
      "\n",
      "reference img keypoints: 8000\n",
      "\n",
      "               error   keypoints  tentatives   inliers\n"
     ]
    },
    {
     "data": {
      "application/vnd.jupyter.widget-view+json": {
       "model_id": "4c380687be884712bf6d7180c216a0e7",
       "version_major": 2,
       "version_minor": 0
      },
      "text/plain": [
       "  0%|          | 0/3 [00:00<?, ?it/s]"
      ]
     },
     "metadata": {},
     "output_type": "display_data"
    },
    {
     "name": "stdout",
     "output_type": "stream",
     "text": [
      "   90deg    0.516270        8000        6322      4857\n",
      "  180deg    0.674599        8000        5908      3802\n",
      "  270deg    0.454714        8000        6170      3872\n",
      "    Mean    0.548528        8000.0      6133.3    4177.0\n",
      "     Sum    1.645583       24000       18400     12531\n",
      "\n",
      "running experiment: bark\n",
      "\n",
      "reference img keypoints: 8000\n",
      "\n",
      "               error   keypoints  tentatives   inliers\n"
     ]
    },
    {
     "data": {
      "application/vnd.jupyter.widget-view+json": {
       "model_id": "fcc7cd1d13c64792b11385bbefa24f1a",
       "version_major": 2,
       "version_minor": 0
      },
      "text/plain": [
       "  0%|          | 0/5 [00:00<?, ?it/s]"
      ]
     },
     "metadata": {},
     "output_type": "display_data"
    },
    {
     "name": "stdout",
     "output_type": "stream",
     "text": [
      "    img2    1.257790        8000         267        49\n",
      "    img3    2.212071        8000         121        28\n",
      "    img4    1.350093        8000         362       193\n",
      "    img5    0.710791        8000         210        90\n",
      "    img6    1.352123        8000          89        43\n",
      "    Mean    1.376574        8000.0       209.8      80.6\n",
      "     Sum    6.882868       40000        1049       403\n",
      "\n",
      "running experiment: bark rotated\n",
      "\n",
      "reference img keypoints: 8000\n",
      "\n",
      "               error   keypoints  tentatives   inliers\n"
     ]
    },
    {
     "data": {
      "application/vnd.jupyter.widget-view+json": {
       "model_id": "2bb6443d59364095b414abdb4daa61af",
       "version_major": 2,
       "version_minor": 0
      },
      "text/plain": [
       "  0%|          | 0/5 [00:00<?, ?it/s]"
      ]
     },
     "metadata": {},
     "output_type": "display_data"
    },
    {
     "name": "stdout",
     "output_type": "stream",
     "text": [
      "    img2    1.282002        8000         250        45\n",
      "    img3    1.681102        8000         149        33\n",
      "    img4    1.043196        8000         369       184\n",
      "    img5    1.038888        8000         202        84\n",
      "    img6    1.047461        8000          93        46\n",
      "    Mean    1.218530        8000.0       212.6      78.4\n",
      "     Sum    6.092650       40000        1063       392\n",
      "\n",
      "running experiment: boat\n",
      "\n",
      "reference img keypoints: 8000\n",
      "\n",
      "               error   keypoints  tentatives   inliers\n"
     ]
    },
    {
     "data": {
      "application/vnd.jupyter.widget-view+json": {
       "model_id": "87dee4326fa7405aaba3082a39d301c2",
       "version_major": 2,
       "version_minor": 0
      },
      "text/plain": [
       "  0%|          | 0/5 [00:00<?, ?it/s]"
      ]
     },
     "metadata": {},
     "output_type": "display_data"
    },
    {
     "name": "stdout",
     "output_type": "stream",
     "text": [
      "    img2    0.625754        8000        1640       425\n",
      "    img3    0.313360        8000        1155       345\n",
      "    img4    1.635418        8000         374        90\n",
      "    img5    0.868519        8000         193        42\n",
      "    img6    6.004359        8000          63        16\n",
      "    Mean    1.889482        8000.0       685.0     183.6\n",
      "     Sum    9.447409       40000        3425       918\n",
      "\n",
      "running experiment: boat rotated\n",
      "\n",
      "reference img keypoints: 8000\n",
      "\n",
      "               error   keypoints  tentatives   inliers\n"
     ]
    },
    {
     "data": {
      "application/vnd.jupyter.widget-view+json": {
       "model_id": "1e27c1a2340045ad8b283112198a6e75",
       "version_major": 2,
       "version_minor": 0
      },
      "text/plain": [
       "  0%|          | 0/5 [00:00<?, ?it/s]"
      ]
     },
     "metadata": {},
     "output_type": "display_data"
    },
    {
     "name": "stdout",
     "output_type": "stream",
     "text": [
      "    img2    0.976225        8000        1363       336\n",
      "    img3    0.693703        8000        1042       287\n",
      "    img4    1.491942        8000         395        82\n",
      "    img5    1.543355        8000         181        33\n",
      "    img6    5.593381        8000          64        17\n",
      "    Mean    2.059721        8000.0       609.0     151.0\n",
      "     Sum   10.298606       40000        3045       755\n",
      "\n",
      "running experiment: synthetic rescaling lanczos\n",
      "\n",
      "reference img keypoints: 8000\n",
      "\n",
      "               error   keypoints  tentatives   inliers\n"
     ]
    },
    {
     "data": {
      "application/vnd.jupyter.widget-view+json": {
       "model_id": "1339a7412b1a47889c0e68e0db221ba3",
       "version_major": 2,
       "version_minor": 0
      },
      "text/plain": [
       "  0%|          | 0/8 [00:00<?, ?it/s]"
      ]
     },
     "metadata": {},
     "output_type": "display_data"
    },
    {
     "name": "stdout",
     "output_type": "stream",
     "text": [
      "     0.2    0.337641        8000          46        28\n",
      "     0.3    0.270277        8000         219       132\n",
      "     0.4    0.316275        8000         597       316\n",
      "     0.5    0.191226        8000        1155       622\n",
      "     0.6    0.162396        8000        1782       985\n",
      "     0.7    0.229305        8000        2390      1260\n",
      "     0.8    0.112914        8000        3756      2134\n",
      "     0.9    0.164707        8000        4431      2340\n",
      "    Mean    0.223093        8000.0      1797.0     977.1\n",
      "     Sum    1.784741       64000       14376      7817\n"
     ]
    }
   ],
   "source": [
    "from kornia.feature import BlobDoG\n",
    "from kornia.geometry import ConvQuadInterp3d\n",
    "from scale_space_detector import FixedScaleSpaceDetector\n",
    "from kornia.feature import LAFOrienter\n",
    "from kornia.feature import ScaleSpaceDetector\n",
    "\n",
    "\n",
    "def get_sift_descriptor(version):\n",
    "\n",
    "    sp = get_scale_pyramid(version, double_image=True, min_size=32)\n",
    "    nms_module = get_conv_quad_interp3d(version)\n",
    "\n",
    "    if version == Version.ORIGINAL:\n",
    "        detector = ScaleSpaceDetector(\n",
    "            num_features=8000,\n",
    "            resp_module=BlobDoG(),\n",
    "            nms_module=nms_module,\n",
    "            scale_pyr_module=sp,\n",
    "            ori_module=LAFOrienter(19),\n",
    "            scale_space_response=True,\n",
    "            minima_are_also_good=True,\n",
    "            mr_size=6.0,\n",
    "        )\n",
    "    else:\n",
    "        detector = FixedScaleSpaceDetector(\n",
    "            num_features=8000,\n",
    "            resp_module=BlobDoG(),\n",
    "            nms_module=nms_module,\n",
    "            scale_pyr_module=sp,\n",
    "            ori_module=LAFOrienter(19),\n",
    "            scale_space_response=True,\n",
    "            minima_are_also_good=True,\n",
    "            mr_size=6.0,\n",
    "        )\n",
    "\n",
    "    return NumpyKorniaSiftDescriptor(local_feature=CustomSIFTFeature(detector))\n",
    "\n",
    "\n",
    "out1 = run_on_descriptor(descriptor=get_sift_descriptor(version=Version.FIXED), name=\"Kornia SIFT fixed\", print_output=False, sum=True)\n",
    "out2 = run_on_descriptor(descriptor=get_sift_descriptor(version=Version.NOT_FIXED), name=\"Kornia SIFT not fixed\", print_output=False, sum=True)\n",
    "compare_output(out1, out2)\n",
    "run_on_descriptor(descriptor=get_sift_descriptor(version=Version.ORIGINAL), name=\"Kornia SIFT original\", sum=True)\n"
   ]
  },
  {
   "cell_type": "code",
   "execution_count": 3,
   "id": "3e949896",
   "metadata": {
    "pycharm": {
     "name": "#%%\n"
    },
    "scrolled": false
   },
   "outputs": [
    {
     "data": {
      "application/vnd.jupyter.widget-view+json": {
       "model_id": "",
       "version_major": 2,
       "version_minor": 0
      },
      "text/plain": [
       "  0%|          | 0/3 [00:00<?, ?it/s]"
      ]
     },
     "metadata": {},
     "output_type": "display_data"
    },
    {
     "data": {
      "application/vnd.jupyter.widget-view+json": {
       "model_id": "",
       "version_major": 2,
       "version_minor": 0
      },
      "text/plain": [
       "  0%|          | 0/5 [00:00<?, ?it/s]"
      ]
     },
     "metadata": {},
     "output_type": "display_data"
    },
    {
     "data": {
      "application/vnd.jupyter.widget-view+json": {
       "model_id": "",
       "version_major": 2,
       "version_minor": 0
      },
      "text/plain": [
       "  0%|          | 0/5 [00:00<?, ?it/s]"
      ]
     },
     "metadata": {},
     "output_type": "display_data"
    },
    {
     "data": {
      "application/vnd.jupyter.widget-view+json": {
       "model_id": "",
       "version_major": 2,
       "version_minor": 0
      },
      "text/plain": [
       "  0%|          | 0/8 [00:00<?, ?it/s]"
      ]
     },
     "metadata": {},
     "output_type": "display_data"
    },
    {
     "data": {
      "application/vnd.jupyter.widget-view+json": {
       "model_id": "",
       "version_major": 2,
       "version_minor": 0
      },
      "text/plain": [
       "  0%|          | 0/3 [00:00<?, ?it/s]"
      ]
     },
     "metadata": {},
     "output_type": "display_data"
    },
    {
     "data": {
      "application/vnd.jupyter.widget-view+json": {
       "model_id": "",
       "version_major": 2,
       "version_minor": 0
      },
      "text/plain": [
       "  0%|          | 0/5 [00:00<?, ?it/s]"
      ]
     },
     "metadata": {},
     "output_type": "display_data"
    },
    {
     "data": {
      "application/vnd.jupyter.widget-view+json": {
       "model_id": "",
       "version_major": 2,
       "version_minor": 0
      },
      "text/plain": [
       "  0%|          | 0/5 [00:00<?, ?it/s]"
      ]
     },
     "metadata": {},
     "output_type": "display_data"
    },
    {
     "data": {
      "application/vnd.jupyter.widget-view+json": {
       "model_id": "",
       "version_major": 2,
       "version_minor": 0
      },
      "text/plain": [
       "  0%|          | 0/8 [00:00<?, ?it/s]"
      ]
     },
     "metadata": {},
     "output_type": "display_data"
    },
    {
     "name": "stdout",
     "output_type": "stream",
     "text": [
      "                                                            \n",
      "descriptor: Kornia Harris+SIFT fixed:                   descriptor: Kornia Harris+SIFT not fixed:\n",
      "                                                            \n",
      "                                                            \n",
      "running experiment: synthetic pi rotation                   running experiment: synthetic pi rotation\n",
      "                                                            \n",
      "reference img keypoints: 8000                               reference img keypoints: 8000\n",
      "                                                            \n",
      "               error   keypoints  tentatives   inliers                     error   keypoints  tentatives   inliers\n",
      "   90deg    0.000086        8000        5115      5089         90deg    0.490866        8000        5296      4801\n",
      "  180deg    0.001696        8000        2329      2133        180deg    0.695779        8000        5167      4853\n",
      "  270deg    0.001426        8000        3647      3511        270deg    0.489036        8000        5092      4408\n",
      "    Mean    0.001070        8000.0      3697.0    3577.7        Mean    0.558561        8000.0      5185.0    4687.3\n",
      "                                                            \n",
      "running experiment: bark                                    running experiment: bark\n",
      "                                                            \n",
      "reference img keypoints: 8000                               reference img keypoints: 8000\n",
      "                                                            \n",
      "               error   keypoints  tentatives   inliers                     error   keypoints  tentatives   inliers\n",
      "    img2    2.048159        8000          57        15          img2    1.675540        8000          44        10\n",
      "    img3    1.808251        8000          10         5          img3  728.834784        8000           9         4\n",
      "    img4    1.015123        8000          68        40          img4    1.470865        8000          44        19\n",
      "    img5    0.664530        8000          64        39          img5    0.900047        8000          32        19\n",
      "    img6    1.115708        8000          22        14          img6    1.273997        8000          20        14\n",
      "    Mean    1.330354        8000.0        44.2      22.6        Mean  146.831047        8000.0        29.8      13.2\n",
      "                                                            \n",
      "running experiment: boat                                    running experiment: boat\n",
      "                                                            \n",
      "reference img keypoints: 8000                               reference img keypoints: 8000\n",
      "                                                            \n",
      "               error   keypoints  tentatives   inliers                     error   keypoints  tentatives   inliers\n",
      "    img2    0.376784        8000         791       300          img2    0.390452        8000         729       227\n",
      "    img3    0.282097        8000         351       134          img3    0.636783        8000         341       106\n",
      "    img4    1.640819        8000         179        55          img4    1.208717        8000         157        45\n",
      "    img5    1.974381        8000         116        30          img5    1.145212        8000          91        23\n",
      "    img6   14.132225        8000          24         9          img6    5.106154        8000          22         8\n",
      "    Mean    3.681261        8000.0       292.2     105.6        Mean    1.697463        8000.0       268.0      81.8\n",
      "                                                            \n",
      "running experiment: synthetic rescaling lanczos             running experiment: synthetic rescaling lanczos\n",
      "                                                            \n",
      "reference img keypoints: 8000                               reference img keypoints: 8000\n",
      "                                                            \n",
      "               error   keypoints  tentatives   inliers                     error   keypoints  tentatives   inliers\n",
      "     0.2    0.141953        8000          26        21           0.2    0.411776        8000          18        10\n",
      "     0.3    0.108269        8000         107        81           0.3    0.476911        8000          75        45\n",
      "     0.4    0.185352        8000         163        81           0.4    0.430950        8000         121        42\n",
      "     0.5    0.021555        8000         288       207           0.5    0.370583        8000         210        72\n",
      "     0.6    0.104663        8000         436       266           0.6    0.233731        8000         250        98\n",
      "     0.7    0.047674        8000        1131       842           0.7    0.137674        8000         791       450\n",
      "     0.8    0.033406        8000        2234      1804           0.8    0.103791        8000        1774      1182\n",
      "     0.9    0.019437        8000        3788      3304           0.9    0.124865        8000        3166      1967\n",
      "    Mean    0.082789        8000.0      1021.6     825.8        Mean    0.286285        8000.0       800.6     483.2\n",
      "                                                            \n"
     ]
    }
   ],
   "source": [
    "from kornia.feature.responses import CornerHarris\n",
    "from scale_space_detector import FixedScaleSpaceDetector\n",
    "from kornia.feature import LAFAffineShapeEstimator, LAFOrienter\n",
    "from warnings import catch_warnings\n",
    "\n",
    "\n",
    "def get_harris_descriptor(version, double_image=True):\n",
    "\n",
    "    sp = get_scale_pyramid(version, double_image=double_image, min_size=15)\n",
    "    nms_module = get_conv_quad_interp3d(version, eps=2e-4)\n",
    "    resp = CornerHarris(0.05)\n",
    "\n",
    "    with catch_warnings(record=True):\n",
    "        aff_module=LAFAffineShapeEstimator(patch_size=19)\n",
    "\n",
    "    if version == Version.ORIGINAL:\n",
    "        harris_affine_local_detector = ScaleSpaceDetector(num_features=8000,\n",
    "                                                          resp_module=resp,\n",
    "                                                          nms_module=nms_module,\n",
    "                                                          mr_size=6.0,\n",
    "                                                          scale_pyr_module=sp,\n",
    "                                                          aff_module=aff_module,\n",
    "                                                          ori_module=LAFOrienter(patch_size=19),\n",
    "                                                          minima_are_also_good=False)\n",
    "\n",
    "    else:\n",
    "        harris_affine_local_detector = FixedScaleSpaceDetector(num_features=8000,\n",
    "                                                               resp_module=resp,\n",
    "                                                               nms_module=nms_module,\n",
    "                                                               mr_size=6.0,\n",
    "                                                               scale_pyr_module=sp,\n",
    "                                                               aff_module=aff_module,\n",
    "                                                               ori_module=LAFOrienter(patch_size=19),\n",
    "                                                               minima_are_also_good=False)\n",
    "\n",
    "    return NumpyKorniaSiftDescriptor(local_feature=CustomSIFTFeature(harris_affine_local_detector))\n",
    "\n",
    "\n",
    "out1 = run_on_descriptor(descriptor=get_harris_descriptor(version=Version.FIXED), name=\"Kornia Harris+SIFT fixed\", print_output=False)\n",
    "out2 = run_on_descriptor(descriptor=get_harris_descriptor(version=Version.NOT_FIXED), name=\"Kornia Harris+SIFT not fixed\", print_output=False)\n",
    "compare_output(out1, out2)\n",
    "#run_on_descriptor(descriptor=get_harris_descriptor(version=Version.ORIGINAL), name=\"Kornia Harris+SIFT original\")\n"
   ]
  },
  {
   "cell_type": "code",
   "execution_count": null,
   "id": "3b50ab6f",
   "metadata": {
    "pycharm": {
     "name": "#%%\n"
    }
   },
   "outputs": [
    {
     "name": "stdout",
     "output_type": "stream",
     "text": [
      "Hessian detector with double image\n"
     ]
    },
    {
     "data": {
      "application/vnd.jupyter.widget-view+json": {
       "model_id": "",
       "version_major": 2,
       "version_minor": 0
      },
      "text/plain": [
       "  0%|          | 0/3 [00:00<?, ?it/s]"
      ]
     },
     "metadata": {},
     "output_type": "display_data"
    },
    {
     "data": {
      "application/vnd.jupyter.widget-view+json": {
       "model_id": "",
       "version_major": 2,
       "version_minor": 0
      },
      "text/plain": [
       "  0%|          | 0/5 [00:00<?, ?it/s]"
      ]
     },
     "metadata": {},
     "output_type": "display_data"
    },
    {
     "data": {
      "application/vnd.jupyter.widget-view+json": {
       "model_id": "",
       "version_major": 2,
       "version_minor": 0
      },
      "text/plain": [
       "  0%|          | 0/5 [00:00<?, ?it/s]"
      ]
     },
     "metadata": {},
     "output_type": "display_data"
    },
    {
     "data": {
      "application/vnd.jupyter.widget-view+json": {
       "model_id": "",
       "version_major": 2,
       "version_minor": 0
      },
      "text/plain": [
       "  0%|          | 0/5 [00:00<?, ?it/s]"
      ]
     },
     "metadata": {},
     "output_type": "display_data"
    },
    {
     "data": {
      "application/vnd.jupyter.widget-view+json": {
       "model_id": "",
       "version_major": 2,
       "version_minor": 0
      },
      "text/plain": [
       "  0%|          | 0/5 [00:00<?, ?it/s]"
      ]
     },
     "metadata": {},
     "output_type": "display_data"
    },
    {
     "data": {
      "application/vnd.jupyter.widget-view+json": {
       "model_id": "",
       "version_major": 2,
       "version_minor": 0
      },
      "text/plain": [
       "  0%|          | 0/8 [00:00<?, ?it/s]"
      ]
     },
     "metadata": {},
     "output_type": "display_data"
    },
    {
     "data": {
      "application/vnd.jupyter.widget-view+json": {
       "model_id": "",
       "version_major": 2,
       "version_minor": 0
      },
      "text/plain": [
       "  0%|          | 0/3 [00:00<?, ?it/s]"
      ]
     },
     "metadata": {},
     "output_type": "display_data"
    },
    {
     "data": {
      "application/vnd.jupyter.widget-view+json": {
       "model_id": "",
       "version_major": 2,
       "version_minor": 0
      },
      "text/plain": [
       "  0%|          | 0/5 [00:00<?, ?it/s]"
      ]
     },
     "metadata": {},
     "output_type": "display_data"
    },
    {
     "data": {
      "application/vnd.jupyter.widget-view+json": {
       "model_id": "16d9300afd9b47978885d9f8088aea80",
       "version_major": 2,
       "version_minor": 0
      },
      "text/plain": [
       "  0%|          | 0/5 [00:00<?, ?it/s]"
      ]
     },
     "metadata": {},
     "output_type": "display_data"
    }
   ],
   "source": [
    "from kornia.feature.responses import BlobHessian\n",
    "from kornia.feature import LAFAffineShapeEstimator, LAFOrienter\n",
    "from scale_space_detector import FixedScaleSpaceDetector\n",
    "from kornia.feature import ScaleSpaceDetector\n",
    "import warnings\n",
    "\n",
    "\n",
    "def get_hessian_descriptor(version, double_image=True):\n",
    "\n",
    "    sp = get_scale_pyramid(version, double_image=double_image, min_size=15)\n",
    "    nms_module = get_conv_quad_interp3d(version, eps=2e-4)\n",
    "    resp = BlobHessian()\n",
    "    with warnings.catch_warnings(record=True):\n",
    "        aff_module=LAFAffineShapeEstimator(patch_size=19)\n",
    "\n",
    "    if version == Version.ORIGINAL:\n",
    "        harris_affine_local_detector = ScaleSpaceDetector(num_features=8000,\n",
    "                                                          resp_module=resp,\n",
    "                                                          nms_module=nms_module,\n",
    "                                                          mr_size=6.0,\n",
    "                                                          scale_pyr_module=sp,\n",
    "                                                          aff_module=aff_module,\n",
    "                                                          ori_module=LAFOrienter(patch_size=19),\n",
    "                                                          minima_are_also_good=True)\n",
    "    else:\n",
    "        harris_affine_local_detector = FixedScaleSpaceDetector(num_features=8000,\n",
    "                                                               resp_module=resp,\n",
    "                                                               nms_module=nms_module,\n",
    "                                                               mr_size=6.0,\n",
    "                                                               scale_pyr_module=sp,\n",
    "                                                               aff_module=aff_module,\n",
    "                                                               ori_module=LAFOrienter(patch_size=19),\n",
    "                                                               minima_are_also_good=True)\n",
    "    return NumpyKorniaSiftDescriptor(local_feature=CustomSIFTFeature(harris_affine_local_detector))\n",
    "\n",
    "\n",
    "out1 = run_on_descriptor(descriptor=get_hessian_descriptor(version=Version.FIXED), name=\"Kornia Hessian+SIFT fixed\", print_output=False)\n",
    "out2 = run_on_descriptor(descriptor=get_hessian_descriptor(version=Version.NOT_FIXED), name=\"Kornia Hessian+SIFT not fixed\", print_output=False)\n",
    "compare_output(out1, out2)\n",
    "#run_on_descriptor(descriptor=get_hessian_descriptor(version=Version.ORIGINAL), name=\"Kornia Hessian+SIFT original\")\n"
   ]
  },
  {
   "cell_type": "code",
   "execution_count": null,
   "id": "e0250080",
   "metadata": {},
   "outputs": [],
   "source": []
  }
 ],
 "metadata": {
  "kernelspec": {
   "display_name": "Python 3 (ipykernel)",
   "language": "python",
   "name": "python3"
  },
  "language_info": {
   "codemirror_mode": {
    "name": "ipython",
    "version": 3
   },
   "file_extension": ".py",
   "mimetype": "text/x-python",
   "name": "python",
   "nbconvert_exporter": "python",
   "pygments_lexer": "ipython3",
   "version": "3.10.6"
  }
 },
 "nbformat": 4,
 "nbformat_minor": 5
}