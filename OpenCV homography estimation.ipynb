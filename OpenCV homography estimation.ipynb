{
 "cells": [
  {
   "cell_type": "markdown",
   "id": "458e5fa2",
   "metadata": {
    "pycharm": {
     "name": "#%% md\n"
    }
   },
   "source": [
    "# Homography estimation for OpenCV DoG implementation\n",
    "\n",
    "### Performed on 4 datasets\n",
    "\n",
    "* boat and bark datasets from https://www.robots.ox.ac.uk/~vgg/data/affine/\n",
    "* pure rotations of the first image from \"bark\" by multiples of 90 degrees\n",
    "* pure scaling of the first image from \"bark\" by multiples of 0.1 adjusted so that the aspect ratio is preserved"
   ]
  },
  {
   "cell_type": "markdown",
   "id": "1df1d32b",
   "metadata": {
    "pycharm": {
     "name": "#%% raw\n"
    }
   },
   "source": [
    "# Comparison of OpenCV DoG baseline and fixed version\n",
    "\n",
    "#### using SIFT descriptor for matching\n",
    "\n",
    "#### see https://github.com/opencv/opencv/pull/23124\n",
    "\n",
    "```\n",
    "\n",
    "Comparison of OpenCV baseline and fixed version:\n",
    "\n",
    "Without fix:                                              With fix:\n",
    "\n",
    "\n",
    "running experiment: synthetic rotation by multiples of pi/2\n",
    "\n",
    "rotation        error     tentatives       inliers        rotation        error      tentatives        inliers\n",
    "   90deg     0.499982           3464          3452           90deg     0.000383            3750           3742\n",
    "  180deg     0.704858           3369          3349          180deg     0.000668            3659           3643\n",
    "  270deg     0.499913           3438          3430          270deg     0.000971            3660           3649\n",
    "     Sum     1.704754          10271         10231             Sum     0.002022           11069          11034\n",
    "\n",
    "running experiment: bark\n",
    "\n",
    "                error     tentatives       inliers                        error      tentatives        inliers\n",
    "img2         1.332286            654           241            img2     1.128165             639            237\n",
    "img3         2.178040            565           298            img3     1.688878             579            276\n",
    "img4         1.339833            699           620            img4     0.960998             652            603\n",
    "img5         0.711655            490           433            img5     0.711485             461            400\n",
    "img6         1.256951            305           261            img6     1.004243             270            234\n",
    " Sum         6.818765           2713          1853             Sum     5.493769            2601           1750\n",
    "\n",
    "running experiment: boat\n",
    "\n",
    "                error     tentatives       inliers                        error      tentatives        inliers\n",
    "img2         0.313058           2468           990            img2     0.353406            2242            892\n",
    "img3         0.285631           1838           926            img3     0.160561            1729            903\n",
    "img4         1.327328            757           241            img4     0.369467             721            220\n",
    "img5         0.459227            550           140            img5     0.576069             547            144\n",
    "img6         5.696269            267            63            img6     5.957721             270             52\n",
    " Sum         8.081513           5880          2360             Sum     7.417225            5509           2211\n",
    "\n",
    "running experiment: synthetic rescaling by lanczos\n",
    "\n",
    "scale           error     tentatives       inliers           scale        error      tentatives        inliers\n",
    "0.2          0.283495            181           176             0.2     0.017970             158            154\n",
    "0.3          0.261653            391           374             0.3     0.024879             334            290\n",
    "0.4          0.212034            675           658             0.4     0.016976             632            590\n",
    "0.5          0.173158           1059          1042             0.5     0.006069             968            951\n",
    "0.6          0.142213           1402          1383             0.6     0.008504            1309           1281\n",
    "0.7          0.116124           1784          1621             0.7     0.007711            1682           1651\n",
    "0.8          0.069288           2315          2281             0.8     0.007902            2235           2087\n",
    "0.9          0.037124           2663          2625             0.9     0.003026            2618           2579\n",
    "Sum          1.295089          10470         10160             Sum     0.093035            9936           9583\n",
    "```"
   ]
  },
  {
   "cell_type": "code",
   "execution_count": 1,
   "id": "356076e4",
   "metadata": {
    "pycharm": {
     "name": "#%%\n"
    }
   },
   "outputs": [
    {
     "name": "stdout",
     "output_type": "stream",
     "text": [
      "Exact scale adjustments:\n",
      "scale: 0.2 => 0.2, dimension: 765x510 => (153, 102)\n",
      "scale: 0.3 => 0.2980392156862745, dimension: 765x510 => (228, 152)\n",
      "scale: 0.4 => 0.4, dimension: 765x510 => (306, 204)\n",
      "scale: 0.5 => 0.5019607843137255, dimension: 765x510 => (384, 256)\n",
      "scale: 0.6 => 0.6, dimension: 765x510 => (459, 306)\n",
      "scale: 0.7 => 0.6980392156862745, dimension: 765x510 => (534, 356)\n",
      "scale: 0.8 => 0.8, dimension: 765x510 => (612, 408)\n",
      "scale: 0.9 => 0.9019607843137255, dimension: 765x510 => (690, 460)\n"
     ]
    }
   ],
   "source": [
    "from tqdm.notebook import tqdm\n",
    "\n",
    "from dataset_utils import Hs_imgs_for_boat, Hs_imgs_for_bark, Hs_imgs_for_rotation, Hs_imgs_for_scaling\n",
    "from opencv_utils import get_tentatives, get_visible_part_mean_absolute_reprojection_error\n",
    "\n",
    "\n",
    "def compare_output(o1: str, o2: str):\n",
    "    for line in zip(o1.split(\"\\n\"), o2.split(\"\\n\")):\n",
    "        print(f\"{line[0]}{line[1]:>60}\")\n",
    "\n",
    "\n",
    "class Printer:\n",
    "    def __init__(self, print_output):\n",
    "        self.print_output = print_output\n",
    "        self.output = \"\"\n",
    "\n",
    "    def print(self, s=\"\"):\n",
    "        if self.print_output:\n",
    "            print(s)\n",
    "        self.output = self.output + s + \"\\n\"\n",
    "\n",
    "\n",
    "def homography_estimation_experiment(detector, Hs_gt, imgs, e_name, instance_names, p=Printer(print_output=True),\n",
    "                                     mean=True, sum=False):\n",
    "\n",
    "    p.print()\n",
    "    p.print(f\"running experiment: {e_name}\")\n",
    "    p.print()\n",
    "\n",
    "    kpts_0, desc_0 = detector.detectAndCompute(imgs[0], mask=None)\n",
    "    p.print(f\"reference img keypoints: {len(kpts_0)}\")\n",
    "    p.print()\n",
    "    p.print(f\"{'':>8}{'error':>12}{'keypoints':>12}{'tentatives':>12}{'inliers':>10}\")\n",
    "\n",
    "    sum_reproj_err = 0.0\n",
    "    sum_keypoints = 0\n",
    "    sum_tent_count = 0\n",
    "    sum_in_count = 0\n",
    "\n",
    "    for other_i in tqdm(range(1, len(imgs)), leave=False):\n",
    "        kpts_other, desc_other = detector.detectAndCompute(imgs[other_i], mask=None)\n",
    "        kpts_n = len(kpts_other)\n",
    "\n",
    "        src_pts, dst_pts = get_tentatives(kpts_0, desc_0, kpts_other, desc_other, ratio_threshold=0.8)\n",
    "        if len(src_pts) < 4:\n",
    "            print(f\"WARNING: less than 4 tentatives: {len(src_pts)}\")\n",
    "            continue\n",
    "\n",
    "        H_est, inlier_mask = cv.findHomography(src_pts, dst_pts,\n",
    "                                               cv.RANSAC,\n",
    "                                               maxIters=100000,\n",
    "                                               ransacReprojThreshold=0.5,\n",
    "                                               confidence=0.9999)\n",
    "        H_gt = Hs_gt[other_i - 1]\n",
    "\n",
    "\n",
    "        reproj_err = get_visible_part_mean_absolute_reprojection_error(imgs[0], imgs[other_i], H_gt, H_est)\n",
    "        tent_count = len(src_pts)\n",
    "        in_count = int(inlier_mask.sum())\n",
    "\n",
    "        p.print(f\"{instance_names[other_i - 1]:>8}{reproj_err:>12.6f}{kpts_n:>12}{tent_count:>12}{in_count:>10}\")\n",
    "        sum_reproj_err += reproj_err\n",
    "        sum_keypoints += kpts_n\n",
    "        sum_tent_count += tent_count\n",
    "        sum_in_count += in_count\n",
    "\n",
    "    l = len(imgs) - 1\n",
    "    if mean:\n",
    "        p.print(f\"{'Mean':>8}{sum_reproj_err/l:>12.6f}{sum_keypoints/l:>14.1f}{sum_tent_count/l:>12.1f}{sum_in_count/l:>10.1f}\")\n",
    "    if sum:\n",
    "        p.print(f\"{'Sum':>8}{sum_reproj_err:>12.6f}{sum_keypoints:>12}{sum_tent_count:>12}{sum_in_count:>10}\")\n",
    "\n",
    "\n",
    "Hs_boat, imgs_boat = Hs_imgs_for_boat()\n",
    "Hs_boat_rot, imgs_boat_rot = Hs_imgs_for_boat(rotate_query_imgs=True)\n",
    "Hs_bark, imgs_bark = Hs_imgs_for_bark()\n",
    "Hs_bark_rot, imgs_bark_rot = Hs_imgs_for_bark(rotate_query_imgs=True)\n",
    "Hs_rot, imgs_rot = Hs_imgs_for_rotation()\n",
    "print(\"Exact scale adjustments:\")\n",
    "Hs_scaling, imgs_scaling, scales = Hs_imgs_for_scaling()\n",
    "\n",
    "\n",
    "def run_on_descriptor(descriptor, name, print_output=True, mean=True, sum=True):\n",
    "    p = Printer(print_output)\n",
    "    p.print()\n",
    "    p.print(f\"descriptor: {name}:\")\n",
    "    p.print()\n",
    "    homography_estimation_experiment(descriptor, Hs_rot, imgs_rot, \"synthetic pi rotation\", [\"90deg\", \"180deg\", \"270deg\"], p, mean, sum)\n",
    "    homography_estimation_experiment(descriptor, Hs_bark, imgs_bark, \"bark\", [f\"img{i}\" for i in range(2, 7)], p, mean, sum)\n",
    "    homography_estimation_experiment(descriptor, Hs_bark_rot, imgs_bark_rot, \"bark rotated\", [f\"img{i}\" for i in range(2, 7)], p, mean, sum)\n",
    "    homography_estimation_experiment(descriptor, Hs_boat, imgs_boat, \"boat\", [f\"img{i}\" for i in range(2, 7)], p, mean, sum)\n",
    "    homography_estimation_experiment(descriptor, Hs_boat_rot, imgs_boat_rot, \"boat rotated\", [f\"img{i}\" for i in range(2, 7)], p, mean, sum)\n",
    "    homography_estimation_experiment(descriptor, Hs_scaling, imgs_scaling, \"synthetic rescaling lanczos\", [f\"{s}\" for s in scales], p, mean, sum)\n",
    "    return None if print_output else p.output\n"
   ]
  },
  {
   "cell_type": "code",
   "execution_count": 2,
   "id": "72de6f24",
   "metadata": {
    "pycharm": {
     "name": "#%%\n"
    }
   },
   "outputs": [
    {
     "name": "stdout",
     "output_type": "stream",
     "text": [
      "\n",
      "descriptor: OpenCV SIFT:\n",
      "\n",
      "\n",
      "running experiment: synthetic pi rotation\n",
      "\n",
      "reference img keypoints: 3731\n",
      "\n",
      "               error   keypoints  tentatives   inliers\n"
     ]
    },
    {
     "data": {
      "application/vnd.jupyter.widget-view+json": {
       "model_id": "e399f4b206d9451fa9aa1abb5d6cc455",
       "version_major": 2,
       "version_minor": 0
      },
      "text/plain": [
       "  0%|          | 0/3 [00:00<?, ?it/s]"
      ]
     },
     "metadata": {},
     "output_type": "display_data"
    },
    {
     "name": "stdout",
     "output_type": "stream",
     "text": [
      "   90deg    0.499982        3715        3464      3452\n",
      "  180deg    0.704858        3694        3369      3349\n",
      "  270deg    0.499913        3721        3438      3430\n",
      "    Mean    0.568251        3710.0      3423.7    3410.3\n",
      "     Sum    1.704754       11130       10271     10231\n",
      "\n",
      "running experiment: bark\n",
      "\n",
      "reference img keypoints: 3731\n",
      "\n",
      "               error   keypoints  tentatives   inliers\n"
     ]
    },
    {
     "data": {
      "application/vnd.jupyter.widget-view+json": {
       "model_id": "db2992bf467645e7a769b894a692e545",
       "version_major": 2,
       "version_minor": 0
      },
      "text/plain": [
       "  0%|          | 0/5 [00:00<?, ?it/s]"
      ]
     },
     "metadata": {},
     "output_type": "display_data"
    },
    {
     "name": "stdout",
     "output_type": "stream",
     "text": [
      "    img2    1.332286        2973         654       241\n",
      "    img3    2.178040        3935         565       298\n",
      "    img4    1.339833        4774         699       620\n",
      "    img5    0.711655        4510         490       433\n",
      "    img6    1.256951        4678         305       261\n",
      "    Mean    1.363753        4174.0       542.6     370.6\n",
      "     Sum    6.818765       20870        2713      1853\n",
      "\n",
      "running experiment: bark rotated\n",
      "\n",
      "reference img keypoints: 3731\n",
      "\n",
      "               error   keypoints  tentatives   inliers\n"
     ]
    },
    {
     "data": {
      "application/vnd.jupyter.widget-view+json": {
       "model_id": "c463a13ed5984173b12d802244929344",
       "version_major": 2,
       "version_minor": 0
      },
      "text/plain": [
       "  0%|          | 0/5 [00:00<?, ?it/s]"
      ]
     },
     "metadata": {},
     "output_type": "display_data"
    },
    {
     "name": "stdout",
     "output_type": "stream",
     "text": [
      "    img2    1.373144        2940         643       230\n",
      "    img3    1.543178        3893         560       300\n",
      "    img4    0.951540        4739         675       613\n",
      "    img5    1.040785        4504         504       442\n",
      "    img6    0.909422        4714         290       250\n",
      "    Mean    1.163614        4158.0       534.4     367.0\n",
      "     Sum    5.818068       20790        2672      1835\n",
      "\n",
      "running experiment: boat\n",
      "\n",
      "reference img keypoints: 8849\n",
      "\n",
      "               error   keypoints  tentatives   inliers\n"
     ]
    },
    {
     "data": {
      "application/vnd.jupyter.widget-view+json": {
       "model_id": "08cc1dd1951544a1a5855799210e35da",
       "version_major": 2,
       "version_minor": 0
      },
      "text/plain": [
       "  0%|          | 0/5 [00:00<?, ?it/s]"
      ]
     },
     "metadata": {},
     "output_type": "display_data"
    },
    {
     "name": "stdout",
     "output_type": "stream",
     "text": [
      "    img2    0.313058        8545        2468       990\n",
      "    img3    0.285631        6558        1838       926\n",
      "    img4    1.327328        5269         757       241\n",
      "    img5    0.459227        4932         550       140\n",
      "    img6    5.696269        4257         267        63\n",
      "    Mean    1.616303        5912.2      1176.0     472.0\n",
      "     Sum    8.081513       29561        5880      2360\n",
      "\n",
      "running experiment: boat rotated\n",
      "\n",
      "reference img keypoints: 8849\n",
      "\n",
      "               error   keypoints  tentatives   inliers\n"
     ]
    },
    {
     "data": {
      "application/vnd.jupyter.widget-view+json": {
       "model_id": "be40b7cbb5464d7da4d46617275c2fcc",
       "version_major": 2,
       "version_minor": 0
      },
      "text/plain": [
       "  0%|          | 0/5 [00:00<?, ?it/s]"
      ]
     },
     "metadata": {},
     "output_type": "display_data"
    },
    {
     "name": "stdout",
     "output_type": "stream",
     "text": [
      "    img2    0.574185        8478        2465       883\n",
      "    img3    0.722569        6646        1845       959\n",
      "    img4    1.509766        5268         767       222\n",
      "    img5    0.591476        4897         568       153\n",
      "    img6    6.130859        4256         262        58\n",
      "    Mean    1.905771        5909.0      1181.4     455.0\n",
      "     Sum    9.528854       29545        5907      2275\n",
      "\n",
      "running experiment: synthetic rescaling lanczos\n",
      "\n",
      "reference img keypoints: 3706\n",
      "\n",
      "               error   keypoints  tentatives   inliers\n"
     ]
    },
    {
     "data": {
      "application/vnd.jupyter.widget-view+json": {
       "model_id": "ae9a19ee60b84451b4263387348c989a",
       "version_major": 2,
       "version_minor": 0
      },
      "text/plain": [
       "  0%|          | 0/8 [00:00<?, ?it/s]"
      ]
     },
     "metadata": {},
     "output_type": "display_data"
    },
    {
     "name": "stdout",
     "output_type": "stream",
     "text": [
      "     0.2    0.283495         239         181       176\n",
      "     0.3    0.261653         522         391       374\n",
      "     0.4    0.212034         896         675       658\n",
      "     0.5    0.173158        1402        1059      1042\n",
      "     0.6    0.142213        1875        1402      1383\n",
      "     0.7    0.116124        2409        1784      1621\n",
      "     0.8    0.069288        2930        2315      2281\n",
      "     0.9    0.037124        3470        2663      2625\n",
      "    Mean    0.161886        1717.9      1308.8    1270.0\n",
      "     Sum    1.295089       13743       10470     10160\n"
     ]
    }
   ],
   "source": [
    "import cv2 as cv\n",
    "\n",
    "descriptor = cv.SIFT_create()\n",
    "run_on_descriptor(descriptor, \"OpenCV SIFT\")"
   ]
  }
 ],
 "metadata": {
  "kernelspec": {
   "display_name": "Python 3 (ipykernel)",
   "language": "python",
   "name": "python3"
  },
  "language_info": {
   "codemirror_mode": {
    "name": "ipython",
    "version": 3
   },
   "file_extension": ".py",
   "mimetype": "text/x-python",
   "name": "python",
   "nbconvert_exporter": "python",
   "pygments_lexer": "ipython3",
   "version": "3.10.6"
  }
 },
 "nbformat": 4,
 "nbformat_minor": 5
}