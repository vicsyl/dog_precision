{
 "cells": [
  {
   "cell_type": "markdown",
   "id": "cd4aefbd",
   "metadata": {
    "pycharm": {
     "name": "#%% md\n"
    }
   },
   "source": [
    "# Homography estimation for OpenCV DoG implementation using VSAC\n",
    "\n",
    "## Performed on 6 datasets\n",
    "\n",
    "* pure rotations of the first image from \"bark\" by multiples of 90 degrees\n",
    "* pure scaling of the first image from \"bark\" by multiples of 0.1 adjusted so that the aspect ratio is preserved using Lanczos resampling\n",
    "* boat and bark datasets from https://www.robots.ox.ac.uk/~vgg/data/affine/\n",
    "* boat and bark datasets with the query images rotated by 180 degrees\n",
    "* using VSAC for homography estimation\n",
    "* using SIFT descriptor for matching\n",
    "* see https://github.com/opencv/opencv/pull/23124\n",
    "\n",
    "## Comparison of OpenCV DoG baseline and fixed version\n",
    "\n",
    "\n",
    "### Experiment: synthetic pi rotation\n",
    "\n",
    "* reference img keypoints\n",
    "\n",
    "|fix | baseline|\n",
    "|---|--|\n",
    "|3758|3731|\n",
    "\n",
    "* Homography estimation\n",
    "| | fix | baseline|fix | baseline|fix | baseline|fix | baseline |\n",
    "|----|----|----|----|----|----|----|----|----|\n",
    "|  |  error| | keypoints| | tentatives| | inliers| |\n",
    "| 90° |  __0.000391__ | 0.499975 |  3751&nbsp;&nbsp;&nbsp; | 3715&nbsp;&nbsp;&nbsp; |  3750&nbsp;&nbsp;&nbsp; | 3464&nbsp;&nbsp;&nbsp; |  3742&nbsp;&nbsp;&nbsp; | 3452&nbsp;&nbsp;&nbsp; | \n",
    "| 180° |  __0.000669__ | 0.706020 |  3748&nbsp;&nbsp;&nbsp; | 3694&nbsp;&nbsp;&nbsp; |  3659&nbsp;&nbsp;&nbsp; | 3369&nbsp;&nbsp;&nbsp; |  3643&nbsp;&nbsp;&nbsp; | 3350&nbsp;&nbsp;&nbsp; | \n",
    "| 270° |  __0.000959__ | 0.499914 |  3749&nbsp;&nbsp;&nbsp; | 3721&nbsp;&nbsp;&nbsp; |  3660&nbsp;&nbsp;&nbsp; | 3438&nbsp;&nbsp;&nbsp; |  3649&nbsp;&nbsp;&nbsp; | 3430&nbsp;&nbsp;&nbsp; | \n",
    "| Mean |  __0.000673__ | 0.568636 |  3749.3 | 3710.0 |  3689.7 | 3423.7 |  3678.0 | 3410.7 | \n",
    "\n",
    "### Experiment: synthetic scaling lanczos\n",
    "\n",
    "* reference img keypoints\n",
    "\n",
    "|fix | baseline|\n",
    "|---|--|\n",
    "|3743|3706|\n",
    "\n",
    "* Homography estimation\n",
    "| | fix | baseline|fix | baseline|fix | baseline|fix | baseline |\n",
    "|----|----|----|----|----|----|----|----|----|\n",
    "|  |  error| | keypoints| | tentatives| | inliers| |\n",
    "| 0.2 |  __0.017982__ | 0.283494 |  222&nbsp;&nbsp;&nbsp; | 239&nbsp;&nbsp;&nbsp; |  158&nbsp;&nbsp;&nbsp; | 181&nbsp;&nbsp;&nbsp; |  154&nbsp;&nbsp;&nbsp; | 176&nbsp;&nbsp;&nbsp; | \n",
    "| 0.3 |  __0.019072__ | 0.255198 |  479&nbsp;&nbsp;&nbsp; | 522&nbsp;&nbsp;&nbsp; |  334&nbsp;&nbsp;&nbsp; | 391&nbsp;&nbsp;&nbsp; |  326&nbsp;&nbsp;&nbsp; | 384&nbsp;&nbsp;&nbsp; | \n",
    "| 0.4 |  __0.007938__ | 0.211497 |  867&nbsp;&nbsp;&nbsp; | 896&nbsp;&nbsp;&nbsp; |  632&nbsp;&nbsp;&nbsp; | 675&nbsp;&nbsp;&nbsp; |  617&nbsp;&nbsp;&nbsp; | 660&nbsp;&nbsp;&nbsp; | \n",
    "| 0.5 |  __0.006273__ | 0.173625 |  1302&nbsp;&nbsp;&nbsp; | 1402&nbsp;&nbsp;&nbsp; |  968&nbsp;&nbsp;&nbsp; | 1059&nbsp;&nbsp;&nbsp; |  950&nbsp;&nbsp;&nbsp; | 1043&nbsp;&nbsp;&nbsp; | \n",
    "| 0.6 |  __0.006734__ | 0.141523 |  1822&nbsp;&nbsp;&nbsp; | 1875&nbsp;&nbsp;&nbsp; |  1309&nbsp;&nbsp;&nbsp; | 1402&nbsp;&nbsp;&nbsp; |  1282&nbsp;&nbsp;&nbsp; | 1382&nbsp;&nbsp;&nbsp; | \n",
    "| 0.7 |  __0.007100__ | 0.108050 |  2343&nbsp;&nbsp;&nbsp; | 2409&nbsp;&nbsp;&nbsp; |  1682&nbsp;&nbsp;&nbsp; | 1784&nbsp;&nbsp;&nbsp; |  1651&nbsp;&nbsp;&nbsp; | 1753&nbsp;&nbsp;&nbsp; | \n",
    "| 0.8 |  __0.004312__ | 0.069094 |  2906&nbsp;&nbsp;&nbsp; | 2930&nbsp;&nbsp;&nbsp; |  2235&nbsp;&nbsp;&nbsp; | 2315&nbsp;&nbsp;&nbsp; |  2204&nbsp;&nbsp;&nbsp; | 2287&nbsp;&nbsp;&nbsp; | \n",
    "| 0.9 |  __0.003662__ | 0.037321 |  3495&nbsp;&nbsp;&nbsp; | 3470&nbsp;&nbsp;&nbsp; |  2618&nbsp;&nbsp;&nbsp; | 2663&nbsp;&nbsp;&nbsp; |  2577&nbsp;&nbsp;&nbsp; | 2626&nbsp;&nbsp;&nbsp; | \n",
    "| Mean |  __0.009134__ | 0.159975 |  1679.5 | 1717.9 |  1242.0 | 1308.8 |  1220.1 | 1288.9 | \n",
    "\n",
    "### Experiment: bark\n",
    "\n",
    "* reference img keypoints\n",
    "\n",
    "|fix | baseline|\n",
    "|---|--|\n",
    "|3758|3731|\n",
    "\n",
    "* Homography estimation\n",
    "| | fix | baseline|fix | baseline|fix | baseline|fix | baseline |\n",
    "|----|----|----|----|----|----|----|----|----|\n",
    "|  |  error| | keypoints| | tentatives| | inliers| |\n",
    "| img2 |  1.088955 | __1.038649__ |  3034&nbsp;&nbsp;&nbsp; | 2973&nbsp;&nbsp;&nbsp; |  639&nbsp;&nbsp;&nbsp; | 654&nbsp;&nbsp;&nbsp; |  265&nbsp;&nbsp;&nbsp; | 277&nbsp;&nbsp;&nbsp; | \n",
    "| img3 |  __1.678838__ | 2.087134 |  4037&nbsp;&nbsp;&nbsp; | 3935&nbsp;&nbsp;&nbsp; |  579&nbsp;&nbsp;&nbsp; | 565&nbsp;&nbsp;&nbsp; |  367&nbsp;&nbsp;&nbsp; | 351&nbsp;&nbsp;&nbsp; | \n",
    "| img4 |  __0.966489__ | 1.325613 |  4695&nbsp;&nbsp;&nbsp; | 4774&nbsp;&nbsp;&nbsp; |  652&nbsp;&nbsp;&nbsp; | 699&nbsp;&nbsp;&nbsp; |  615&nbsp;&nbsp;&nbsp; | 648&nbsp;&nbsp;&nbsp; | \n",
    "| img5 |  __0.705957__ | 0.717176 |  4292&nbsp;&nbsp;&nbsp; | 4510&nbsp;&nbsp;&nbsp; |  461&nbsp;&nbsp;&nbsp; | 490&nbsp;&nbsp;&nbsp; |  418&nbsp;&nbsp;&nbsp; | 447&nbsp;&nbsp;&nbsp; | \n",
    "| img6 |  __1.001833__ | 1.257969 |  4353&nbsp;&nbsp;&nbsp; | 4678&nbsp;&nbsp;&nbsp; |  270&nbsp;&nbsp;&nbsp; | 305&nbsp;&nbsp;&nbsp; |  234&nbsp;&nbsp;&nbsp; | 263&nbsp;&nbsp;&nbsp; | \n",
    "| Mean |  __1.088414__ | 1.285308 |  4082.2 | 4174.0 |  520.2 | 542.6 |  379.8 | 397.2 | \n",
    "\n",
    "### Experiment: boat\n",
    "\n",
    "* reference img keypoints\n",
    "\n",
    "|fix | baseline|\n",
    "|---|--|\n",
    "|8359|8849|\n",
    "\n",
    "* Homography estimation\n",
    "| | fix | baseline|fix | baseline|fix | baseline|fix | baseline |\n",
    "|----|----|----|----|----|----|----|----|----|\n",
    "|  |  error| | keypoints| | tentatives| | inliers| |\n",
    "| img2 |  0.247935 | __0.232995__ |  7949&nbsp;&nbsp;&nbsp; | 8545&nbsp;&nbsp;&nbsp; |  2242&nbsp;&nbsp;&nbsp; | 2468&nbsp;&nbsp;&nbsp; |  1026&nbsp;&nbsp;&nbsp; | 1131&nbsp;&nbsp;&nbsp; | \n",
    "| img3 |  __0.074632__ | 0.227991 |  6145&nbsp;&nbsp;&nbsp; | 6558&nbsp;&nbsp;&nbsp; |  1729&nbsp;&nbsp;&nbsp; | 1838&nbsp;&nbsp;&nbsp; |  1074&nbsp;&nbsp;&nbsp; | 1141&nbsp;&nbsp;&nbsp; | \n",
    "| img4 |  0.481725 | __0.312060__ |  4912&nbsp;&nbsp;&nbsp; | 5269&nbsp;&nbsp;&nbsp; |  721&nbsp;&nbsp;&nbsp; | 757&nbsp;&nbsp;&nbsp; |  233&nbsp;&nbsp;&nbsp; | 240&nbsp;&nbsp;&nbsp; | \n",
    "| img5 |  1.111087 | __0.392265__ |  4674&nbsp;&nbsp;&nbsp; | 4932&nbsp;&nbsp;&nbsp; |  547&nbsp;&nbsp;&nbsp; | 550&nbsp;&nbsp;&nbsp; |  158&nbsp;&nbsp;&nbsp; | 159&nbsp;&nbsp;&nbsp; | \n",
    "| img6 |  6.005496 | __5.774213__ |  3896&nbsp;&nbsp;&nbsp; | 4257&nbsp;&nbsp;&nbsp; |  270&nbsp;&nbsp;&nbsp; | 267&nbsp;&nbsp;&nbsp; |  59&nbsp;&nbsp;&nbsp; | 68&nbsp;&nbsp;&nbsp; | \n",
    "| Mean |  1.584175 | __1.387905__ |  5515.2 | 5912.2 |  1101.8 | 1176.0 |  510.0 | 547.8 | \n",
    "\n",
    "### Experiment: bark rotated\n",
    "\n",
    "* reference img keypoints\n",
    "\n",
    "|fix | baseline|\n",
    "|---|--|\n",
    "|3758|3731|\n",
    "\n",
    "* Homography estimation\n",
    "| | fix | baseline|fix | baseline|fix | baseline|fix | baseline |\n",
    "|----|----|----|----|----|----|----|----|----|\n",
    "|  |  error| | keypoints| | tentatives| | inliers| |\n",
    "| img2 |  __0.948401__ | 1.404376 |  3043&nbsp;&nbsp;&nbsp; | 2940&nbsp;&nbsp;&nbsp; |  640&nbsp;&nbsp;&nbsp; | 643&nbsp;&nbsp;&nbsp; |  265&nbsp;&nbsp;&nbsp; | 262&nbsp;&nbsp;&nbsp; | \n",
    "| img3 |  1.689409 | __1.542761__ |  4025&nbsp;&nbsp;&nbsp; | 3893&nbsp;&nbsp;&nbsp; |  573&nbsp;&nbsp;&nbsp; | 560&nbsp;&nbsp;&nbsp; |  360&nbsp;&nbsp;&nbsp; | 357&nbsp;&nbsp;&nbsp; | \n",
    "| img4 |  0.965037 | __0.943695__ |  4676&nbsp;&nbsp;&nbsp; | 4739&nbsp;&nbsp;&nbsp; |  657&nbsp;&nbsp;&nbsp; | 675&nbsp;&nbsp;&nbsp; |  617&nbsp;&nbsp;&nbsp; | 631&nbsp;&nbsp;&nbsp; | \n",
    "| img5 |  __0.707445__ | 1.054797 |  4291&nbsp;&nbsp;&nbsp; | 4504&nbsp;&nbsp;&nbsp; |  461&nbsp;&nbsp;&nbsp; | 504&nbsp;&nbsp;&nbsp; |  416&nbsp;&nbsp;&nbsp; | 464&nbsp;&nbsp;&nbsp; | \n",
    "| img6 |  0.999364 | __0.909425__ |  4383&nbsp;&nbsp;&nbsp; | 4714&nbsp;&nbsp;&nbsp; |  265&nbsp;&nbsp;&nbsp; | 290&nbsp;&nbsp;&nbsp; |  232&nbsp;&nbsp;&nbsp; | 252&nbsp;&nbsp;&nbsp; | \n",
    "| Mean |  __1.061931__ | 1.171011 |  4083.6 | 4158.0 |  519.2 | 534.4 |  378.0 | 393.2 | \n",
    "\n",
    "### Experiment: boat rotated\n",
    "\n",
    "* reference img keypoints\n",
    "\n",
    "|fix | baseline|\n",
    "|---|--|\n",
    "|8359|8849|\n",
    "\n",
    "* Homography estimation\n",
    "| | fix | baseline|fix | baseline|fix | baseline|fix | baseline |\n",
    "|----|----|----|----|----|----|----|----|----|\n",
    "|  |  error| | keypoints| | tentatives| | inliers| |\n",
    "| img2 |  __0.217851__ | 0.665039 |  7953&nbsp;&nbsp;&nbsp; | 8478&nbsp;&nbsp;&nbsp; |  2247&nbsp;&nbsp;&nbsp; | 2465&nbsp;&nbsp;&nbsp; |  1063&nbsp;&nbsp;&nbsp; | 1134&nbsp;&nbsp;&nbsp; | \n",
    "| img3 |  __0.076453__ | 0.563603 |  6142&nbsp;&nbsp;&nbsp; | 6646&nbsp;&nbsp;&nbsp; |  1728&nbsp;&nbsp;&nbsp; | 1845&nbsp;&nbsp;&nbsp; |  1072&nbsp;&nbsp;&nbsp; | 1125&nbsp;&nbsp;&nbsp; | \n",
    "| img4 |  __0.356539__ | 0.570092 |  4916&nbsp;&nbsp;&nbsp; | 5268&nbsp;&nbsp;&nbsp; |  730&nbsp;&nbsp;&nbsp; | 767&nbsp;&nbsp;&nbsp; |  225&nbsp;&nbsp;&nbsp; | 256&nbsp;&nbsp;&nbsp; | \n",
    "| img5 |  0.656344 | __0.571314__ |  4658&nbsp;&nbsp;&nbsp; | 4897&nbsp;&nbsp;&nbsp; |  549&nbsp;&nbsp;&nbsp; | 568&nbsp;&nbsp;&nbsp; |  166&nbsp;&nbsp;&nbsp; | 156&nbsp;&nbsp;&nbsp; | \n",
    "| img6 |  __5.922710__ | 6.044776 |  3920&nbsp;&nbsp;&nbsp; | 4256&nbsp;&nbsp;&nbsp; |  277&nbsp;&nbsp;&nbsp; | 262&nbsp;&nbsp;&nbsp; |  61&nbsp;&nbsp;&nbsp; | 66&nbsp;&nbsp;&nbsp; | \n",
    "| Mean |  __1.445979__ | 1.682965 |  5517.8 | 5909.0 |  1106.2 | 1181.4 |  517.4 | 547.4 | \n"
   ]
  },
  {
   "cell_type": "code",
   "execution_count": 1,
   "id": "815feb20",
   "metadata": {
    "pycharm": {
     "name": "#%%\n"
    }
   },
   "outputs": [
    {
     "name": "stdout",
     "output_type": "stream",
     "text": [
      "Exact scale adjustments:\n",
      "scale: 0.2 => 0.2, dimension: 765x510 => 153x102\n",
      "scale: 0.3 => 0.2980392156862745, dimension: 765x510 => 228x152\n",
      "scale: 0.4 => 0.4, dimension: 765x510 => 306x204\n",
      "scale: 0.5 => 0.5019607843137255, dimension: 765x510 => 384x256\n",
      "scale: 0.6 => 0.6, dimension: 765x510 => 459x306\n",
      "scale: 0.7 => 0.6980392156862745, dimension: 765x510 => 534x356\n",
      "scale: 0.8 => 0.8, dimension: 765x510 => 612x408\n",
      "scale: 0.9 => 0.9019607843137255, dimension: 765x510 => 690x460\n"
     ]
    }
   ],
   "source": [
    "from tqdm.notebook import tqdm\n",
    "\n",
    "from dataset_utils import Hs_imgs_for_boat, Hs_imgs_for_bark, Hs_imgs_for_rotation, Hs_imgs_for_scaling\n",
    "from opencv_utils import get_tentatives, get_visible_part_mean_absolute_reprojection_error\n",
    "from jupyter_utils import JupyterPrinter\n",
    "\n",
    "import pvsac\n",
    "\n",
    "\n",
    "def homography_estimation_experiment(detector, Hs_gt, imgs, e_name, instance_names, p,\n",
    "                                     mean=True, sum=False):\n",
    "    p.print()\n",
    "    p.print(f\"running experiment: {e_name}\")\n",
    "    p.add_experiment(e_name)\n",
    "    p.print()\n",
    "\n",
    "    kpts_0, desc_0 = detector.detectAndCompute(imgs[0], mask=None)\n",
    "\n",
    "    p.print(f\"reference img keypoints: {len(kpts_0)}\")\n",
    "    p.add_special_key(\"reference img keypoints\", str(len(kpts_0)))\n",
    "    p.print()\n",
    "    p.print(f\"{'':>8}{'error':>12}{'keypoints':>12}{'tentatives':>12}{'inliers':>10}\")\n",
    "\n",
    "    sum_reproj_err = 0.0\n",
    "    sum_keypoints = 0\n",
    "    sum_tent_count = 0\n",
    "    sum_in_count = 0\n",
    "\n",
    "    for other_i in tqdm(range(1, len(imgs)), leave=False):\n",
    "        kpts_other, desc_other = detector.detectAndCompute(imgs[other_i], mask=None)\n",
    "        kpts_n = len(kpts_other)\n",
    "\n",
    "        src_pts, dst_pts = get_tentatives(kpts_0, desc_0, kpts_other, desc_other, ratio_threshold=0.8)\n",
    "        if len(src_pts) < 4:\n",
    "            print(f\"WARNING: less than 4 tentatives: {len(src_pts)}\")\n",
    "            p.print(f\"{instance_names[other_i - 1]:>8}{'N/A':>12}{'N/A':>12}{'N/A':>12}{'N/A':>10}\")\n",
    "            p.add_data([instance_names[other_i - 1], 'N/A', 'N/A', 'N/A', 'N/A'])\n",
    "            continue\n",
    "\n",
    "        params = pvsac.Params(pvsac.EstimationMethod.Homography, 0.5, 0.9999, 100000, pvsac.SamplingMethod.SAMPLING_UNIFORM, pvsac.ScoreMethod.SCORE_METHOD_MSAC)\n",
    "        H_est, inlier_mask = pvsac.estimate(params, src_pts, dst_pts)\n",
    "\n",
    "        H_gt = Hs_gt[other_i - 1]\n",
    "\n",
    "        reproj_err = get_visible_part_mean_absolute_reprojection_error(imgs[0], imgs[other_i], H_gt, H_est)\n",
    "        tent_count = len(src_pts)\n",
    "        in_count = int(inlier_mask.sum())\n",
    "\n",
    "        p.print(f\"{instance_names[other_i - 1]:>8}{reproj_err:>12.6f}{kpts_n:>12}{tent_count:>12}{in_count:>10}\")\n",
    "        p.add_data([instance_names[other_i - 1], f\"{reproj_err:.6f}\", f\"{kpts_n}\", f\"{tent_count}\", f\"{in_count}\"])\n",
    "        sum_reproj_err += reproj_err\n",
    "        sum_keypoints += kpts_n\n",
    "        sum_tent_count += tent_count\n",
    "        sum_in_count += in_count\n",
    "\n",
    "    l = len(imgs) - 1\n",
    "    if mean:\n",
    "        p.print(f\"{'Mean':>8}{sum_reproj_err / l:>12.6f}{sum_keypoints / l:>14.1f}{sum_tent_count / l:>12.1f}{sum_in_count / l:>10.1f}\")\n",
    "        p.add_data([\"Mean\", f\"{sum_reproj_err / l:.6f}\", f\"{sum_keypoints / l:.1f}\", f\"{sum_tent_count / l:.1f}\", f\"{sum_in_count / l:.1f}\"])\n",
    "    if sum:\n",
    "        p.print(f\"{'Sum':>8}{sum_reproj_err:>12.6f}{sum_keypoints:>12}{sum_tent_count:>12}{sum_in_count:>10}\")\n",
    "        p.add_data([\"Sum\", f\"{sum_reproj_err:.6f}\", f\"{sum_keypoints}\", f\"{sum_tent_count}\", f\"{sum_in_count}\"])\n",
    "\n",
    "\n",
    "Hs_boat, imgs_boat = Hs_imgs_for_boat()\n",
    "Hs_boat_rot, imgs_boat_rot = Hs_imgs_for_boat(rotate_query_imgs=True)\n",
    "Hs_bark, imgs_bark = Hs_imgs_for_bark()\n",
    "Hs_bark_rot, imgs_bark_rot = Hs_imgs_for_bark(rotate_query_imgs=True)\n",
    "Hs_rot, imgs_rot = Hs_imgs_for_rotation()\n",
    "print(\"Exact scale adjustments:\")\n",
    "Hs_scaling, imgs_scaling, scales = Hs_imgs_for_scaling()\n",
    "\n",
    "\n",
    "def run_on_descriptor(descriptor, detector_name, print_output=True, mean=True, sum=False):\n",
    "    p = JupyterPrinter(print_output, detector_name)\n",
    "    p.print()\n",
    "    p.print(f\"descriptor: {detector_name}:\")\n",
    "    p.print()\n",
    "    homography_estimation_experiment(descriptor, Hs_rot, imgs_rot, \"synthetic pi rotation\", [\"90°\", \"180°\", \"270°\"], p, mean, sum)\n",
    "    homography_estimation_experiment(descriptor, Hs_scaling, imgs_scaling, \"synthetic scaling lanczos\", [f\"{s}\" for s in scales], p, mean, sum)\n",
    "    homography_estimation_experiment(descriptor, Hs_bark, imgs_bark, \"bark\", [f\"img{i}\" for i in range(2, 7)], p, mean, sum)\n",
    "    homography_estimation_experiment(descriptor, Hs_bark_rot, imgs_bark_rot, \"bark rotated\", [f\"img{i}\" for i in range(2, 7)], p, mean, sum)\n",
    "    homography_estimation_experiment(descriptor, Hs_boat, imgs_boat, \"boat\", [f\"img{i}\" for i in range(2, 7)], p, mean, sum)\n",
    "    homography_estimation_experiment(descriptor, Hs_boat_rot, imgs_boat_rot, \"boat rotated\", [f\"img{i}\" for i in range(2, 7)], p, mean, sum)\n",
    "    return p"
   ]
  },
  {
   "cell_type": "code",
   "execution_count": 2,
   "id": "d26561b0",
   "metadata": {
    "pycharm": {
     "name": "#%%\n"
    }
   },
   "outputs": [
    {
     "name": "stdout",
     "output_type": "stream",
     "text": [
      "\n",
      "descriptor: baseline:\n",
      "\n",
      "\n",
      "running experiment: synthetic pi rotation\n",
      "\n",
      "reference img keypoints: 3731\n",
      "\n",
      "               error   keypoints  tentatives   inliers\n"
     ]
    },
    {
     "data": {
      "application/vnd.jupyter.widget-view+json": {
       "model_id": "",
       "version_major": 2,
       "version_minor": 0
      },
      "text/plain": [
       "  0%|          | 0/3 [00:00<?, ?it/s]"
      ]
     },
     "metadata": {},
     "output_type": "display_data"
    },
    {
     "name": "stdout",
     "output_type": "stream",
     "text": [
      "   90deg    0.499975        3715        3464      3452\n",
      "  180deg    0.706020        3694        3369      3350\n",
      "  270deg    0.499914        3721        3438      3430\n",
      "    Mean    0.568636        3710.0      3423.7    3410.7\n",
      "     Sum    1.705909       11130       10271     10232\n",
      "\n",
      "running experiment: bark\n",
      "\n",
      "reference img keypoints: 3731\n",
      "\n",
      "               error   keypoints  tentatives   inliers\n"
     ]
    },
    {
     "data": {
      "application/vnd.jupyter.widget-view+json": {
       "model_id": "",
       "version_major": 2,
       "version_minor": 0
      },
      "text/plain": [
       "  0%|          | 0/5 [00:00<?, ?it/s]"
      ]
     },
     "metadata": {},
     "output_type": "display_data"
    },
    {
     "name": "stdout",
     "output_type": "stream",
     "text": [
      "    img2    1.038649        2973         654       277\n",
      "    img3    2.087134        3935         565       351\n",
      "    img4    1.325613        4774         699       648\n",
      "    img5    0.717176        4510         490       447\n",
      "    img6    1.257969        4678         305       263\n",
      "    Mean    1.285308        4174.0       542.6     397.2\n",
      "     Sum    6.426541       20870        2713      1986\n",
      "\n",
      "running experiment: bark rotated\n",
      "\n",
      "reference img keypoints: 3731\n",
      "\n",
      "               error   keypoints  tentatives   inliers\n"
     ]
    },
    {
     "data": {
      "application/vnd.jupyter.widget-view+json": {
       "model_id": "",
       "version_major": 2,
       "version_minor": 0
      },
      "text/plain": [
       "  0%|          | 0/5 [00:00<?, ?it/s]"
      ]
     },
     "metadata": {},
     "output_type": "display_data"
    },
    {
     "name": "stdout",
     "output_type": "stream",
     "text": [
      "    img2    1.404376        2940         643       262\n",
      "    img3    1.542761        3893         560       357\n",
      "    img4    0.943695        4739         675       631\n",
      "    img5    1.054797        4504         504       464\n",
      "    img6    0.909425        4714         290       252\n",
      "    Mean    1.171011        4158.0       534.4     393.2\n",
      "     Sum    5.855054       20790        2672      1966\n",
      "\n",
      "running experiment: boat\n",
      "\n",
      "reference img keypoints: 8849\n",
      "\n",
      "               error   keypoints  tentatives   inliers\n"
     ]
    },
    {
     "data": {
      "application/vnd.jupyter.widget-view+json": {
       "model_id": "",
       "version_major": 2,
       "version_minor": 0
      },
      "text/plain": [
       "  0%|          | 0/5 [00:00<?, ?it/s]"
      ]
     },
     "metadata": {},
     "output_type": "display_data"
    },
    {
     "name": "stdout",
     "output_type": "stream",
     "text": [
      "    img2    0.232995        8545        2468      1131\n",
      "    img3    0.227991        6558        1838      1141\n",
      "    img4    0.312060        5269         757       240\n",
      "    img5    0.392265        4932         550       159\n",
      "    img6    5.774213        4257         267        68\n",
      "    Mean    1.387905        5912.2      1176.0     547.8\n",
      "     Sum    6.939524       29561        5880      2739\n",
      "\n",
      "running experiment: boat rotated\n",
      "\n",
      "reference img keypoints: 8849\n",
      "\n",
      "               error   keypoints  tentatives   inliers\n"
     ]
    },
    {
     "data": {
      "application/vnd.jupyter.widget-view+json": {
       "model_id": "",
       "version_major": 2,
       "version_minor": 0
      },
      "text/plain": [
       "  0%|          | 0/5 [00:00<?, ?it/s]"
      ]
     },
     "metadata": {},
     "output_type": "display_data"
    },
    {
     "name": "stdout",
     "output_type": "stream",
     "text": [
      "    img2    0.665039        8478        2465      1134\n",
      "    img3    0.563603        6646        1845      1125\n",
      "    img4    0.570092        5268         767       256\n",
      "    img5    0.571314        4897         568       156\n",
      "    img6    6.044776        4256         262        66\n",
      "    Mean    1.682965        5909.0      1181.4     547.4\n",
      "     Sum    8.414824       29545        5907      2737\n",
      "\n",
      "running experiment: synthetic rescaling lanczos\n",
      "\n",
      "reference img keypoints: 3706\n",
      "\n",
      "               error   keypoints  tentatives   inliers\n"
     ]
    },
    {
     "data": {
      "application/vnd.jupyter.widget-view+json": {
       "model_id": "",
       "version_major": 2,
       "version_minor": 0
      },
      "text/plain": [
       "  0%|          | 0/8 [00:00<?, ?it/s]"
      ]
     },
     "metadata": {},
     "output_type": "display_data"
    },
    {
     "name": "stdout",
     "output_type": "stream",
     "text": [
      "     0.2    0.283494         239         181       176\n",
      "     0.3    0.255198         522         391       384\n",
      "     0.4    0.211497         896         675       660\n",
      "     0.5    0.173625        1402        1059      1043\n",
      "     0.6    0.141523        1875        1402      1382\n",
      "     0.7    0.108050        2409        1784      1753\n",
      "     0.8    0.069094        2930        2315      2287\n",
      "     0.9    0.037321        3470        2663      2626\n",
      "    Mean    0.159975        1717.9      1308.8    1288.9\n",
      "     Sum    1.279801       13743       10470     10311\n"
     ]
    }
   ],
   "source": [
    "import cv2 as cv\n",
    "\n",
    "descriptor = cv.SIFT_create()\n",
    "printer = run_on_descriptor(descriptor, \"baseline\")\n",
    "\n",
    "# switching of the versions cannot be done easily within one execution, so to compare the versions use\n",
    "# 'printer.print_self()' and 'printer2.compare_in_table(printer)' in another cell"
   ]
  }
 ],
 "metadata": {
  "kernelspec": {
   "display_name": "Python 3 (ipykernel)",
   "language": "python",
   "name": "python3"
  },
  "language_info": {
   "codemirror_mode": {
    "name": "ipython",
    "version": 3
   },
   "file_extension": ".py",
   "mimetype": "text/x-python",
   "name": "python",
   "nbconvert_exporter": "python",
   "pygments_lexer": "ipython3",
   "version": "3.10.6"
  }
 },
 "nbformat": 4,
 "nbformat_minor": 5
}