{
 "cells": [
  {
   "cell_type": "markdown",
   "id": "458e5fa2",
   "metadata": {
    "pycharm": {
     "name": "#%% md\n"
    }
   },
   "source": [
    "# Homography estimation for OpenCV DoG implementation\n",
    "\n",
    "## Performed on 6 datasets\n",
    "\n",
    "* pure rotations of the first image from \"bark\" by multiples of 90 degrees\n",
    "* pure scaling of the first image from \"bark\" by multiples of 0.1 adjusted so that the aspect ratio is preserved using Lanczos resampling\n",
    "* boat and bark datasets from https://www.robots.ox.ac.uk/~vgg/data/affine/\n",
    "* boat and bark datasets with the query images rotated by 180 degrees\n",
    "* using SIFT descriptor for matching\n",
    "* see https://github.com/opencv/opencv/pull/23124\n",
    "\n",
    "## Comparison of OpenCV DoG baseline and fixed version\n",
    "\n",
    "### Experiment: synthetic pi rotation\n",
    "\n",
    "* reference img keypoints\n",
    "\n",
    "|fix | baseline|\n",
    "|---|--|\n",
    "|3758|3731|\n",
    "\n",
    "* Homography estimation\n",
    "| | fix | baseline|fix | baseline|fix | baseline|fix | baseline |\n",
    "|----|----|----|----|----|----|----|----|----|\n",
    "|  |  error| | keypoints| | tentatives| | inliers| |\n",
    "| 90° |  __0.000383__ | 0.499982 |  3751&nbsp;&nbsp;&nbsp; | 3715&nbsp;&nbsp;&nbsp; |  3750&nbsp;&nbsp;&nbsp; | 3464&nbsp;&nbsp;&nbsp; |  3742&nbsp;&nbsp;&nbsp; | 3452&nbsp;&nbsp;&nbsp; | \n",
    "| 180° |  __0.000668__ | 0.704858 |  3748&nbsp;&nbsp;&nbsp; | 3694&nbsp;&nbsp;&nbsp; |  3659&nbsp;&nbsp;&nbsp; | 3369&nbsp;&nbsp;&nbsp; |  3643&nbsp;&nbsp;&nbsp; | 3349&nbsp;&nbsp;&nbsp; | \n",
    "| 270° |  __0.000971__ | 0.499913 |  3749&nbsp;&nbsp;&nbsp; | 3721&nbsp;&nbsp;&nbsp; |  3660&nbsp;&nbsp;&nbsp; | 3438&nbsp;&nbsp;&nbsp; |  3649&nbsp;&nbsp;&nbsp; | 3430&nbsp;&nbsp;&nbsp; | \n",
    "| Mean |  __0.000674__ | 0.568251 |  3749.3 | 3710.0 |  3689.7 | 3423.7 |  3678.0 | 3410.3 | \n",
    "\n",
    "### Experiment: synthetic rescaling lanczos\n",
    "\n",
    "* reference img keypoints\n",
    "\n",
    "|fix | baseline|\n",
    "|---|--|\n",
    "|3743|3706|\n",
    "\n",
    "* Homography estimation\n",
    "| | fix | baseline|fix | baseline|fix | baseline|fix | baseline |\n",
    "|----|----|----|----|----|----|----|----|----|\n",
    "|  |  error| | keypoints| | tentatives| | inliers| |\n",
    "| 0.2 |  __0.017970__ | 0.283495 |  222&nbsp;&nbsp;&nbsp; | 239&nbsp;&nbsp;&nbsp; |  158&nbsp;&nbsp;&nbsp; | 181&nbsp;&nbsp;&nbsp; |  154&nbsp;&nbsp;&nbsp; | 176&nbsp;&nbsp;&nbsp; | \n",
    "| 0.3 |  __0.024879__ | 0.261653 |  479&nbsp;&nbsp;&nbsp; | 522&nbsp;&nbsp;&nbsp; |  334&nbsp;&nbsp;&nbsp; | 391&nbsp;&nbsp;&nbsp; |  290&nbsp;&nbsp;&nbsp; | 374&nbsp;&nbsp;&nbsp; | \n",
    "| 0.4 |  __0.016976__ | 0.212034 |  867&nbsp;&nbsp;&nbsp; | 896&nbsp;&nbsp;&nbsp; |  632&nbsp;&nbsp;&nbsp; | 675&nbsp;&nbsp;&nbsp; |  590&nbsp;&nbsp;&nbsp; | 658&nbsp;&nbsp;&nbsp; | \n",
    "| 0.5 |  __0.006069__ | 0.173158 |  1302&nbsp;&nbsp;&nbsp; | 1402&nbsp;&nbsp;&nbsp; |  968&nbsp;&nbsp;&nbsp; | 1059&nbsp;&nbsp;&nbsp; |  951&nbsp;&nbsp;&nbsp; | 1042&nbsp;&nbsp;&nbsp; | \n",
    "| 0.6 |  __0.008504__ | 0.142213 |  1822&nbsp;&nbsp;&nbsp; | 1875&nbsp;&nbsp;&nbsp; |  1309&nbsp;&nbsp;&nbsp; | 1402&nbsp;&nbsp;&nbsp; |  1281&nbsp;&nbsp;&nbsp; | 1383&nbsp;&nbsp;&nbsp; | \n",
    "| 0.7 |  __0.007711__ | 0.116124 |  2343&nbsp;&nbsp;&nbsp; | 2409&nbsp;&nbsp;&nbsp; |  1682&nbsp;&nbsp;&nbsp; | 1784&nbsp;&nbsp;&nbsp; |  1651&nbsp;&nbsp;&nbsp; | 1621&nbsp;&nbsp;&nbsp; | \n",
    "| 0.8 |  __0.007902__ | 0.069288 |  2906&nbsp;&nbsp;&nbsp; | 2930&nbsp;&nbsp;&nbsp; |  2235&nbsp;&nbsp;&nbsp; | 2315&nbsp;&nbsp;&nbsp; |  2087&nbsp;&nbsp;&nbsp; | 2281&nbsp;&nbsp;&nbsp; | \n",
    "| 0.9 |  __0.003026__ | 0.037124 |  3495&nbsp;&nbsp;&nbsp; | 3470&nbsp;&nbsp;&nbsp; |  2618&nbsp;&nbsp;&nbsp; | 2663&nbsp;&nbsp;&nbsp; |  2579&nbsp;&nbsp;&nbsp; | 2625&nbsp;&nbsp;&nbsp; | \n",
    "| Mean |  __0.011629__ | 0.161886 |  1679.5 | 1717.9 |  1242.0 | 1308.8 |  1197.9 | 1270.0 | \n",
    "\n",
    "### Experiment: bark\n",
    "\n",
    "* reference img keypoints\n",
    "\n",
    "|fix | baseline|\n",
    "|---|--|\n",
    "|3758|3731|\n",
    "\n",
    "* Homography estimation\n",
    "| | fix | baseline|fix | baseline|fix | baseline|fix | baseline |\n",
    "|----|----|----|----|----|----|----|----|----|\n",
    "|  |  error| | keypoints| | tentatives| | inliers| |\n",
    "| img2 |  __1.128165__ | 1.332286 |  3034&nbsp;&nbsp;&nbsp; | 2973&nbsp;&nbsp;&nbsp; |  639&nbsp;&nbsp;&nbsp; | 654&nbsp;&nbsp;&nbsp; |  237&nbsp;&nbsp;&nbsp; | 241&nbsp;&nbsp;&nbsp; | \n",
    "| img3 |  __1.688878__ | 2.178040 |  4037&nbsp;&nbsp;&nbsp; | 3935&nbsp;&nbsp;&nbsp; |  579&nbsp;&nbsp;&nbsp; | 565&nbsp;&nbsp;&nbsp; |  276&nbsp;&nbsp;&nbsp; | 298&nbsp;&nbsp;&nbsp; | \n",
    "| img4 |  __0.960998__ | 1.339833 |  4695&nbsp;&nbsp;&nbsp; | 4774&nbsp;&nbsp;&nbsp; |  652&nbsp;&nbsp;&nbsp; | 699&nbsp;&nbsp;&nbsp; |  603&nbsp;&nbsp;&nbsp; | 620&nbsp;&nbsp;&nbsp; | \n",
    "| img5 |  __0.711485__ | 0.711655 |  4292&nbsp;&nbsp;&nbsp; | 4510&nbsp;&nbsp;&nbsp; |  461&nbsp;&nbsp;&nbsp; | 490&nbsp;&nbsp;&nbsp; |  400&nbsp;&nbsp;&nbsp; | 433&nbsp;&nbsp;&nbsp; | \n",
    "| img6 |  __1.004243__ | 1.256951 |  4353&nbsp;&nbsp;&nbsp; | 4678&nbsp;&nbsp;&nbsp; |  270&nbsp;&nbsp;&nbsp; | 305&nbsp;&nbsp;&nbsp; |  234&nbsp;&nbsp;&nbsp; | 261&nbsp;&nbsp;&nbsp; | \n",
    "| Mean |  __1.098754__ | 1.363753 |  4082.2 | 4174.0 |  520.2 | 542.6 |  350.0 | 370.6 | \n",
    "\n",
    "### Experiment: boat\n",
    "\n",
    "* reference img keypoints\n",
    "\n",
    "|fix | baseline|\n",
    "|---|--|\n",
    "|8359|8849|\n",
    "\n",
    "* Homography estimation\n",
    "| | fix | baseline|fix | baseline|fix | baseline|fix | baseline |\n",
    "|----|----|----|----|----|----|----|----|----|\n",
    "|  |  error| | keypoints| | tentatives| | inliers| |\n",
    "| img2 |  0.353406 | __0.313058__ |  7949&nbsp;&nbsp;&nbsp; | 8545&nbsp;&nbsp;&nbsp; |  2242&nbsp;&nbsp;&nbsp; | 2468&nbsp;&nbsp;&nbsp; |  892&nbsp;&nbsp;&nbsp; | 990&nbsp;&nbsp;&nbsp; | \n",
    "| img3 |  __0.160561__ | 0.285631 |  6145&nbsp;&nbsp;&nbsp; | 6558&nbsp;&nbsp;&nbsp; |  1729&nbsp;&nbsp;&nbsp; | 1838&nbsp;&nbsp;&nbsp; |  903&nbsp;&nbsp;&nbsp; | 926&nbsp;&nbsp;&nbsp; | \n",
    "| img4 |  __0.369467__ | 1.327328 |  4912&nbsp;&nbsp;&nbsp; | 5269&nbsp;&nbsp;&nbsp; |  721&nbsp;&nbsp;&nbsp; | 757&nbsp;&nbsp;&nbsp; |  220&nbsp;&nbsp;&nbsp; | 241&nbsp;&nbsp;&nbsp; | \n",
    "| img5 |  0.576069 | __0.459227__ |  4674&nbsp;&nbsp;&nbsp; | 4932&nbsp;&nbsp;&nbsp; |  547&nbsp;&nbsp;&nbsp; | 550&nbsp;&nbsp;&nbsp; |  144&nbsp;&nbsp;&nbsp; | 140&nbsp;&nbsp;&nbsp; | \n",
    "| img6 |  5.957721 | __5.696269__ |  3896&nbsp;&nbsp;&nbsp; | 4257&nbsp;&nbsp;&nbsp; |  270&nbsp;&nbsp;&nbsp; | 267&nbsp;&nbsp;&nbsp; |  52&nbsp;&nbsp;&nbsp; | 63&nbsp;&nbsp;&nbsp; | \n",
    "| Mean |  __1.483445__ | 1.616303 |  5515.2 | 5912.2 |  1101.8 | 1176.0 |  442.2 | 472.0 | \n",
    "\n",
    "### Experiment: bark rotated\n",
    "\n",
    "* reference img keypoints\n",
    "\n",
    "|fix | baseline|\n",
    "|---|--|\n",
    "|3758|3731|\n",
    "\n",
    "* Homography estimation\n",
    "| | fix | baseline|fix | baseline|fix | baseline|fix | baseline |\n",
    "|----|----|----|----|----|----|----|----|----|\n",
    "|  |  error| | keypoints| | tentatives| | inliers| |\n",
    "| img2 |  __1.015200__ | 1.373144 |  3043&nbsp;&nbsp;&nbsp; | 2940&nbsp;&nbsp;&nbsp; |  640&nbsp;&nbsp;&nbsp; | 643&nbsp;&nbsp;&nbsp; |  218&nbsp;&nbsp;&nbsp; | 230&nbsp;&nbsp;&nbsp; | \n",
    "| img3 |  1.619446 | __1.543178__ |  4025&nbsp;&nbsp;&nbsp; | 3893&nbsp;&nbsp;&nbsp; |  573&nbsp;&nbsp;&nbsp; | 560&nbsp;&nbsp;&nbsp; |  264&nbsp;&nbsp;&nbsp; | 300&nbsp;&nbsp;&nbsp; | \n",
    "| img4 |  0.963571 | __0.951540__ |  4676&nbsp;&nbsp;&nbsp; | 4739&nbsp;&nbsp;&nbsp; |  657&nbsp;&nbsp;&nbsp; | 675&nbsp;&nbsp;&nbsp; |  613&nbsp;&nbsp;&nbsp; | 613&nbsp;&nbsp;&nbsp; | \n",
    "| img5 |  __0.725933__ | 1.040785 |  4291&nbsp;&nbsp;&nbsp; | 4504&nbsp;&nbsp;&nbsp; |  461&nbsp;&nbsp;&nbsp; | 504&nbsp;&nbsp;&nbsp; |  388&nbsp;&nbsp;&nbsp; | 442&nbsp;&nbsp;&nbsp; | \n",
    "| img6 |  1.001042 | __0.909422__ |  4383&nbsp;&nbsp;&nbsp; | 4714&nbsp;&nbsp;&nbsp; |  265&nbsp;&nbsp;&nbsp; | 290&nbsp;&nbsp;&nbsp; |  233&nbsp;&nbsp;&nbsp; | 250&nbsp;&nbsp;&nbsp; | \n",
    "| Mean |  __1.065039__ | 1.163614 |  4083.6 | 4158.0 |  519.2 | 534.4 |  343.2 | 367.0 | \n",
    "\n",
    "### Experiment: boat rotated\n",
    "\n",
    "* reference img keypoints\n",
    "\n",
    "|fix | baseline|\n",
    "|---|--|\n",
    "|8359|8849|\n",
    "\n",
    "* Homography estimation\n",
    "| | fix | baseline|fix | baseline|fix | baseline|fix | baseline |\n",
    "|----|----|----|----|----|----|----|----|----|\n",
    "|  |  error| | keypoints| | tentatives| | inliers| |\n",
    "| img2 |  __0.335573__ | 0.574185 |  7953&nbsp;&nbsp;&nbsp; | 8478&nbsp;&nbsp;&nbsp; |  2247&nbsp;&nbsp;&nbsp; | 2465&nbsp;&nbsp;&nbsp; |  923&nbsp;&nbsp;&nbsp; | 883&nbsp;&nbsp;&nbsp; | \n",
    "| img3 |  __0.213827__ | 0.722569 |  6142&nbsp;&nbsp;&nbsp; | 6646&nbsp;&nbsp;&nbsp; |  1728&nbsp;&nbsp;&nbsp; | 1845&nbsp;&nbsp;&nbsp; |  905&nbsp;&nbsp;&nbsp; | 959&nbsp;&nbsp;&nbsp; | \n",
    "| img4 |  __1.333564__ | 1.509766 |  4916&nbsp;&nbsp;&nbsp; | 5268&nbsp;&nbsp;&nbsp; |  730&nbsp;&nbsp;&nbsp; | 767&nbsp;&nbsp;&nbsp; |  219&nbsp;&nbsp;&nbsp; | 222&nbsp;&nbsp;&nbsp; | \n",
    "| img5 |  0.627002 | __0.591476__ |  4658&nbsp;&nbsp;&nbsp; | 4897&nbsp;&nbsp;&nbsp; |  549&nbsp;&nbsp;&nbsp; | 568&nbsp;&nbsp;&nbsp; |  135&nbsp;&nbsp;&nbsp; | 153&nbsp;&nbsp;&nbsp; | \n",
    "| img6 |  __5.840523__ | 6.130859 |  3920&nbsp;&nbsp;&nbsp; | 4256&nbsp;&nbsp;&nbsp; |  277&nbsp;&nbsp;&nbsp; | 262&nbsp;&nbsp;&nbsp; |  51&nbsp;&nbsp;&nbsp; | 58&nbsp;&nbsp;&nbsp; | \n",
    "| Mean |  __1.670098__ | 1.905771 |  5517.8 | 5909.0 |  1106.2 | 1181.4 |  446.6 | 455.0 | \n",
    "\n"
   ]
  },
  {
   "cell_type": "code",
   "execution_count": 1,
   "id": "356076e4",
   "metadata": {
    "pycharm": {
     "name": "#%%\n"
    }
   },
   "outputs": [
    {
     "name": "stdout",
     "output_type": "stream",
     "text": [
      "Exact scale adjustments:\n",
      "scale: 0.2 => 0.2, dimension: 765x510 => 153x102\n",
      "scale: 0.3 => 0.2980392156862745, dimension: 765x510 => 228x152\n",
      "scale: 0.4 => 0.4, dimension: 765x510 => 306x204\n",
      "scale: 0.5 => 0.5019607843137255, dimension: 765x510 => 384x256\n",
      "scale: 0.6 => 0.6, dimension: 765x510 => 459x306\n",
      "scale: 0.7 => 0.6980392156862745, dimension: 765x510 => 534x356\n",
      "scale: 0.8 => 0.8, dimension: 765x510 => 612x408\n",
      "scale: 0.9 => 0.9019607843137255, dimension: 765x510 => 690x460\n"
     ]
    }
   ],
   "source": [
    "from tqdm.notebook import tqdm\n",
    "\n",
    "from dataset_utils import Hs_imgs_for_boat, Hs_imgs_for_bark, Hs_imgs_for_rotation, Hs_imgs_for_scaling\n",
    "from opencv_utils import get_tentatives, get_visible_part_mean_absolute_reprojection_error\n",
    "from jupyter_utils import JupyterPrinter\n",
    "\n",
    "\n",
    "def homography_estimation_experiment(detector, Hs_gt, imgs, e_name, instance_names, p,\n",
    "                                     mean=True, sum=False):\n",
    "    p.print()\n",
    "    p.print(f\"running experiment: {e_name}\")\n",
    "    p.add_experiment(e_name)\n",
    "    p.print()\n",
    "\n",
    "    kpts_0, desc_0 = detector.detectAndCompute(imgs[0], mask=None)\n",
    "\n",
    "    p.print(f\"reference img keypoints: {len(kpts_0)}\")\n",
    "    p.add_special_key(\"reference img keypoints\", str(len(kpts_0)))\n",
    "    p.print()\n",
    "    p.print(f\"{'':>8}{'error':>12}{'keypoints':>12}{'tentatives':>12}{'inliers':>10}\")\n",
    "\n",
    "    sum_reproj_err = 0.0\n",
    "    sum_keypoints = 0\n",
    "    sum_tent_count = 0\n",
    "    sum_in_count = 0\n",
    "\n",
    "    for other_i in tqdm(range(1, len(imgs)), leave=False):\n",
    "        kpts_other, desc_other = detector.detectAndCompute(imgs[other_i], mask=None)\n",
    "        kpts_n = len(kpts_other)\n",
    "\n",
    "        src_pts, dst_pts = get_tentatives(kpts_0, desc_0, kpts_other, desc_other, ratio_threshold=0.8)\n",
    "        if len(src_pts) < 4:\n",
    "            print(f\"WARNING: less than 4 tentatives: {len(src_pts)}\")\n",
    "            p.print(f\"{instance_names[other_i - 1]:>8}{'N/A':>12}{'N/A':>12}{'N/A':>12}{'N/A':>10}\")\n",
    "            p.add_data([instance_names[other_i - 1], 'N/A', 'N/A', 'N/A', 'N/A'])\n",
    "            continue\n",
    "\n",
    "        H_est, inlier_mask = cv.findHomography(src_pts, dst_pts,\n",
    "                                               cv.RANSAC,\n",
    "                                               maxIters=100000,\n",
    "                                               ransacReprojThreshold=0.5,\n",
    "                                               confidence=0.9999)\n",
    "        H_gt = Hs_gt[other_i - 1]\n",
    "\n",
    "        reproj_err = get_visible_part_mean_absolute_reprojection_error(imgs[0], imgs[other_i], H_gt, H_est)\n",
    "        tent_count = len(src_pts)\n",
    "        in_count = int(inlier_mask.sum())\n",
    "\n",
    "        p.print(f\"{instance_names[other_i - 1]:>8}{reproj_err:>12.6f}{kpts_n:>12}{tent_count:>12}{in_count:>10}\")\n",
    "        p.add_data([instance_names[other_i - 1], f\"{reproj_err:.6f}\", f\"{kpts_n}\", f\"{tent_count}\", f\"{in_count}\"])\n",
    "        sum_reproj_err += reproj_err\n",
    "        sum_keypoints += kpts_n\n",
    "        sum_tent_count += tent_count\n",
    "        sum_in_count += in_count\n",
    "\n",
    "    l = len(imgs) - 1\n",
    "    if mean:\n",
    "        p.print(f\"{'Mean':>8}{sum_reproj_err / l:>12.6f}{sum_keypoints / l:>14.1f}{sum_tent_count / l:>12.1f}{sum_in_count / l:>10.1f}\")\n",
    "        p.add_data([\"Mean\", f\"{sum_reproj_err / l:.6f}\", f\"{sum_keypoints / l:.1f}\", f\"{sum_tent_count / l:.1f}\", f\"{sum_in_count / l:.1f}\"])\n",
    "    if sum:\n",
    "        p.print(f\"{'Sum':>8}{sum_reproj_err:>12.6f}{sum_keypoints:>12}{sum_tent_count:>12}{sum_in_count:>10}\")\n",
    "        p.add_data([\"Sum\", f\"{sum_reproj_err:.6f}\", f\"{sum_keypoints}\", f\"{sum_tent_count}\", f\"{sum_in_count}\"])\n",
    "\n",
    "\n",
    "Hs_boat, imgs_boat = Hs_imgs_for_boat()\n",
    "Hs_boat_rot, imgs_boat_rot = Hs_imgs_for_boat(rotate_query_imgs=True)\n",
    "Hs_bark, imgs_bark = Hs_imgs_for_bark()\n",
    "Hs_bark_rot, imgs_bark_rot = Hs_imgs_for_bark(rotate_query_imgs=True)\n",
    "Hs_rot, imgs_rot = Hs_imgs_for_rotation()\n",
    "print(\"Exact scale adjustments:\")\n",
    "Hs_scaling, imgs_scaling, scales = Hs_imgs_for_scaling()\n",
    "\n",
    "\n",
    "def run_on_descriptor(descriptor, detector_name, print_output=True, mean=True, sum=False):\n",
    "    p = JupyterPrinter(print_output, detector_name)\n",
    "    p.print()\n",
    "    p.print(f\"descriptor: {detector_name}:\")\n",
    "    p.print()\n",
    "    homography_estimation_experiment(descriptor, Hs_rot, imgs_rot, \"synthetic pi rotation\", [\"90°\", \"180°\", \"270°\"], p, mean, sum)\n",
    "    homography_estimation_experiment(descriptor, Hs_bark, imgs_bark, \"bark\", [f\"img{i}\" for i in range(2, 7)], p, mean, sum)\n",
    "    homography_estimation_experiment(descriptor, Hs_bark_rot, imgs_bark_rot, \"bark rotated\", [f\"img{i}\" for i in range(2, 7)], p, mean, sum)\n",
    "    homography_estimation_experiment(descriptor, Hs_boat, imgs_boat, \"boat\", [f\"img{i}\" for i in range(2, 7)], p, mean, sum)\n",
    "    homography_estimation_experiment(descriptor, Hs_boat_rot, imgs_boat_rot, \"boat rotated\", [f\"img{i}\" for i in range(2, 7)], p, mean, sum)\n",
    "    homography_estimation_experiment(descriptor, Hs_scaling, imgs_scaling, \"synthetic rescaling lanczos\", [f\"{s}\" for s in scales], p, mean, sum)\n",
    "    return p"
   ]
  },
  {
   "cell_type": "code",
   "execution_count": 2,
   "id": "72de6f24",
   "metadata": {
    "pycharm": {
     "name": "#%%\n"
    },
    "scrolled": false
   },
   "outputs": [
    {
     "name": "stdout",
     "output_type": "stream",
     "text": [
      "\n",
      "descriptor: fix:\n",
      "\n",
      "\n",
      "running experiment: synthetic pi rotation\n",
      "\n",
      "reference img keypoints: 3731\n",
      "\n",
      "               error   keypoints  tentatives   inliers\n"
     ]
    },
    {
     "data": {
      "application/vnd.jupyter.widget-view+json": {
       "model_id": "",
       "version_major": 2,
       "version_minor": 0
      },
      "text/plain": [
       "  0%|          | 0/3 [00:00<?, ?it/s]"
      ]
     },
     "metadata": {},
     "output_type": "display_data"
    },
    {
     "name": "stdout",
     "output_type": "stream",
     "text": [
      "     90°    0.499982        3715        3464      3452\n",
      "    180°    0.704858        3694        3369      3349\n",
      "    270°    0.499913        3721        3438      3430\n",
      "    Mean    0.568251        3710.0      3423.7    3410.3\n",
      "\n",
      "running experiment: bark\n",
      "\n",
      "reference img keypoints: 3731\n",
      "\n",
      "               error   keypoints  tentatives   inliers\n"
     ]
    },
    {
     "data": {
      "application/vnd.jupyter.widget-view+json": {
       "model_id": "",
       "version_major": 2,
       "version_minor": 0
      },
      "text/plain": [
       "  0%|          | 0/5 [00:00<?, ?it/s]"
      ]
     },
     "metadata": {},
     "output_type": "display_data"
    },
    {
     "name": "stdout",
     "output_type": "stream",
     "text": [
      "    img2    1.332286        2973         654       241\n",
      "    img3    2.178040        3935         565       298\n",
      "    img4    1.339833        4774         699       620\n",
      "    img5    0.711655        4510         490       433\n",
      "    img6    1.256951        4678         305       261\n",
      "    Mean    1.363753        4174.0       542.6     370.6\n",
      "\n",
      "running experiment: bark rotated\n",
      "\n",
      "reference img keypoints: 3731\n",
      "\n",
      "               error   keypoints  tentatives   inliers\n"
     ]
    },
    {
     "data": {
      "application/vnd.jupyter.widget-view+json": {
       "model_id": "",
       "version_major": 2,
       "version_minor": 0
      },
      "text/plain": [
       "  0%|          | 0/5 [00:00<?, ?it/s]"
      ]
     },
     "metadata": {},
     "output_type": "display_data"
    },
    {
     "name": "stdout",
     "output_type": "stream",
     "text": [
      "    img2    1.373144        2940         643       230\n",
      "    img3    1.543178        3893         560       300\n",
      "    img4    0.951540        4739         675       613\n",
      "    img5    1.040785        4504         504       442\n",
      "    img6    0.909422        4714         290       250\n",
      "    Mean    1.163614        4158.0       534.4     367.0\n",
      "\n",
      "running experiment: boat\n",
      "\n",
      "reference img keypoints: 8849\n",
      "\n",
      "               error   keypoints  tentatives   inliers\n"
     ]
    },
    {
     "data": {
      "application/vnd.jupyter.widget-view+json": {
       "model_id": "",
       "version_major": 2,
       "version_minor": 0
      },
      "text/plain": [
       "  0%|          | 0/5 [00:00<?, ?it/s]"
      ]
     },
     "metadata": {},
     "output_type": "display_data"
    },
    {
     "name": "stdout",
     "output_type": "stream",
     "text": [
      "    img2    0.313058        8545        2468       990\n",
      "    img3    0.285631        6558        1838       926\n",
      "    img4    1.327328        5269         757       241\n",
      "    img5    0.459227        4932         550       140\n",
      "    img6    5.696269        4257         267        63\n",
      "    Mean    1.616303        5912.2      1176.0     472.0\n",
      "\n",
      "running experiment: boat rotated\n",
      "\n",
      "reference img keypoints: 8849\n",
      "\n",
      "               error   keypoints  tentatives   inliers\n"
     ]
    },
    {
     "data": {
      "application/vnd.jupyter.widget-view+json": {
       "model_id": "",
       "version_major": 2,
       "version_minor": 0
      },
      "text/plain": [
       "  0%|          | 0/5 [00:00<?, ?it/s]"
      ]
     },
     "metadata": {},
     "output_type": "display_data"
    },
    {
     "name": "stdout",
     "output_type": "stream",
     "text": [
      "    img2    0.574185        8478        2465       883\n",
      "    img3    0.722569        6646        1845       959\n",
      "    img4    1.509766        5268         767       222\n",
      "    img5    0.591476        4897         568       153\n",
      "    img6    6.130859        4256         262        58\n",
      "    Mean    1.905771        5909.0      1181.4     455.0\n",
      "\n",
      "running experiment: synthetic rescaling lanczos\n",
      "\n",
      "reference img keypoints: 3706\n",
      "\n",
      "               error   keypoints  tentatives   inliers\n"
     ]
    },
    {
     "data": {
      "application/vnd.jupyter.widget-view+json": {
       "model_id": "",
       "version_major": 2,
       "version_minor": 0
      },
      "text/plain": [
       "  0%|          | 0/8 [00:00<?, ?it/s]"
      ]
     },
     "metadata": {},
     "output_type": "display_data"
    },
    {
     "name": "stdout",
     "output_type": "stream",
     "text": [
      "     0.2    0.283495         239         181       176\n",
      "     0.3    0.261653         522         391       374\n",
      "     0.4    0.212034         896         675       658\n",
      "     0.5    0.173158        1402        1059      1042\n",
      "     0.6    0.142213        1875        1402      1383\n",
      "     0.7    0.116124        2409        1784      1621\n",
      "     0.8    0.069288        2930        2315      2281\n",
      "     0.9    0.037124        3470        2663      2625\n",
      "    Mean    0.161886        1717.9      1308.8    1270.0\n"
     ]
    }
   ],
   "source": [
    "import cv2 as cv\n",
    "\n",
    "descriptor = cv.SIFT_create()\n",
    "printer = run_on_descriptor(descriptor, \"fix\")\n",
    "\n",
    "# switching of the versions cannot be done easily within one execution, so to compare the versions use\n",
    "# 'printer.print_self()' and 'printer2.compare_in_table(printer)' in another cell "
   ]
  }
 ],
 "metadata": {
  "kernelspec": {
   "display_name": "Python 3 (ipykernel)",
   "language": "python",
   "name": "python3"
  },
  "language_info": {
   "codemirror_mode": {
    "name": "ipython",
    "version": 3
   },
   "file_extension": ".py",
   "mimetype": "text/x-python",
   "name": "python",
   "nbconvert_exporter": "python",
   "pygments_lexer": "ipython3",
   "version": "3.10.6"
  }
 },
 "nbformat": 4,
 "nbformat_minor": 5
}