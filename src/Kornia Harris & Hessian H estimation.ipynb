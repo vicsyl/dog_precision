{
 "cells": [
  {
   "cell_type": "markdown",
   "id": "276e887a",
   "metadata": {
    "pycharm": {
     "name": "#%% md\n"
    }
   },
   "source": [
    "# Homography estimation for Kornia Harris & Hessian implementations\n",
    "\n",
    "## Performed on 6 datasets\n",
    "\n",
    "* pure rotations of the first image from \"bark\" by multiples of 90 degrees\n",
    "* pure scaling of the first image from \"bark\" by multiples of 0.1 adjusted so that the aspect ratio is preserved using Lanczos resampling\n",
    "* boat and bark datasets from https://www.robots.ox.ac.uk/~vgg/data/affine/\n",
    "* boat and bark datasets with the query images rotated by 180 degrees\n",
    "* using SIFT descriptor for matching\n",
    "* see https://github.com/kornia/kornia/pull/2105/\n",
    "\n",
    "\n",
    "## Comparison of Harris+SIFT baseline and fixed version\n",
    "\n",
    "### Experiment: synthetic pi rotation\n",
    "\n",
    "* reference img keypoints\n",
    "\n",
    "|fix | baseline|\n",
    "|---|--|\n",
    "|8000|8000|\n",
    "\n",
    "* Homography estimation\n",
    "| | fix | baseline|fix | baseline|fix | baseline|fix | baseline |\n",
    "|----|----|----|----|----|----|----|----|----|\n",
    "|  |  error| | keypoints| | tentatives| | inliers| |\n",
    "| 90° |  __0.000086__ | 0.507817 |  8000&nbsp;&nbsp;&nbsp; | 8000&nbsp;&nbsp;&nbsp; |  4917&nbsp;&nbsp;&nbsp; | 5177&nbsp;&nbsp;&nbsp; |  4894&nbsp;&nbsp;&nbsp; | 4172&nbsp;&nbsp;&nbsp; | \n",
    "| 180° |  __0.002057__ | 0.697695 |  8000&nbsp;&nbsp;&nbsp; | 8000&nbsp;&nbsp;&nbsp; |  2016&nbsp;&nbsp;&nbsp; | 4917&nbsp;&nbsp;&nbsp; |  1820&nbsp;&nbsp;&nbsp; | 4567&nbsp;&nbsp;&nbsp; | \n",
    "| 270° |  __0.001590__ | 0.488448 |  8000&nbsp;&nbsp;&nbsp; | 8000&nbsp;&nbsp;&nbsp; |  3292&nbsp;&nbsp;&nbsp; | 4924&nbsp;&nbsp;&nbsp; |  3150&nbsp;&nbsp;&nbsp; | 4345&nbsp;&nbsp;&nbsp; | \n",
    "| Mean |  __0.001244__ | 0.564653 |  8000.0 | 8000.0 |  3408.3 | 5006.0 |  3288.0 | 4361.3 | \n",
    "| Sum |  __0.003732__ | 1.693960 |  24000&nbsp;&nbsp;&nbsp; | 24000&nbsp;&nbsp;&nbsp; |  10225&nbsp;&nbsp;&nbsp; | 15018&nbsp;&nbsp;&nbsp; |  9864&nbsp;&nbsp;&nbsp; | 13084&nbsp;&nbsp;&nbsp; | \n",
    "\n",
    "### Experiment: synthetic rescaling lanczos\n",
    "\n",
    "* reference img keypoints\n",
    "\n",
    "|fix | baseline|\n",
    "|---|--|\n",
    "|8000|8000|\n",
    "\n",
    "* Homography estimation\n",
    "| | fix | baseline|fix | baseline|fix | baseline|fix | baseline |\n",
    "|----|----|----|----|----|----|----|----|----|\n",
    "|  |  error| | keypoints| | tentatives| | inliers| |\n",
    "| 0.2 |  __0.304985__ | 0.425292 |  8000&nbsp;&nbsp;&nbsp; | 8000&nbsp;&nbsp;&nbsp; |  40&nbsp;&nbsp;&nbsp; | 37&nbsp;&nbsp;&nbsp; |  32&nbsp;&nbsp;&nbsp; | 21&nbsp;&nbsp;&nbsp; | \n",
    "| 0.3 |  __0.064964__ | 0.319130 |  8000&nbsp;&nbsp;&nbsp; | 8000&nbsp;&nbsp;&nbsp; |  134&nbsp;&nbsp;&nbsp; | 93&nbsp;&nbsp;&nbsp; |  101&nbsp;&nbsp;&nbsp; | 62&nbsp;&nbsp;&nbsp; | \n",
    "| 0.4 |  __0.125535__ | 0.480419 |  8000&nbsp;&nbsp;&nbsp; | 8000&nbsp;&nbsp;&nbsp; |  180&nbsp;&nbsp;&nbsp; | 136&nbsp;&nbsp;&nbsp; |  105&nbsp;&nbsp;&nbsp; | 56&nbsp;&nbsp;&nbsp; | \n",
    "| 0.5 |  __0.071734__ | 0.273491 |  8000&nbsp;&nbsp;&nbsp; | 8000&nbsp;&nbsp;&nbsp; |  294&nbsp;&nbsp;&nbsp; | 233&nbsp;&nbsp;&nbsp; |  212&nbsp;&nbsp;&nbsp; | 101&nbsp;&nbsp;&nbsp; | \n",
    "| 0.6 |  __0.105994__ | 0.223376 |  8000&nbsp;&nbsp;&nbsp; | 8000&nbsp;&nbsp;&nbsp; |  451&nbsp;&nbsp;&nbsp; | 272&nbsp;&nbsp;&nbsp; |  252&nbsp;&nbsp;&nbsp; | 105&nbsp;&nbsp;&nbsp; | \n",
    "| 0.7 |  __0.067540__ | 0.221891 |  8000&nbsp;&nbsp;&nbsp; | 8000&nbsp;&nbsp;&nbsp; |  1144&nbsp;&nbsp;&nbsp; | 809&nbsp;&nbsp;&nbsp; |  811&nbsp;&nbsp;&nbsp; | 465&nbsp;&nbsp;&nbsp; | \n",
    "| 0.8 |  __0.028179__ | 0.076154 |  8000&nbsp;&nbsp;&nbsp; | 8000&nbsp;&nbsp;&nbsp; |  2222&nbsp;&nbsp;&nbsp; | 1763&nbsp;&nbsp;&nbsp; |  1870&nbsp;&nbsp;&nbsp; | 1141&nbsp;&nbsp;&nbsp; | \n",
    "| 0.9 |  __0.042183__ | 0.156813 |  8000&nbsp;&nbsp;&nbsp; | 8000&nbsp;&nbsp;&nbsp; |  3747&nbsp;&nbsp;&nbsp; | 3109&nbsp;&nbsp;&nbsp; |  3050&nbsp;&nbsp;&nbsp; | 1822&nbsp;&nbsp;&nbsp; | \n",
    "| Mean |  __0.101389__ | 0.272071 |  8000.0 | 8000.0 |  1026.5 | 806.5 |  804.1 | 471.6 | \n",
    "| Sum |  __0.811114__ | 2.176565 |  64000&nbsp;&nbsp;&nbsp; | 64000&nbsp;&nbsp;&nbsp; |  8212&nbsp;&nbsp;&nbsp; | 6452&nbsp;&nbsp;&nbsp; |  6433&nbsp;&nbsp;&nbsp; | 3773&nbsp;&nbsp;&nbsp; | \n",
    "\n",
    "### Experiment: bark\n",
    "\n",
    "* reference img keypoints\n",
    "\n",
    "|fix | baseline|\n",
    "|---|--|\n",
    "|8000|8000|\n",
    "\n",
    "* Homography estimation\n",
    "| | fix | baseline|fix | baseline|fix | baseline|fix | baseline |\n",
    "|----|----|----|----|----|----|----|----|----|\n",
    "|  |  error| | keypoints| | tentatives| | inliers| |\n",
    "| img2 |  __1.481221__ | 1.999068 |  8000&nbsp;&nbsp;&nbsp; | 8000&nbsp;&nbsp;&nbsp; |  69&nbsp;&nbsp;&nbsp; | 64&nbsp;&nbsp;&nbsp; |  20&nbsp;&nbsp;&nbsp; | 12&nbsp;&nbsp;&nbsp; | \n",
    "| img3 |  __1.992532__ | 2.732964 |  8000&nbsp;&nbsp;&nbsp; | 8000&nbsp;&nbsp;&nbsp; |  19&nbsp;&nbsp;&nbsp; | 27&nbsp;&nbsp;&nbsp; |  6&nbsp;&nbsp;&nbsp; | 7&nbsp;&nbsp;&nbsp; | \n",
    "| img4 |  __0.998941__ | 1.420163 |  8000&nbsp;&nbsp;&nbsp; | 8000&nbsp;&nbsp;&nbsp; |  83&nbsp;&nbsp;&nbsp; | 69&nbsp;&nbsp;&nbsp; |  44&nbsp;&nbsp;&nbsp; | 24&nbsp;&nbsp;&nbsp; | \n",
    "| img5 |  __0.685333__ | 0.897297 |  8000&nbsp;&nbsp;&nbsp; | 8000&nbsp;&nbsp;&nbsp; |  92&nbsp;&nbsp;&nbsp; | 66&nbsp;&nbsp;&nbsp; |  50&nbsp;&nbsp;&nbsp; | 26&nbsp;&nbsp;&nbsp; | \n",
    "| img6 |  __1.053331__ | 1.858031 |  8000&nbsp;&nbsp;&nbsp; | 8000&nbsp;&nbsp;&nbsp; |  32&nbsp;&nbsp;&nbsp; | 52&nbsp;&nbsp;&nbsp; |  23&nbsp;&nbsp;&nbsp; | 27&nbsp;&nbsp;&nbsp; | \n",
    "| Mean |  __1.242271__ | 1.781505 |  8000.0 | 8000.0 |  59.0 | 55.6 |  28.6 | 19.2 | \n",
    "| Sum |  __6.211357__ | 8.907523 |  40000&nbsp;&nbsp;&nbsp; | 40000&nbsp;&nbsp;&nbsp; |  295&nbsp;&nbsp;&nbsp; | 278&nbsp;&nbsp;&nbsp; |  143&nbsp;&nbsp;&nbsp; | 96&nbsp;&nbsp;&nbsp; | \n",
    "\n",
    "### Experiment: boat\n",
    "\n",
    "* reference img keypoints\n",
    "\n",
    "|fix | baseline|\n",
    "|---|--|\n",
    "|8000|8000|\n",
    "\n",
    "* Homography estimation\n",
    "| | fix | baseline|fix | baseline|fix | baseline|fix | baseline |\n",
    "|----|----|----|----|----|----|----|----|----|\n",
    "|  |  error| | keypoints| | tentatives| | inliers| |\n",
    "| img2 |  0.408136 | __0.238166__ |  8000&nbsp;&nbsp;&nbsp; | 8000&nbsp;&nbsp;&nbsp; |  796&nbsp;&nbsp;&nbsp; | 734&nbsp;&nbsp;&nbsp; |  293&nbsp;&nbsp;&nbsp; | 202&nbsp;&nbsp;&nbsp; | \n",
    "| img3 |  __0.392473__ | 0.593991 |  8000&nbsp;&nbsp;&nbsp; | 8000&nbsp;&nbsp;&nbsp; |  392&nbsp;&nbsp;&nbsp; | 378&nbsp;&nbsp;&nbsp; |  154&nbsp;&nbsp;&nbsp; | 112&nbsp;&nbsp;&nbsp; | \n",
    "| img4 |  1.748843 | __1.696703__ |  8000&nbsp;&nbsp;&nbsp; | 8000&nbsp;&nbsp;&nbsp; |  212&nbsp;&nbsp;&nbsp; | 213&nbsp;&nbsp;&nbsp; |  71&nbsp;&nbsp;&nbsp; | 50&nbsp;&nbsp;&nbsp; | \n",
    "| img5 |  __0.811639__ | 1.003514 |  8000&nbsp;&nbsp;&nbsp; | 8000&nbsp;&nbsp;&nbsp; |  147&nbsp;&nbsp;&nbsp; | 138&nbsp;&nbsp;&nbsp; |  38&nbsp;&nbsp;&nbsp; | 25&nbsp;&nbsp;&nbsp; | \n",
    "| img6 |  __3.698129__ | 6.497077 |  8000&nbsp;&nbsp;&nbsp; | 8000&nbsp;&nbsp;&nbsp; |  47&nbsp;&nbsp;&nbsp; | 40&nbsp;&nbsp;&nbsp; |  12&nbsp;&nbsp;&nbsp; | 9&nbsp;&nbsp;&nbsp; | \n",
    "| Mean |  __1.411844__ | 2.005890 |  8000.0 | 8000.0 |  318.8 | 300.6 |  113.6 | 79.6 | \n",
    "| Sum |  __7.059220__ | 10.029451 |  40000&nbsp;&nbsp;&nbsp; | 40000&nbsp;&nbsp;&nbsp; |  1594&nbsp;&nbsp;&nbsp; | 1503&nbsp;&nbsp;&nbsp; |  568&nbsp;&nbsp;&nbsp; | 398&nbsp;&nbsp;&nbsp; | \n",
    "\n",
    "### Experiment: bark rotated\n",
    "\n",
    "| | fix | baseline|fix | baseline|fix | baseline |\n",
    "|----|----|----|----|----|----|----|\n",
    "|  |  error| | tentatives| | inliers| |\n",
    "| img2 |  2.583919 | __2.530097__ |  36&nbsp;&nbsp;&nbsp; | 40&nbsp;&nbsp;&nbsp; |  9&nbsp;&nbsp;&nbsp; | 8&nbsp;&nbsp;&nbsp; | \n",
    "| img3 |  __1.466449__ | 3.541560 |  20&nbsp;&nbsp;&nbsp; | 23&nbsp;&nbsp;&nbsp; |  6&nbsp;&nbsp;&nbsp; | 6&nbsp;&nbsp;&nbsp; | \n",
    "| img4 |  1.098778 | __0.894178__ |  58&nbsp;&nbsp;&nbsp; | 53&nbsp;&nbsp;&nbsp; |  26&nbsp;&nbsp;&nbsp; | 19&nbsp;&nbsp;&nbsp; | \n",
    "| img5 |  __0.764558__ | 1.086956 |  40&nbsp;&nbsp;&nbsp; | 34&nbsp;&nbsp;&nbsp; |  24&nbsp;&nbsp;&nbsp; | 15&nbsp;&nbsp;&nbsp; | \n",
    "| img6 |  0.972219 | __0.952408__ |  25&nbsp;&nbsp;&nbsp; | 30&nbsp;&nbsp;&nbsp; |  21&nbsp;&nbsp;&nbsp; | 14&nbsp;&nbsp;&nbsp; | \n",
    "| Mean |  __1.377185__ | 1.801040 |  35.8 | 36.0 |  17.2 | 12.4 | \n",
    "| Sum |  __6.885923__ | 9.005199 |  179&nbsp;&nbsp;&nbsp; | 180&nbsp;&nbsp;&nbsp; |  86&nbsp;&nbsp;&nbsp; | 62&nbsp;&nbsp;&nbsp; | \n",
    "\n",
    "### Experiment: boat rotated\n",
    "\n",
    "| | fix | baseline|fix | baseline|fix | baseline |\n",
    "|----|----|----|----|----|----|----|\n",
    "|  |  error| | tentatives| | inliers| |\n",
    "| img2 |  1.073732 | __0.684940__ |  381&nbsp;&nbsp;&nbsp; | 582&nbsp;&nbsp;&nbsp; |  99&nbsp;&nbsp;&nbsp; | 160&nbsp;&nbsp;&nbsp; | \n",
    "| img3 |  __0.601956__ | 0.687411 |  203&nbsp;&nbsp;&nbsp; | 279&nbsp;&nbsp;&nbsp; |  61&nbsp;&nbsp;&nbsp; | 84&nbsp;&nbsp;&nbsp; | \n",
    "| img4 |  __1.429516__ | 1.571157 |  160&nbsp;&nbsp;&nbsp; | 156&nbsp;&nbsp;&nbsp; |  51&nbsp;&nbsp;&nbsp; | 37&nbsp;&nbsp;&nbsp; | \n",
    "| img5 |  2.012444 | __1.973402__ |  85&nbsp;&nbsp;&nbsp; | 97&nbsp;&nbsp;&nbsp; |  22&nbsp;&nbsp;&nbsp; | 22&nbsp;&nbsp;&nbsp; | \n",
    "| img6 |  __5.807388__ | 6.131644 |  17&nbsp;&nbsp;&nbsp; | 24&nbsp;&nbsp;&nbsp; |  6&nbsp;&nbsp;&nbsp; | 8&nbsp;&nbsp;&nbsp; | \n",
    "| Mean |  __2.185007__ | 2.209711 |  169.2 | 227.6 |  47.8 | 62.2 | \n",
    "| Sum |  __10.925035__ | 11.048554 |  846&nbsp;&nbsp;&nbsp; | 1138&nbsp;&nbsp;&nbsp; |  239&nbsp;&nbsp;&nbsp; | 311&nbsp;&nbsp;&nbsp; | \n",
    "\n",
    "\n",
    "## Comparison of Hessian+SIFT baseline and fixed version\n",
    "\n",
    "### Experiment: synthetic pi rotation\n",
    "\n",
    "* reference img keypoints\n",
    "\n",
    "|fix | baseline|\n",
    "|---|--|\n",
    "|8000|8000|\n",
    "\n",
    "* Homography estimation\n",
    "| | fix | baseline|fix | baseline|fix | baseline|fix | baseline |\n",
    "|----|----|----|----|----|----|----|----|----|\n",
    "|  |  error| | keypoints| | tentatives| | inliers| |\n",
    "| 90° |  __0.000229__ | 0.371268 |  8000&nbsp;&nbsp;&nbsp; | 8000&nbsp;&nbsp;&nbsp; |  5455&nbsp;&nbsp;&nbsp; | 5033&nbsp;&nbsp;&nbsp; |  5418&nbsp;&nbsp;&nbsp; | 2658&nbsp;&nbsp;&nbsp; | \n",
    "| 180° |  __0.002372__ | 0.700081 |  8000&nbsp;&nbsp;&nbsp; | 8000&nbsp;&nbsp;&nbsp; |  4138&nbsp;&nbsp;&nbsp; | 4841&nbsp;&nbsp;&nbsp; |  3834&nbsp;&nbsp;&nbsp; | 2555&nbsp;&nbsp;&nbsp; | \n",
    "| 270° |  __0.002008__ | 0.508083 |  8000&nbsp;&nbsp;&nbsp; | 8000&nbsp;&nbsp;&nbsp; |  4457&nbsp;&nbsp;&nbsp; | 4731&nbsp;&nbsp;&nbsp; |  4281&nbsp;&nbsp;&nbsp; | 2631&nbsp;&nbsp;&nbsp; | \n",
    "| Mean |  __0.001536__ | 0.526477 |  8000.0 | 8000.0 |  4683.3 | 4868.3 |  4511.0 | 2614.7 | \n",
    "| Sum |  __0.004609__ | 1.579432 |  24000&nbsp;&nbsp;&nbsp; | 24000&nbsp;&nbsp;&nbsp; |  14050&nbsp;&nbsp;&nbsp; | 14605&nbsp;&nbsp;&nbsp; |  13533&nbsp;&nbsp;&nbsp; | 7844&nbsp;&nbsp;&nbsp; | \n",
    "\n",
    "### Experiment: synthetic rescaling lanczos\n",
    "\n",
    "* reference img keypoints\n",
    "\n",
    "|fix | baseline|\n",
    "|---|--|\n",
    "|8000|8000|\n",
    "\n",
    "* Homography estimation\n",
    "| | fix | baseline|fix | baseline|fix | baseline|fix | baseline |\n",
    "|----|----|----|----|----|----|----|----|----|\n",
    "|  |  error| | keypoints| | tentatives| | inliers| |\n",
    "| 0.2 |  __0.186208__ | 0.372725 |  8000&nbsp;&nbsp;&nbsp; | 8000&nbsp;&nbsp;&nbsp; |  148&nbsp;&nbsp;&nbsp; | 165&nbsp;&nbsp;&nbsp; |  113&nbsp;&nbsp;&nbsp; | 99&nbsp;&nbsp;&nbsp; | \n",
    "| 0.3 |  __0.028849__ | 0.325885 |  8000&nbsp;&nbsp;&nbsp; | 8000&nbsp;&nbsp;&nbsp; |  583&nbsp;&nbsp;&nbsp; | 557&nbsp;&nbsp;&nbsp; |  514&nbsp;&nbsp;&nbsp; | 306&nbsp;&nbsp;&nbsp; | \n",
    "| 0.4 |  __0.021498__ | 0.279627 |  8000&nbsp;&nbsp;&nbsp; | 8000&nbsp;&nbsp;&nbsp; |  1243&nbsp;&nbsp;&nbsp; | 1198&nbsp;&nbsp;&nbsp; |  1144&nbsp;&nbsp;&nbsp; | 651&nbsp;&nbsp;&nbsp; | \n",
    "| 0.5 |  __0.020850__ | 0.258718 |  8000&nbsp;&nbsp;&nbsp; | 8000&nbsp;&nbsp;&nbsp; |  2139&nbsp;&nbsp;&nbsp; | 2032&nbsp;&nbsp;&nbsp; |  1907&nbsp;&nbsp;&nbsp; | 1021&nbsp;&nbsp;&nbsp; | \n",
    "| 0.6 |  __0.056244__ | 0.211367 |  8000&nbsp;&nbsp;&nbsp; | 8000&nbsp;&nbsp;&nbsp; |  3060&nbsp;&nbsp;&nbsp; | 2715&nbsp;&nbsp;&nbsp; |  2240&nbsp;&nbsp;&nbsp; | 1584&nbsp;&nbsp;&nbsp; | \n",
    "| 0.7 |  __0.056486__ | 0.155855 |  8000&nbsp;&nbsp;&nbsp; | 8000&nbsp;&nbsp;&nbsp; |  3902&nbsp;&nbsp;&nbsp; | 3304&nbsp;&nbsp;&nbsp; |  3050&nbsp;&nbsp;&nbsp; | 1664&nbsp;&nbsp;&nbsp; | \n",
    "| 0.8 |  __0.022544__ | 0.111916 |  8000&nbsp;&nbsp;&nbsp; | 8000&nbsp;&nbsp;&nbsp; |  4807&nbsp;&nbsp;&nbsp; | 4228&nbsp;&nbsp;&nbsp; |  4066&nbsp;&nbsp;&nbsp; | 2132&nbsp;&nbsp;&nbsp; | \n",
    "| 0.9 |  __0.053692__ | 0.143529 |  8000&nbsp;&nbsp;&nbsp; | 8000&nbsp;&nbsp;&nbsp; |  5371&nbsp;&nbsp;&nbsp; | 4265&nbsp;&nbsp;&nbsp; |  4100&nbsp;&nbsp;&nbsp; | 2049&nbsp;&nbsp;&nbsp; | \n",
    "| Mean |  __0.055796__ | 0.232453 |  8000.0 | 8000.0 |  2656.6 | 2308.0 |  2141.8 | 1188.2 | \n",
    "| Sum |  __0.446370__ | 1.859624 |  64000&nbsp;&nbsp;&nbsp; | 64000&nbsp;&nbsp;&nbsp; |  21253&nbsp;&nbsp;&nbsp; | 18464&nbsp;&nbsp;&nbsp; |  17134&nbsp;&nbsp;&nbsp; | 9506&nbsp;&nbsp;&nbsp; | \n",
    "\n",
    "### Experiment: bark\n",
    "\n",
    "* reference img keypoints\n",
    "\n",
    "|fix | baseline|\n",
    "|---|--|\n",
    "|8000|8000|\n",
    "\n",
    "* Homography estimation\n",
    "| | fix | baseline|fix | baseline|fix | baseline|fix | baseline |\n",
    "|----|----|----|----|----|----|----|----|----|\n",
    "|  |  error| | keypoints| | tentatives| | inliers| |\n",
    "| img2 |  __1.298491__ | 1.359559 |  8000&nbsp;&nbsp;&nbsp; | 8000&nbsp;&nbsp;&nbsp; |  226&nbsp;&nbsp;&nbsp; | 186&nbsp;&nbsp;&nbsp; |  48&nbsp;&nbsp;&nbsp; | 32&nbsp;&nbsp;&nbsp; | \n",
    "| img3 |  __1.848227__ | 2.520249 |  8000&nbsp;&nbsp;&nbsp; | 8000&nbsp;&nbsp;&nbsp; |  105&nbsp;&nbsp;&nbsp; | 119&nbsp;&nbsp;&nbsp; |  27&nbsp;&nbsp;&nbsp; | 26&nbsp;&nbsp;&nbsp; | \n",
    "| img4 |  __1.061439__ | 1.462695 |  8000&nbsp;&nbsp;&nbsp; | 8000&nbsp;&nbsp;&nbsp; |  186&nbsp;&nbsp;&nbsp; | 185&nbsp;&nbsp;&nbsp; |  94&nbsp;&nbsp;&nbsp; | 68&nbsp;&nbsp;&nbsp; | \n",
    "| img5 |  __0.852482__ | 0.938638 |  8000&nbsp;&nbsp;&nbsp; | 8000&nbsp;&nbsp;&nbsp; |  177&nbsp;&nbsp;&nbsp; | 165&nbsp;&nbsp;&nbsp; |  79&nbsp;&nbsp;&nbsp; | 62&nbsp;&nbsp;&nbsp; | \n",
    "| img6 |  __0.990409__ | 1.408153 |  8000&nbsp;&nbsp;&nbsp; | 8000&nbsp;&nbsp;&nbsp; |  54&nbsp;&nbsp;&nbsp; | 65&nbsp;&nbsp;&nbsp; |  28&nbsp;&nbsp;&nbsp; | 27&nbsp;&nbsp;&nbsp; | \n",
    "| Mean |  __1.210209__ | 1.537859 |  8000.0 | 8000.0 |  149.6 | 144.0 |  55.2 | 43.0 | \n",
    "| Sum |  __6.051047__ | 7.689294 |  40000&nbsp;&nbsp;&nbsp; | 40000&nbsp;&nbsp;&nbsp; |  748&nbsp;&nbsp;&nbsp; | 720&nbsp;&nbsp;&nbsp; |  276&nbsp;&nbsp;&nbsp; | 215&nbsp;&nbsp;&nbsp; | \n",
    "\n",
    "### Experiment: boat\n",
    "\n",
    "* reference img keypoints\n",
    "\n",
    "|fix | baseline|\n",
    "|---|--|\n",
    "|8000|8000|\n",
    "\n",
    "* Homography estimation\n",
    "| | fix | baseline|fix | baseline|fix | baseline|fix | baseline |\n",
    "|----|----|----|----|----|----|----|----|----|\n",
    "|  |  error| | keypoints| | tentatives| | inliers| |\n",
    "| img2 |  __0.294163__ | 0.903062 |  8000&nbsp;&nbsp;&nbsp; | 8000&nbsp;&nbsp;&nbsp; |  1630&nbsp;&nbsp;&nbsp; | 1425&nbsp;&nbsp;&nbsp; |  579&nbsp;&nbsp;&nbsp; | 349&nbsp;&nbsp;&nbsp; | \n",
    "| img3 |  0.708375 | __0.511721__ |  8000&nbsp;&nbsp;&nbsp; | 8000&nbsp;&nbsp;&nbsp; |  659&nbsp;&nbsp;&nbsp; | 609&nbsp;&nbsp;&nbsp; |  222&nbsp;&nbsp;&nbsp; | 152&nbsp;&nbsp;&nbsp; | \n",
    "| img4 |  1.266917 | __1.165587__ |  8000&nbsp;&nbsp;&nbsp; | 8000&nbsp;&nbsp;&nbsp; |  464&nbsp;&nbsp;&nbsp; | 465&nbsp;&nbsp;&nbsp; |  145&nbsp;&nbsp;&nbsp; | 94&nbsp;&nbsp;&nbsp; | \n",
    "| img5 |  __1.064200__ | 1.380337 |  8000&nbsp;&nbsp;&nbsp; | 8000&nbsp;&nbsp;&nbsp; |  297&nbsp;&nbsp;&nbsp; | 286&nbsp;&nbsp;&nbsp; |  82&nbsp;&nbsp;&nbsp; | 53&nbsp;&nbsp;&nbsp; | \n",
    "| img6 |  __3.810473__ | 9.044143 |  8000&nbsp;&nbsp;&nbsp; | 8000&nbsp;&nbsp;&nbsp; |  58&nbsp;&nbsp;&nbsp; | 57&nbsp;&nbsp;&nbsp; |  13&nbsp;&nbsp;&nbsp; | 11&nbsp;&nbsp;&nbsp; | \n",
    "| Mean |  __1.428826__ | 2.600970 |  8000.0 | 8000.0 |  621.6 | 568.4 |  208.2 | 131.8 | \n",
    "| Sum |  __7.144129__ | 13.004850 |  40000&nbsp;&nbsp;&nbsp; | 40000&nbsp;&nbsp;&nbsp; |  3108&nbsp;&nbsp;&nbsp; | 2842&nbsp;&nbsp;&nbsp; |  1041&nbsp;&nbsp;&nbsp; | 659&nbsp;&nbsp;&nbsp; | \n",
    "\n",
    "\n",
    "### Experiment: synthetic pi rotation\n",
    "\n",
    "| | fix | baseline|fix | baseline|fix | baseline |\n",
    "|----|----|----|----|----|----|----|\n",
    "|  |  error| | tentatives| | inliers| |\n",
    "| 90° |  __0.000168__ | 0.520831 |  5540&nbsp;&nbsp;&nbsp; | 5050&nbsp;&nbsp;&nbsp; |  5506&nbsp;&nbsp;&nbsp; | 3245&nbsp;&nbsp;&nbsp; | \n",
    "| 180° |  __0.002262__ | 0.660425 |  4231&nbsp;&nbsp;&nbsp; | 4890&nbsp;&nbsp;&nbsp; |  3934&nbsp;&nbsp;&nbsp; | 2723&nbsp;&nbsp;&nbsp; | \n",
    "| 270° |  __0.002193__ | 0.598328 |  4571&nbsp;&nbsp;&nbsp; | 4764&nbsp;&nbsp;&nbsp; |  4401&nbsp;&nbsp;&nbsp; | 2284&nbsp;&nbsp;&nbsp; | \n",
    "| Mean |  __0.001541__ | 0.593195 |  4780.7 | 4901.3 |  4613.7 | 2750.7 | \n",
    "| Sum |  __0.004624__ | 1.779584 |  14342&nbsp;&nbsp;&nbsp; | 14704&nbsp;&nbsp;&nbsp; |  13841&nbsp;&nbsp;&nbsp; | 8252&nbsp;&nbsp;&nbsp; | \n",
    "\n",
    "### Experiment: synthetic rescaling lanczos\n",
    "\n",
    "| | fix | baseline|fix | baseline|fix | baseline |\n",
    "|----|----|----|----|----|----|----|\n",
    "|  |  error| | tentatives| | inliers| |\n",
    "| 0.2 |  __0.041860__ | 0.528019 |  105&nbsp;&nbsp;&nbsp; | 115&nbsp;&nbsp;&nbsp; |  88&nbsp;&nbsp;&nbsp; | 56&nbsp;&nbsp;&nbsp; | \n",
    "| 0.3 |  __0.016170__ | 0.272292 |  462&nbsp;&nbsp;&nbsp; | 443&nbsp;&nbsp;&nbsp; |  406&nbsp;&nbsp;&nbsp; | 263&nbsp;&nbsp;&nbsp; | \n",
    "| 0.4 |  __0.013128__ | 0.283455 |  1125&nbsp;&nbsp;&nbsp; | 1046&nbsp;&nbsp;&nbsp; |  1037&nbsp;&nbsp;&nbsp; | 581&nbsp;&nbsp;&nbsp; | \n",
    "| 0.5 |  __0.006594__ | 0.213915 |  2027&nbsp;&nbsp;&nbsp; | 1902&nbsp;&nbsp;&nbsp; |  1894&nbsp;&nbsp;&nbsp; | 1051&nbsp;&nbsp;&nbsp; | \n",
    "| 0.6 |  __0.039449__ | 0.186995 |  2977&nbsp;&nbsp;&nbsp; | 2616&nbsp;&nbsp;&nbsp; |  2478&nbsp;&nbsp;&nbsp; | 1588&nbsp;&nbsp;&nbsp; | \n",
    "| 0.7 |  __0.048357__ | 0.175392 |  3866&nbsp;&nbsp;&nbsp; | 3204&nbsp;&nbsp;&nbsp; |  2904&nbsp;&nbsp;&nbsp; | 1615&nbsp;&nbsp;&nbsp; | \n",
    "| 0.8 |  __0.008719__ | 0.227540 |  4796&nbsp;&nbsp;&nbsp; | 4219&nbsp;&nbsp;&nbsp; |  4434&nbsp;&nbsp;&nbsp; | 2013&nbsp;&nbsp;&nbsp; | \n",
    "| 0.9 |  __0.045975__ | 0.211204 |  5393&nbsp;&nbsp;&nbsp; | 4249&nbsp;&nbsp;&nbsp; |  4221&nbsp;&nbsp;&nbsp; | 2117&nbsp;&nbsp;&nbsp; | \n",
    "| Mean |  __0.027532__ | 0.262352 |  2593.9 | 2224.2 |  2182.8 | 1160.5 | \n",
    "| Sum |  __0.220252__ | 2.098813 |  20751&nbsp;&nbsp;&nbsp; | 17794&nbsp;&nbsp;&nbsp; |  17462&nbsp;&nbsp;&nbsp; | 9284&nbsp;&nbsp;&nbsp; | \n",
    "\n",
    "### Experiment: bark\n",
    "\n",
    "| | fix | baseline|fix | baseline|fix | baseline |\n",
    "|----|----|----|----|----|----|----|\n",
    "|  |  error| | tentatives| | inliers| |\n",
    "| img2 |  1.718248 | __1.301677__ |  165&nbsp;&nbsp;&nbsp; | 145&nbsp;&nbsp;&nbsp; |  33&nbsp;&nbsp;&nbsp; | 24&nbsp;&nbsp;&nbsp; | \n",
    "| img3 |  __1.645833__ | 1.754899 |  77&nbsp;&nbsp;&nbsp; | 80&nbsp;&nbsp;&nbsp; |  19&nbsp;&nbsp;&nbsp; | 15&nbsp;&nbsp;&nbsp; | \n",
    "| img4 |  __1.018357__ | 1.429559 |  132&nbsp;&nbsp;&nbsp; | 138&nbsp;&nbsp;&nbsp; |  62&nbsp;&nbsp;&nbsp; | 54&nbsp;&nbsp;&nbsp; | \n",
    "| img5 |  __0.734134__ | 0.742578 |  111&nbsp;&nbsp;&nbsp; | 114&nbsp;&nbsp;&nbsp; |  57&nbsp;&nbsp;&nbsp; | 43&nbsp;&nbsp;&nbsp; | \n",
    "| img6 |  __0.936459__ | 1.513469 |  41&nbsp;&nbsp;&nbsp; | 51&nbsp;&nbsp;&nbsp; |  21&nbsp;&nbsp;&nbsp; | 18&nbsp;&nbsp;&nbsp; | \n",
    "| Mean |  __1.210606__ | 1.348436 |  105.2 | 105.6 |  38.4 | 30.8 | \n",
    "| Sum |  __6.053031__ | 6.742182 |  526&nbsp;&nbsp;&nbsp; | 528&nbsp;&nbsp;&nbsp; |  192&nbsp;&nbsp;&nbsp; | 154&nbsp;&nbsp;&nbsp; | \n",
    "\n",
    "### Experiment: boat\n",
    "\n",
    "| | fix | baseline|fix | baseline|fix | baseline |\n",
    "|----|----|----|----|----|----|----|\n",
    "|  |  error| | tentatives| | inliers| |\n",
    "| img2 |  0.472435 | __0.398556__ |  1620&nbsp;&nbsp;&nbsp; | 1389&nbsp;&nbsp;&nbsp; |  551&nbsp;&nbsp;&nbsp; | 383&nbsp;&nbsp;&nbsp; | \n",
    "| img3 |  __0.278010__ | 1.145879 |  628&nbsp;&nbsp;&nbsp; | 568&nbsp;&nbsp;&nbsp; |  250&nbsp;&nbsp;&nbsp; | 155&nbsp;&nbsp;&nbsp; | \n",
    "| img4 |  1.586896 | __1.437956__ |  388&nbsp;&nbsp;&nbsp; | 390&nbsp;&nbsp;&nbsp; |  113&nbsp;&nbsp;&nbsp; | 79&nbsp;&nbsp;&nbsp; | \n",
    "| img5 |  1.819769 | __1.247037__ |  240&nbsp;&nbsp;&nbsp; | 210&nbsp;&nbsp;&nbsp; |  71&nbsp;&nbsp;&nbsp; | 41&nbsp;&nbsp;&nbsp; | \n",
    "| img6 |  5.721497 | __3.046470__ |  35&nbsp;&nbsp;&nbsp; | 37&nbsp;&nbsp;&nbsp; |  10&nbsp;&nbsp;&nbsp; | 10&nbsp;&nbsp;&nbsp; | \n",
    "| Mean |  1.975721 | __1.455180__ |  582.2 | 518.8 |  199.0 | 133.6 | \n",
    "| Sum |  9.878607 | __7.275898__ |  2911&nbsp;&nbsp;&nbsp; | 2594&nbsp;&nbsp;&nbsp; |  995&nbsp;&nbsp;&nbsp; | 668&nbsp;&nbsp;&nbsp; | \n",
    "\n",
    "### Experiment: bark rotated\n",
    "\n",
    "| | fix | baseline|fix | baseline|fix | baseline |\n",
    "|----|----|----|----|----|----|----|\n",
    "|  |  error| | tentatives| | inliers| |\n",
    "| img2 |  __1.258077__ | 1.950414 |  144&nbsp;&nbsp;&nbsp; | 139&nbsp;&nbsp;&nbsp; |  38&nbsp;&nbsp;&nbsp; | 21&nbsp;&nbsp;&nbsp; | \n",
    "| img3 |  1.877103 | __1.604224__ |  101&nbsp;&nbsp;&nbsp; | 108&nbsp;&nbsp;&nbsp; |  30&nbsp;&nbsp;&nbsp; | 20&nbsp;&nbsp;&nbsp; | \n",
    "| img4 |  __0.992745__ | 1.170061 |  138&nbsp;&nbsp;&nbsp; | 138&nbsp;&nbsp;&nbsp; |  71&nbsp;&nbsp;&nbsp; | 58&nbsp;&nbsp;&nbsp; | \n",
    "| img5 |  __0.761343__ | 1.441805 |  86&nbsp;&nbsp;&nbsp; | 103&nbsp;&nbsp;&nbsp; |  51&nbsp;&nbsp;&nbsp; | 36&nbsp;&nbsp;&nbsp; | \n",
    "| img6 |  0.967433 | __0.842671__ |  51&nbsp;&nbsp;&nbsp; | 52&nbsp;&nbsp;&nbsp; |  26&nbsp;&nbsp;&nbsp; | 18&nbsp;&nbsp;&nbsp; | \n",
    "| Mean |  __1.171340__ | 1.401835 |  104.0 | 108.0 |  43.2 | 30.6 | \n",
    "| Sum |  __5.856701__ | 7.009175 |  520&nbsp;&nbsp;&nbsp; | 540&nbsp;&nbsp;&nbsp; |  216&nbsp;&nbsp;&nbsp; | 153&nbsp;&nbsp;&nbsp; | \n",
    "\n",
    "### Experiment: boat rotated\n",
    "\n",
    "| | fix | baseline|fix | baseline|fix | baseline |\n",
    "|----|----|----|----|----|----|----|\n",
    "|  |  error| | tentatives| | inliers| |\n",
    "| img2 |  __0.626339__ | 1.051984 |  864&nbsp;&nbsp;&nbsp; | 1226&nbsp;&nbsp;&nbsp; |  208&nbsp;&nbsp;&nbsp; | 290&nbsp;&nbsp;&nbsp; | \n",
    "| img3 |  __0.407249__ | 1.226395 |  405&nbsp;&nbsp;&nbsp; | 526&nbsp;&nbsp;&nbsp; |  113&nbsp;&nbsp;&nbsp; | 132&nbsp;&nbsp;&nbsp; | \n",
    "| img4 |  1.677824 | __1.628400__ |  352&nbsp;&nbsp;&nbsp; | 386&nbsp;&nbsp;&nbsp; |  100&nbsp;&nbsp;&nbsp; | 85&nbsp;&nbsp;&nbsp; | \n",
    "| img5 |  1.230647 | __1.116813__ |  198&nbsp;&nbsp;&nbsp; | 206&nbsp;&nbsp;&nbsp; |  54&nbsp;&nbsp;&nbsp; | 40&nbsp;&nbsp;&nbsp; | \n",
    "| img6 |  __4.049292__ | 4.887769 |  41&nbsp;&nbsp;&nbsp; | 44&nbsp;&nbsp;&nbsp; |  11&nbsp;&nbsp;&nbsp; | 11&nbsp;&nbsp;&nbsp; | \n",
    "| Mean |  __1.598270__ | 1.982272 |  372.0 | 477.6 |  97.2 | 111.6 | \n",
    "| Sum |  __7.991352__ | 9.911361 |  1860&nbsp;&nbsp;&nbsp; | 2388&nbsp;&nbsp;&nbsp; |  486&nbsp;&nbsp;&nbsp; | 558&nbsp;&nbsp;&nbsp; | \n"
   ]
  },
  {
   "cell_type": "code",
   "execution_count": 1,
   "id": "86dc90c7",
   "metadata": {
    "pycharm": {
     "name": "#%%\n"
    }
   },
   "outputs": [
    {
     "name": "stdout",
     "output_type": "stream",
     "text": [
      "Exact scale adjustments:\n",
      "scale: 0.2 => 0.2, dimension: 765x510 => 153x102\n",
      "scale: 0.3 => 0.2980392156862745, dimension: 765x510 => 228x152\n",
      "scale: 0.4 => 0.4, dimension: 765x510 => 306x204\n",
      "scale: 0.5 => 0.5019607843137255, dimension: 765x510 => 384x256\n",
      "scale: 0.6 => 0.6, dimension: 765x510 => 459x306\n",
      "scale: 0.7 => 0.6980392156862745, dimension: 765x510 => 534x356\n",
      "scale: 0.8 => 0.8, dimension: 765x510 => 612x408\n",
      "scale: 0.9 => 0.9019607843137255, dimension: 765x510 => 690x460\n"
     ]
    }
   ],
   "source": [
    "import cv2 as cv\n",
    "from tqdm.notebook import tqdm\n",
    "\n",
    "from dataset_utils import Hs_imgs_for_boat, Hs_imgs_for_bark, Hs_imgs_for_rotation, Hs_imgs_for_scaling\n",
    "from opencv_utils import get_tentatives, get_visible_part_mean_absolute_reprojection_error\n",
    "from jupyter_utils import JupyterPrinter\n",
    "\n",
    "\n",
    "def homography_estimation_experiment(descriptor, Hs_gt, imgs, e_name, instance_names, p,\n",
    "                                     mean=True, sum=False):\n",
    "    p.print()\n",
    "    p.print(f\"running experiment: {e_name}\")\n",
    "    p.add_experiment(e_name)\n",
    "    p.print()\n",
    "\n",
    "    kpts_0, desc_0 = descriptor.detectAndCompute(imgs[0], mask=None)\n",
    "\n",
    "    p.print(f\"reference img keypoints: {len(kpts_0)}\")\n",
    "    p.add_special_key(\"reference img keypoints\", str(len(kpts_0)))\n",
    "    p.print()\n",
    "    p.print(f\"{'':>8}{'error':>12}{'keypoints':>12}{'tentatives':>12}{'inliers':>10}\")\n",
    "\n",
    "    sum_reproj_err = 0.0\n",
    "    sum_keypoints = 0\n",
    "    sum_tent_count = 0\n",
    "    sum_in_count = 0\n",
    "\n",
    "    for other_i in tqdm(range(1, len(imgs)), leave=False):\n",
    "        kpts_other, desc_other = descriptor.detectAndCompute(imgs[other_i], mask=None)\n",
    "        kpts_n = len(kpts_other)\n",
    "\n",
    "        src_pts, dst_pts = get_tentatives(kpts_0, desc_0, kpts_other, desc_other, ratio_threshold=0.8)\n",
    "        if len(src_pts) < 4:\n",
    "            print(f\"WARNING: less than 4 tentatives: {len(src_pts)}\")\n",
    "            p.print(f\"{instance_names[other_i - 1]:>8}{'N/A':>12}{'N/A':>12}{'N/A':>12}{'N/A':>10}\")\n",
    "            p.add_data([instance_names[other_i - 1], 'N/A', 'N/A', 'N/A', 'N/A'])\n",
    "            continue\n",
    "\n",
    "        H_est, inlier_mask = cv.findHomography(src_pts, dst_pts,\n",
    "                                               cv.RANSAC,\n",
    "                                               maxIters=100000,\n",
    "                                               ransacReprojThreshold=0.5,\n",
    "                                               confidence=0.9999)\n",
    "        H_gt = Hs_gt[other_i - 1]\n",
    "\n",
    "        reproj_err = get_visible_part_mean_absolute_reprojection_error(imgs[0], imgs[other_i], H_gt, H_est)\n",
    "        tent_count = len(src_pts)\n",
    "        in_count = int(inlier_mask.sum())\n",
    "\n",
    "        p.print(f\"{instance_names[other_i - 1]:>8}{reproj_err:>12.6f}{kpts_n:>12}{tent_count:>12}{in_count:>10}\")\n",
    "        p.add_data([instance_names[other_i - 1], f\"{reproj_err:.6f}\", f\"{kpts_n}\", f\"{tent_count}\", f\"{in_count}\"])\n",
    "        sum_reproj_err += reproj_err\n",
    "        sum_keypoints += kpts_n\n",
    "        sum_tent_count += tent_count\n",
    "        sum_in_count += in_count\n",
    "\n",
    "    l = len(imgs) - 1\n",
    "    if mean:\n",
    "        p.print(f\"{'Mean':>8}{sum_reproj_err / l:>12.6f}{sum_keypoints / l:>14.1f}{sum_tent_count / l:>12.1f}{sum_in_count / l:>10.1f}\")\n",
    "        p.add_data([\"Mean\", f\"{sum_reproj_err / l:.6f}\", f\"{sum_keypoints / l:.1f}\", f\"{sum_tent_count / l:.1f}\", f\"{sum_in_count / l:.1f}\"])\n",
    "    if sum:\n",
    "        p.print(f\"{'Sum':>8}{sum_reproj_err:>12.6f}{sum_keypoints:>12}{sum_tent_count:>12}{sum_in_count:>10}\")\n",
    "        p.add_data([\"Sum\", f\"{sum_reproj_err:.6f}\", f\"{sum_keypoints}\", f\"{sum_tent_count}\", f\"{sum_in_count}\"])\n",
    "\n",
    "\n",
    "Hs_boat, imgs_boat = Hs_imgs_for_boat()\n",
    "Hs_boat_rot, imgs_boat_rot = Hs_imgs_for_boat(rotate_query_imgs=True)\n",
    "Hs_bark, imgs_bark = Hs_imgs_for_bark()\n",
    "Hs_bark_rot, imgs_bark_rot = Hs_imgs_for_bark(rotate_query_imgs=True)\n",
    "Hs_rot, imgs_rot = Hs_imgs_for_rotation()\n",
    "print(\"Exact scale adjustments:\")\n",
    "Hs_scaling, imgs_scaling, scales = Hs_imgs_for_scaling()\n",
    "\n",
    "\n",
    "def run_on_descriptor(descriptor, descriptor_name, print_output=True, mean=True, sum=True):\n",
    "    p = JupyterPrinter(print_output, descriptor_name)\n",
    "    p.print()\n",
    "    p.print(f\"descriptor: {descriptor_name}:\")\n",
    "    p.print()\n",
    "    homography_estimation_experiment(descriptor, Hs_rot, imgs_rot, \"synthetic pi rotation\", [\"90°\", \"180°\", \"270°\"], p, mean, sum)\n",
    "    homography_estimation_experiment(descriptor, Hs_scaling, imgs_scaling, \"synthetic rescaling lanczos\", [f\"{s}\" for s in scales], p, mean, sum)\n",
    "    homography_estimation_experiment(descriptor, Hs_bark, imgs_bark, \"bark\", [f\"img{i}\" for i in range(2, 7)], p, mean, sum)\n",
    "    homography_estimation_experiment(descriptor, Hs_boat, imgs_boat, \"boat\", [f\"img{i}\" for i in range(2, 7)], p, mean, sum)\n",
    "    homography_estimation_experiment(descriptor, Hs_bark_rot, imgs_bark_rot, \"bark rotated\", [f\"img{i}\" for i in range(2, 7)], p, mean, sum)\n",
    "    homography_estimation_experiment(descriptor, Hs_boat_rot, imgs_boat_rot, \"boat rotated\", [f\"img{i}\" for i in range(2, 7)], p, mean, sum)\n",
    "    return p"
   ]
  },
  {
   "cell_type": "code",
   "execution_count": 2,
   "id": "3e949896",
   "metadata": {
    "pycharm": {
     "name": "#%%\n"
    },
    "scrolled": false
   },
   "outputs": [
    {
     "name": "stdout",
     "output_type": "stream",
     "text": [
      "Kornia Harris+SIFT\n",
      "\n",
      "descriptor: fix:\n",
      "\n",
      "\n",
      "running experiment: synthetic pi rotation\n",
      "\n",
      "reference img keypoints: 8000\n",
      "\n",
      "               error   keypoints  tentatives   inliers\n"
     ]
    },
    {
     "data": {
      "application/vnd.jupyter.widget-view+json": {
       "model_id": "",
       "version_major": 2,
       "version_minor": 0
      },
      "text/plain": [
       "  0%|          | 0/3 [00:00<?, ?it/s]"
      ]
     },
     "metadata": {},
     "output_type": "display_data"
    },
    {
     "name": "stdout",
     "output_type": "stream",
     "text": [
      "     90°    0.000086        8000        4917      4894\n",
      "    180°    0.002057        8000        2016      1820\n",
      "    270°    0.001590        8000        3292      3150\n",
      "    Mean    0.001244        8000.0      3408.3    3288.0\n",
      "     Sum    0.003732       24000       10225      9864\n",
      "\n",
      "running experiment: synthetic rescaling lanczos\n",
      "\n",
      "reference img keypoints: 8000\n",
      "\n",
      "               error   keypoints  tentatives   inliers\n"
     ]
    },
    {
     "data": {
      "application/vnd.jupyter.widget-view+json": {
       "model_id": "",
       "version_major": 2,
       "version_minor": 0
      },
      "text/plain": [
       "  0%|          | 0/8 [00:00<?, ?it/s]"
      ]
     },
     "metadata": {},
     "output_type": "display_data"
    },
    {
     "name": "stdout",
     "output_type": "stream",
     "text": [
      "     0.2    0.304985        8000          40        32\n",
      "     0.3    0.064964        8000         134       101\n",
      "     0.4    0.125535        8000         180       105\n",
      "     0.5    0.071734        8000         294       212\n",
      "     0.6    0.105994        8000         451       252\n",
      "     0.7    0.067540        8000        1144       811\n",
      "     0.8    0.028179        8000        2222      1870\n",
      "     0.9    0.042183        8000        3747      3050\n",
      "    Mean    0.101389        8000.0      1026.5     804.1\n",
      "     Sum    0.811114       64000        8212      6433\n",
      "\n",
      "running experiment: bark\n",
      "\n",
      "reference img keypoints: 8000\n",
      "\n",
      "               error   keypoints  tentatives   inliers\n"
     ]
    },
    {
     "data": {
      "application/vnd.jupyter.widget-view+json": {
       "model_id": "",
       "version_major": 2,
       "version_minor": 0
      },
      "text/plain": [
       "  0%|          | 0/5 [00:00<?, ?it/s]"
      ]
     },
     "metadata": {},
     "output_type": "display_data"
    },
    {
     "name": "stdout",
     "output_type": "stream",
     "text": [
      "    img2    1.481221        8000          69        20\n",
      "    img3    1.992532        8000          19         6\n",
      "    img4    0.998941        8000          83        44\n",
      "    img5    0.685333        8000          92        50\n",
      "    img6    1.053331        8000          32        23\n",
      "    Mean    1.242271        8000.0        59.0      28.6\n",
      "     Sum    6.211357       40000         295       143\n",
      "\n",
      "running experiment: boat\n",
      "\n",
      "reference img keypoints: 8000\n",
      "\n",
      "               error   keypoints  tentatives   inliers\n"
     ]
    },
    {
     "data": {
      "application/vnd.jupyter.widget-view+json": {
       "model_id": "",
       "version_major": 2,
       "version_minor": 0
      },
      "text/plain": [
       "  0%|          | 0/5 [00:00<?, ?it/s]"
      ]
     },
     "metadata": {},
     "output_type": "display_data"
    },
    {
     "name": "stdout",
     "output_type": "stream",
     "text": [
      "    img2    0.408136        8000         796       293\n",
      "    img3    0.392473        8000         392       154\n",
      "    img4    1.748843        8000         212        71\n",
      "    img5    0.811639        8000         147        38\n",
      "    img6    3.698129        8000          47        12\n",
      "    Mean    1.411844        8000.0       318.8     113.6\n",
      "     Sum    7.059220       40000        1594       568\n",
      "\n",
      "running experiment: bark rotated\n",
      "\n",
      "reference img keypoints: 8000\n",
      "\n",
      "               error   keypoints  tentatives   inliers\n"
     ]
    },
    {
     "data": {
      "application/vnd.jupyter.widget-view+json": {
       "model_id": "",
       "version_major": 2,
       "version_minor": 0
      },
      "text/plain": [
       "  0%|          | 0/5 [00:00<?, ?it/s]"
      ]
     },
     "metadata": {},
     "output_type": "display_data"
    },
    {
     "name": "stdout",
     "output_type": "stream",
     "text": [
      "    img2    1.438402        8000          52        10\n",
      "    img3    2.450429        8000          31        11\n",
      "    img4    1.205366        8000          80        32\n",
      "    img5    0.733495        8000          65        36\n",
      "    img6    0.960938        8000          49        34\n",
      "    Mean    1.357726        8000.0        55.4      24.6\n",
      "     Sum    6.788630       40000         277       123\n",
      "\n",
      "running experiment: boat rotated\n",
      "\n",
      "reference img keypoints: 8000\n",
      "\n",
      "               error   keypoints  tentatives   inliers\n"
     ]
    },
    {
     "data": {
      "application/vnd.jupyter.widget-view+json": {
       "model_id": "",
       "version_major": 2,
       "version_minor": 0
      },
      "text/plain": [
       "  0%|          | 0/5 [00:00<?, ?it/s]"
      ]
     },
     "metadata": {},
     "output_type": "display_data"
    },
    {
     "name": "stdout",
     "output_type": "stream",
     "text": [
      "    img2    0.425992        8000         393       102\n",
      "    img3    0.481066        8000         233        61\n",
      "    img4    1.108426        8000         192        57\n",
      "    img5    1.790350        8000         118        29\n",
      "    img6   41.977336        8000          33         7\n",
      "    Mean    9.156634        8000.0       193.8      51.2\n",
      "     Sum   45.783169       40000         969       256\n",
      "\n",
      "descriptor: baseline:\n",
      "\n",
      "\n",
      "running experiment: synthetic pi rotation\n",
      "\n",
      "reference img keypoints: 8000\n",
      "\n",
      "               error   keypoints  tentatives   inliers\n"
     ]
    },
    {
     "data": {
      "application/vnd.jupyter.widget-view+json": {
       "model_id": "",
       "version_major": 2,
       "version_minor": 0
      },
      "text/plain": [
       "  0%|          | 0/3 [00:00<?, ?it/s]"
      ]
     },
     "metadata": {},
     "output_type": "display_data"
    },
    {
     "name": "stdout",
     "output_type": "stream",
     "text": [
      "     90°    0.507817        8000        5177      4172\n",
      "    180°    0.697695        8000        4917      4567\n",
      "    270°    0.488448        8000        4924      4345\n",
      "    Mean    0.564653        8000.0      5006.0    4361.3\n",
      "     Sum    1.693960       24000       15018     13084\n",
      "\n",
      "running experiment: synthetic rescaling lanczos\n",
      "\n",
      "reference img keypoints: 8000\n",
      "\n",
      "               error   keypoints  tentatives   inliers\n"
     ]
    },
    {
     "data": {
      "application/vnd.jupyter.widget-view+json": {
       "model_id": "",
       "version_major": 2,
       "version_minor": 0
      },
      "text/plain": [
       "  0%|          | 0/8 [00:00<?, ?it/s]"
      ]
     },
     "metadata": {},
     "output_type": "display_data"
    },
    {
     "name": "stdout",
     "output_type": "stream",
     "text": [
      "     0.2    0.425292        8000          37        21\n",
      "     0.3    0.319130        8000          93        62\n",
      "     0.4    0.480419        8000         136        56\n",
      "     0.5    0.273491        8000         233       101\n",
      "     0.6    0.223376        8000         272       105\n",
      "     0.7    0.221891        8000         809       465\n",
      "     0.8    0.076154        8000        1763      1141\n",
      "     0.9    0.156813        8000        3109      1822\n",
      "    Mean    0.272071        8000.0       806.5     471.6\n",
      "     Sum    2.176565       64000        6452      3773\n",
      "\n",
      "running experiment: bark\n",
      "\n",
      "reference img keypoints: 8000\n",
      "\n",
      "               error   keypoints  tentatives   inliers\n"
     ]
    },
    {
     "data": {
      "application/vnd.jupyter.widget-view+json": {
       "model_id": "",
       "version_major": 2,
       "version_minor": 0
      },
      "text/plain": [
       "  0%|          | 0/5 [00:00<?, ?it/s]"
      ]
     },
     "metadata": {},
     "output_type": "display_data"
    },
    {
     "name": "stdout",
     "output_type": "stream",
     "text": [
      "    img2    1.999068        8000          64        12\n",
      "    img3    2.732964        8000          27         7\n",
      "    img4    1.420163        8000          69        24\n",
      "    img5    0.897297        8000          66        26\n",
      "    img6    1.858031        8000          52        27\n",
      "    Mean    1.781505        8000.0        55.6      19.2\n",
      "     Sum    8.907523       40000         278        96\n",
      "\n",
      "running experiment: boat\n",
      "\n",
      "reference img keypoints: 8000\n",
      "\n",
      "               error   keypoints  tentatives   inliers\n"
     ]
    },
    {
     "data": {
      "application/vnd.jupyter.widget-view+json": {
       "model_id": "",
       "version_major": 2,
       "version_minor": 0
      },
      "text/plain": [
       "  0%|          | 0/5 [00:00<?, ?it/s]"
      ]
     },
     "metadata": {},
     "output_type": "display_data"
    },
    {
     "name": "stdout",
     "output_type": "stream",
     "text": [
      "    img2    0.238166        8000         734       202\n",
      "    img3    0.593991        8000         378       112\n",
      "    img4    1.696703        8000         213        50\n",
      "    img5    1.003514        8000         138        25\n",
      "    img6    6.497077        8000          40         9\n",
      "    Mean    2.005890        8000.0       300.6      79.6\n",
      "     Sum   10.029451       40000        1503       398\n",
      "\n",
      "running experiment: bark rotated\n",
      "\n",
      "reference img keypoints: 8000\n",
      "\n",
      "               error   keypoints  tentatives   inliers\n"
     ]
    },
    {
     "data": {
      "application/vnd.jupyter.widget-view+json": {
       "model_id": "",
       "version_major": 2,
       "version_minor": 0
      },
      "text/plain": [
       "  0%|          | 0/5 [00:00<?, ?it/s]"
      ]
     },
     "metadata": {},
     "output_type": "display_data"
    },
    {
     "name": "stdout",
     "output_type": "stream",
     "text": [
      "    img2    1.883723        8000          61        13\n",
      "    img3    1.877412        8000          32         8\n",
      "    img4    1.174499        8000          74        27\n",
      "    img5    0.989077        8000          56        24\n",
      "    img6    0.919684        8000          54        28\n",
      "    Mean    1.368879        8000.0        55.4      20.0\n",
      "     Sum    6.844395       40000         277       100\n",
      "\n",
      "running experiment: boat rotated\n",
      "\n",
      "reference img keypoints: 8000\n",
      "\n",
      "               error   keypoints  tentatives   inliers\n"
     ]
    },
    {
     "data": {
      "application/vnd.jupyter.widget-view+json": {
       "model_id": "",
       "version_major": 2,
       "version_minor": 0
      },
      "text/plain": [
       "  0%|          | 0/5 [00:00<?, ?it/s]"
      ]
     },
     "metadata": {},
     "output_type": "display_data"
    },
    {
     "name": "stdout",
     "output_type": "stream",
     "text": [
      "    img2    1.111346        8000         591       176\n",
      "    img3    0.718889        8000         304        90\n",
      "    img4    1.541906        8000         197        42\n",
      "    img5    1.509552        8000         131        24\n",
      "    img6    5.071926        8000          48        12\n",
      "    Mean    1.990724        8000.0       254.2      68.8\n",
      "     Sum    9.953619       40000        1271       344\n",
      "\n",
      "descriptor: original:\n",
      "\n",
      "\n",
      "running experiment: synthetic pi rotation\n",
      "\n",
      "reference img keypoints: 8000\n",
      "\n",
      "               error   keypoints  tentatives   inliers\n"
     ]
    },
    {
     "data": {
      "application/vnd.jupyter.widget-view+json": {
       "model_id": "",
       "version_major": 2,
       "version_minor": 0
      },
      "text/plain": [
       "  0%|          | 0/3 [00:00<?, ?it/s]"
      ]
     },
     "metadata": {},
     "output_type": "display_data"
    },
    {
     "name": "stdout",
     "output_type": "stream",
     "text": [
      "     90°    0.496419        8000        5179      4698\n",
      "    180°    0.706754        8000        4946      4259\n",
      "    270°    0.498060        8000        4948      4683\n",
      "    Mean    0.567078        8000.0      5024.3    4546.7\n",
      "     Sum    1.701233       24000       15073     13640\n",
      "\n",
      "running experiment: synthetic rescaling lanczos\n",
      "\n",
      "reference img keypoints: 8000\n",
      "\n",
      "               error   keypoints  tentatives   inliers\n"
     ]
    },
    {
     "data": {
      "application/vnd.jupyter.widget-view+json": {
       "model_id": "",
       "version_major": 2,
       "version_minor": 0
      },
      "text/plain": [
       "  0%|          | 0/8 [00:00<?, ?it/s]"
      ]
     },
     "metadata": {},
     "output_type": "display_data"
    },
    {
     "name": "stdout",
     "output_type": "stream",
     "text": [
      "     0.2    0.504318        8000          41        24\n",
      "     0.3    0.356997        8000          93        41\n",
      "     0.4    0.316631        8000         132        48\n",
      "     0.5    0.264260        8000         219        82\n",
      "     0.6    0.338240        8000         255        88\n",
      "     0.7    0.155743        8000         821       450\n",
      "     0.8    0.133757        8000        1765      1029\n",
      "     0.9    0.118760        8000        3109      2031\n",
      "    Mean    0.273588        8000.0       804.4     474.1\n",
      "     Sum    2.188705       64000        6435      3793\n",
      "\n",
      "running experiment: bark\n",
      "\n",
      "reference img keypoints: 8000\n",
      "\n",
      "               error   keypoints  tentatives   inliers\n"
     ]
    },
    {
     "data": {
      "application/vnd.jupyter.widget-view+json": {
       "model_id": "",
       "version_major": 2,
       "version_minor": 0
      },
      "text/plain": [
       "  0%|          | 0/5 [00:00<?, ?it/s]"
      ]
     },
     "metadata": {},
     "output_type": "display_data"
    },
    {
     "name": "stdout",
     "output_type": "stream",
     "text": [
      "    img2    1.476190        8000          70        13\n",
      "    img3    3.375100        8000          24         8\n",
      "    img4    1.552632        8000          69        23\n",
      "    img5    0.971576        8000          70        32\n",
      "    img6    1.387325        8000          47        25\n",
      "    Mean    1.752565        8000.0        56.0      20.2\n",
      "     Sum    8.762824       40000         280       101\n",
      "\n",
      "running experiment: boat\n",
      "\n",
      "reference img keypoints: 8000\n",
      "\n",
      "               error   keypoints  tentatives   inliers\n"
     ]
    },
    {
     "data": {
      "application/vnd.jupyter.widget-view+json": {
       "model_id": "",
       "version_major": 2,
       "version_minor": 0
      },
      "text/plain": [
       "  0%|          | 0/5 [00:00<?, ?it/s]"
      ]
     },
     "metadata": {},
     "output_type": "display_data"
    },
    {
     "name": "stdout",
     "output_type": "stream",
     "text": [
      "    img2    0.573300        8000         731       199\n",
      "    img3    0.363062        8000         381       105\n",
      "    img4    1.489527        8000         212        51\n",
      "    img5    2.128259        8000         133        27\n",
      "    img6    3.064190        8000          41         9\n",
      "    Mean    1.523667        8000.0       299.6      78.2\n",
      "     Sum    7.618337       40000        1498       391\n",
      "\n",
      "running experiment: bark rotated\n",
      "\n",
      "reference img keypoints: 8000\n",
      "\n",
      "               error   keypoints  tentatives   inliers\n"
     ]
    },
    {
     "data": {
      "application/vnd.jupyter.widget-view+json": {
       "model_id": "",
       "version_major": 2,
       "version_minor": 0
      },
      "text/plain": [
       "  0%|          | 0/5 [00:00<?, ?it/s]"
      ]
     },
     "metadata": {},
     "output_type": "display_data"
    },
    {
     "name": "stdout",
     "output_type": "stream",
     "text": [
      "    img2    1.972805        8000          64        11\n",
      "    img3    1.311551        8000          23         8\n",
      "    img4    1.201077        8000          73        25\n",
      "    img5    1.102202        8000          65        34\n",
      "    img6    1.004717        8000          54        34\n",
      "    Mean    1.318470        8000.0        55.8      22.4\n",
      "     Sum    6.592351       40000         279       112\n",
      "\n",
      "running experiment: boat rotated\n",
      "\n",
      "reference img keypoints: 8000\n",
      "\n",
      "               error   keypoints  tentatives   inliers\n"
     ]
    },
    {
     "data": {
      "application/vnd.jupyter.widget-view+json": {
       "model_id": "",
       "version_major": 2,
       "version_minor": 0
      },
      "text/plain": [
       "  0%|          | 0/5 [00:00<?, ?it/s]"
      ]
     },
     "metadata": {},
     "output_type": "display_data"
    },
    {
     "name": "stdout",
     "output_type": "stream",
     "text": [
      "    img2    0.791378        8000         590       163\n",
      "    img3    0.981864        8000         298        92\n",
      "    img4    1.859673        8000         199        43\n",
      "    img5    1.553965        8000         127        25\n",
      "    img6    5.549030        8000          49        13\n",
      "    Mean    2.147182        8000.0       252.6      67.2\n",
      "     Sum   10.735910       40000        1263       336\n"
     ]
    }
   ],
   "source": [
    "from kornia_utils import Version, get_sift_descriptor_with_harris\n",
    "\n",
    "print(\"Kornia Harris+SIFT\")\n",
    "run_on_descriptor(descriptor=get_sift_descriptor_with_harris(version=Version.FIXED), descriptor_name=\"fix\")\n",
    "run_on_descriptor(descriptor=get_sift_descriptor_with_harris(version=Version.NOT_FIXED), descriptor_name=\"baseline\")\n",
    "run_on_descriptor(descriptor=get_sift_descriptor_with_harris(version=Version.ORIGINAL), descriptor_name=\"original\")\n"
   ]
  },
  {
   "cell_type": "code",
   "execution_count": 3,
   "id": "3b50ab6f",
   "metadata": {
    "pycharm": {
     "name": "#%%\n"
    },
    "scrolled": false
   },
   "outputs": [
    {
     "name": "stdout",
     "output_type": "stream",
     "text": [
      "Kornia Hessian+SIFT\n",
      "\n",
      "descriptor: fix:\n",
      "\n",
      "\n",
      "running experiment: synthetic pi rotation\n",
      "\n",
      "reference img keypoints: 8000\n",
      "\n",
      "               error   keypoints  tentatives   inliers\n"
     ]
    },
    {
     "data": {
      "application/vnd.jupyter.widget-view+json": {
       "model_id": "",
       "version_major": 2,
       "version_minor": 0
      },
      "text/plain": [
       "  0%|          | 0/3 [00:00<?, ?it/s]"
      ]
     },
     "metadata": {},
     "output_type": "display_data"
    },
    {
     "name": "stdout",
     "output_type": "stream",
     "text": [
      "     90°    0.000229        8000        5455      5418\n",
      "    180°    0.002372        8000        4138      3834\n",
      "    270°    0.002008        8000        4457      4281\n",
      "    Mean    0.001536        8000.0      4683.3    4511.0\n",
      "     Sum    0.004609       24000       14050     13533\n",
      "\n",
      "running experiment: synthetic rescaling lanczos\n",
      "\n",
      "reference img keypoints: 8000\n",
      "\n",
      "               error   keypoints  tentatives   inliers\n"
     ]
    },
    {
     "data": {
      "application/vnd.jupyter.widget-view+json": {
       "model_id": "",
       "version_major": 2,
       "version_minor": 0
      },
      "text/plain": [
       "  0%|          | 0/8 [00:00<?, ?it/s]"
      ]
     },
     "metadata": {},
     "output_type": "display_data"
    },
    {
     "name": "stdout",
     "output_type": "stream",
     "text": [
      "     0.2    0.186208        8000         148       113\n",
      "     0.3    0.028849        8000         583       514\n",
      "     0.4    0.021498        8000        1243      1144\n",
      "     0.5    0.020850        8000        2139      1907\n",
      "     0.6    0.056244        8000        3060      2240\n",
      "     0.7    0.056486        8000        3902      3050\n",
      "     0.8    0.022544        8000        4807      4066\n",
      "     0.9    0.053692        8000        5371      4100\n",
      "    Mean    0.055796        8000.0      2656.6    2141.8\n",
      "     Sum    0.446370       64000       21253     17134\n",
      "\n",
      "running experiment: bark\n",
      "\n",
      "reference img keypoints: 8000\n",
      "\n",
      "               error   keypoints  tentatives   inliers\n"
     ]
    },
    {
     "data": {
      "application/vnd.jupyter.widget-view+json": {
       "model_id": "",
       "version_major": 2,
       "version_minor": 0
      },
      "text/plain": [
       "  0%|          | 0/5 [00:00<?, ?it/s]"
      ]
     },
     "metadata": {},
     "output_type": "display_data"
    },
    {
     "name": "stdout",
     "output_type": "stream",
     "text": [
      "    img2    1.298491        8000         226        48\n",
      "    img3    1.848227        8000         105        27\n",
      "    img4    1.061439        8000         186        94\n",
      "    img5    0.852482        8000         177        79\n",
      "    img6    0.990409        8000          54        28\n",
      "    Mean    1.210209        8000.0       149.6      55.2\n",
      "     Sum    6.051047       40000         748       276\n",
      "\n",
      "running experiment: boat\n",
      "\n",
      "reference img keypoints: 8000\n",
      "\n",
      "               error   keypoints  tentatives   inliers\n"
     ]
    },
    {
     "data": {
      "application/vnd.jupyter.widget-view+json": {
       "model_id": "",
       "version_major": 2,
       "version_minor": 0
      },
      "text/plain": [
       "  0%|          | 0/5 [00:00<?, ?it/s]"
      ]
     },
     "metadata": {},
     "output_type": "display_data"
    },
    {
     "name": "stdout",
     "output_type": "stream",
     "text": [
      "    img2    0.294163        8000        1630       579\n",
      "    img3    0.708375        8000         659       222\n",
      "    img4    1.266917        8000         464       145\n",
      "    img5    1.064200        8000         297        82\n",
      "    img6    3.810473        8000          58        13\n",
      "    Mean    1.428826        8000.0       621.6     208.2\n",
      "     Sum    7.144129       40000        3108      1041\n",
      "\n",
      "running experiment: bark rotated\n",
      "\n",
      "reference img keypoints: 8000\n",
      "\n",
      "               error   keypoints  tentatives   inliers\n"
     ]
    },
    {
     "data": {
      "application/vnd.jupyter.widget-view+json": {
       "model_id": "",
       "version_major": 2,
       "version_minor": 0
      },
      "text/plain": [
       "  0%|          | 0/5 [00:00<?, ?it/s]"
      ]
     },
     "metadata": {},
     "output_type": "display_data"
    },
    {
     "name": "stdout",
     "output_type": "stream",
     "text": [
      "    img2    1.264164        8000         188        44\n",
      "    img3    1.774826        8000         154        47\n",
      "    img4    0.940047        8000         186       109\n",
      "    img5    0.782176        8000         130        80\n",
      "    img6    1.117208        8000          77        38\n",
      "    Mean    1.175684        8000.0       147.0      63.6\n",
      "     Sum    5.878421       40000         735       318\n",
      "\n",
      "running experiment: boat rotated\n",
      "\n",
      "reference img keypoints: 8000\n",
      "\n",
      "               error   keypoints  tentatives   inliers\n"
     ]
    },
    {
     "data": {
      "application/vnd.jupyter.widget-view+json": {
       "model_id": "",
       "version_major": 2,
       "version_minor": 0
      },
      "text/plain": [
       "  0%|          | 0/5 [00:00<?, ?it/s]"
      ]
     },
     "metadata": {},
     "output_type": "display_data"
    },
    {
     "name": "stdout",
     "output_type": "stream",
     "text": [
      "    img2    0.769486        8000         881       215\n",
      "    img3    0.344774        8000         444       114\n",
      "    img4    0.692865        8000         413       111\n",
      "    img5    1.211336        8000         247        64\n",
      "    img6    4.596835        8000          60        12\n",
      "    Mean    1.523059        8000.0       409.0     103.2\n",
      "     Sum    7.615297       40000        2045       516\n",
      "\n",
      "descriptor: baseline:\n",
      "\n",
      "\n",
      "running experiment: synthetic pi rotation\n",
      "\n",
      "reference img keypoints: 8000\n",
      "\n",
      "               error   keypoints  tentatives   inliers\n"
     ]
    },
    {
     "data": {
      "application/vnd.jupyter.widget-view+json": {
       "model_id": "",
       "version_major": 2,
       "version_minor": 0
      },
      "text/plain": [
       "  0%|          | 0/3 [00:00<?, ?it/s]"
      ]
     },
     "metadata": {},
     "output_type": "display_data"
    },
    {
     "name": "stdout",
     "output_type": "stream",
     "text": [
      "     90°    0.371268        8000        5033      2658\n",
      "    180°    0.700081        8000        4841      2555\n",
      "    270°    0.508083        8000        4731      2631\n",
      "    Mean    0.526477        8000.0      4868.3    2614.7\n",
      "     Sum    1.579432       24000       14605      7844\n",
      "\n",
      "running experiment: synthetic rescaling lanczos\n",
      "\n",
      "reference img keypoints: 8000\n",
      "\n",
      "               error   keypoints  tentatives   inliers\n"
     ]
    },
    {
     "data": {
      "application/vnd.jupyter.widget-view+json": {
       "model_id": "",
       "version_major": 2,
       "version_minor": 0
      },
      "text/plain": [
       "  0%|          | 0/8 [00:00<?, ?it/s]"
      ]
     },
     "metadata": {},
     "output_type": "display_data"
    },
    {
     "name": "stdout",
     "output_type": "stream",
     "text": [
      "     0.2    0.372725        8000         165        99\n",
      "     0.3    0.325885        8000         557       306\n",
      "     0.4    0.279627        8000        1198       651\n",
      "     0.5    0.258718        8000        2032      1021\n",
      "     0.6    0.211367        8000        2715      1584\n",
      "     0.7    0.155855        8000        3304      1664\n",
      "     0.8    0.111916        8000        4228      2132\n",
      "     0.9    0.143529        8000        4265      2049\n",
      "    Mean    0.232453        8000.0      2308.0    1188.2\n",
      "     Sum    1.859624       64000       18464      9506\n",
      "\n",
      "running experiment: bark\n",
      "\n",
      "reference img keypoints: 8000\n",
      "\n",
      "               error   keypoints  tentatives   inliers\n"
     ]
    },
    {
     "data": {
      "application/vnd.jupyter.widget-view+json": {
       "model_id": "",
       "version_major": 2,
       "version_minor": 0
      },
      "text/plain": [
       "  0%|          | 0/5 [00:00<?, ?it/s]"
      ]
     },
     "metadata": {},
     "output_type": "display_data"
    },
    {
     "name": "stdout",
     "output_type": "stream",
     "text": [
      "    img2    1.359559        8000         186        32\n",
      "    img3    2.520249        8000         119        26\n",
      "    img4    1.462695        8000         185        68\n",
      "    img5    0.938638        8000         165        62\n",
      "    img6    1.408153        8000          65        27\n",
      "    Mean    1.537859        8000.0       144.0      43.0\n",
      "     Sum    7.689294       40000         720       215\n",
      "\n",
      "running experiment: boat\n",
      "\n",
      "reference img keypoints: 8000\n",
      "\n",
      "               error   keypoints  tentatives   inliers\n"
     ]
    },
    {
     "data": {
      "application/vnd.jupyter.widget-view+json": {
       "model_id": "",
       "version_major": 2,
       "version_minor": 0
      },
      "text/plain": [
       "  0%|          | 0/5 [00:00<?, ?it/s]"
      ]
     },
     "metadata": {},
     "output_type": "display_data"
    },
    {
     "name": "stdout",
     "output_type": "stream",
     "text": [
      "    img2    0.903062        8000        1425       349\n",
      "    img3    0.511721        8000         609       152\n",
      "    img4    1.165587        8000         465        94\n",
      "    img5    1.380337        8000         286        53\n",
      "    img6    9.044143        8000          57        11\n",
      "    Mean    2.600970        8000.0       568.4     131.8\n",
      "     Sum   13.004850       40000        2842       659\n",
      "\n",
      "running experiment: bark rotated\n",
      "\n",
      "reference img keypoints: 8000\n",
      "\n",
      "               error   keypoints  tentatives   inliers\n"
     ]
    },
    {
     "data": {
      "application/vnd.jupyter.widget-view+json": {
       "model_id": "",
       "version_major": 2,
       "version_minor": 0
      },
      "text/plain": [
       "  0%|          | 0/5 [00:00<?, ?it/s]"
      ]
     },
     "metadata": {},
     "output_type": "display_data"
    },
    {
     "name": "stdout",
     "output_type": "stream",
     "text": [
      "    img2    1.156292        8000         193        28\n",
      "    img3    1.509278        8000         155        32\n",
      "    img4    0.881191        8000         192        76\n",
      "    img5    1.340448        8000         159        62\n",
      "    img6    0.826047        8000          77        28\n",
      "    Mean    1.142651        8000.0       155.2      45.2\n",
      "     Sum    5.713256       40000         776       226\n",
      "\n",
      "running experiment: boat rotated\n",
      "\n",
      "reference img keypoints: 8000\n",
      "\n",
      "               error   keypoints  tentatives   inliers\n"
     ]
    },
    {
     "data": {
      "application/vnd.jupyter.widget-view+json": {
       "model_id": "",
       "version_major": 2,
       "version_minor": 0
      },
      "text/plain": [
       "  0%|          | 0/5 [00:00<?, ?it/s]"
      ]
     },
     "metadata": {},
     "output_type": "display_data"
    },
    {
     "name": "stdout",
     "output_type": "stream",
     "text": [
      "    img2    0.918359        8000        1244       310\n",
      "    img3    0.882235        8000         567       146\n",
      "    img4    1.524835        8000         446        95\n",
      "    img5    0.797207        8000         262        49\n",
      "    img6    4.714846        8000          67        14\n",
      "    Mean    1.767496        8000.0       517.2     122.8\n",
      "     Sum    8.837482       40000        2586       614\n",
      "\n",
      "descriptor: original:\n",
      "\n",
      "\n",
      "running experiment: synthetic pi rotation\n",
      "\n",
      "reference img keypoints: 8000\n",
      "\n",
      "               error   keypoints  tentatives   inliers\n"
     ]
    },
    {
     "data": {
      "application/vnd.jupyter.widget-view+json": {
       "model_id": "",
       "version_major": 2,
       "version_minor": 0
      },
      "text/plain": [
       "  0%|          | 0/3 [00:00<?, ?it/s]"
      ]
     },
     "metadata": {},
     "output_type": "display_data"
    },
    {
     "name": "stdout",
     "output_type": "stream",
     "text": [
      "     90°    0.483929        8000        5017      3090\n",
      "    180°    0.690155        8000        4870      2811\n",
      "    270°    0.440859        8000        4751      2316\n",
      "    Mean    0.538314        8000.0      4879.3    2739.0\n",
      "     Sum    1.614943       24000       14638      8217\n",
      "\n",
      "running experiment: synthetic rescaling lanczos\n",
      "\n",
      "reference img keypoints: 8000\n",
      "\n",
      "               error   keypoints  tentatives   inliers\n"
     ]
    },
    {
     "data": {
      "application/vnd.jupyter.widget-view+json": {
       "model_id": "",
       "version_major": 2,
       "version_minor": 0
      },
      "text/plain": [
       "  0%|          | 0/8 [00:00<?, ?it/s]"
      ]
     },
     "metadata": {},
     "output_type": "display_data"
    },
    {
     "name": "stdout",
     "output_type": "stream",
     "text": [
      "     0.2    0.270821        8000         166        97\n",
      "     0.3    0.272788        8000         534       284\n",
      "     0.4    0.239536        8000        1178       588\n",
      "     0.5    0.224527        8000        2008      1238\n",
      "     0.6    0.149789        8000        2688      1503\n",
      "     0.7    0.170681        8000        3269      1704\n",
      "     0.8    0.081079        8000        4236      2465\n",
      "     0.9    0.200781        8000        4256      1896\n",
      "    Mean    0.201250        8000.0      2291.9    1221.9\n",
      "     Sum    1.610002       64000       18335      9775\n",
      "\n",
      "running experiment: bark\n",
      "\n",
      "reference img keypoints: 8000\n",
      "\n",
      "               error   keypoints  tentatives   inliers\n"
     ]
    },
    {
     "data": {
      "application/vnd.jupyter.widget-view+json": {
       "model_id": "",
       "version_major": 2,
       "version_minor": 0
      },
      "text/plain": [
       "  0%|          | 0/5 [00:00<?, ?it/s]"
      ]
     },
     "metadata": {},
     "output_type": "display_data"
    },
    {
     "name": "stdout",
     "output_type": "stream",
     "text": [
      "    img2    1.378982        8000         209        38\n",
      "    img3    2.515432        8000         124        24\n",
      "    img4    1.453339        8000         187        69\n",
      "    img5    0.641472        8000         187        73\n",
      "    img6    2.160598        8000          59        18\n",
      "    Mean    1.629965        8000.0       153.2      44.4\n",
      "     Sum    8.149823       40000         766       222\n",
      "\n",
      "running experiment: boat\n",
      "\n",
      "reference img keypoints: 8000\n",
      "\n",
      "               error   keypoints  tentatives   inliers\n"
     ]
    },
    {
     "data": {
      "application/vnd.jupyter.widget-view+json": {
       "model_id": "",
       "version_major": 2,
       "version_minor": 0
      },
      "text/plain": [
       "  0%|          | 0/5 [00:00<?, ?it/s]"
      ]
     },
     "metadata": {},
     "output_type": "display_data"
    },
    {
     "name": "stdout",
     "output_type": "stream",
     "text": [
      "    img2    0.522499        8000        1415       352\n",
      "    img3    0.386835        8000         619       160\n",
      "    img4    1.397251        8000         475        94\n",
      "    img5    0.618450        8000         280        60\n",
      "    img6    5.684110        8000          58        11\n",
      "    Mean    1.721829        8000.0       569.4     135.4\n",
      "     Sum    8.609145       40000        2847       677\n",
      "\n",
      "running experiment: bark rotated\n",
      "\n",
      "reference img keypoints: 8000\n",
      "\n",
      "               error   keypoints  tentatives   inliers\n"
     ]
    },
    {
     "data": {
      "application/vnd.jupyter.widget-view+json": {
       "model_id": "",
       "version_major": 2,
       "version_minor": 0
      },
      "text/plain": [
       "  0%|          | 0/5 [00:00<?, ?it/s]"
      ]
     },
     "metadata": {},
     "output_type": "display_data"
    },
    {
     "name": "stdout",
     "output_type": "stream",
     "text": [
      "    img2    1.204767        8000         174        30\n",
      "    img3    1.597313        8000         153        30\n",
      "    img4    0.825040        8000         192        61\n",
      "    img5    1.169128        8000         161        68\n",
      "    img6    0.895878        8000          72        21\n",
      "    Mean    1.138425        8000.0       150.4      42.0\n",
      "     Sum    5.692125       40000         752       210\n",
      "\n",
      "running experiment: boat rotated\n",
      "\n",
      "reference img keypoints: 8000\n",
      "\n",
      "               error   keypoints  tentatives   inliers\n"
     ]
    },
    {
     "data": {
      "application/vnd.jupyter.widget-view+json": {
       "model_id": "",
       "version_major": 2,
       "version_minor": 0
      },
      "text/plain": [
       "  0%|          | 0/5 [00:00<?, ?it/s]"
      ]
     },
     "metadata": {},
     "output_type": "display_data"
    },
    {
     "name": "stdout",
     "output_type": "stream",
     "text": [
      "    img2    1.031910        8000        1233       287\n",
      "    img3    0.702328        8000         566       153\n",
      "    img4    1.479396        8000         435       107\n",
      "    img5    1.330246        8000         262        48\n",
      "    img6    3.416737        8000          64        11\n",
      "    Mean    1.592123        8000.0       512.0     121.2\n",
      "     Sum    7.960617       40000        2560       606\n"
     ]
    }
   ],
   "source": [
    "from kornia_utils import Version, get_sift_descriptor_with_hessian\n",
    "\n",
    "\n",
    "print(\"Kornia Hessian+SIFT\")\n",
    "run_on_descriptor(descriptor=get_sift_descriptor_with_hessian(version=Version.FIXED), descriptor_name=\"fix\")\n",
    "run_on_descriptor(descriptor=get_sift_descriptor_with_hessian(version=Version.NOT_FIXED), descriptor_name=\"baseline\")\n",
    "run_on_descriptor(descriptor=get_sift_descriptor_with_hessian(version=Version.ORIGINAL), descriptor_name=\"original\")"
   ]
  },
  {
   "cell_type": "code",
   "execution_count": null,
   "id": "e0250080",
   "metadata": {},
   "outputs": [],
   "source": []
  }
 ],
 "metadata": {
  "kernelspec": {
   "display_name": "Python 3 (ipykernel)",
   "language": "python",
   "name": "python3"
  },
  "language_info": {
   "codemirror_mode": {
    "name": "ipython",
    "version": 3
   },
   "file_extension": ".py",
   "mimetype": "text/x-python",
   "name": "python",
   "nbconvert_exporter": "python",
   "pygments_lexer": "ipython3",
   "version": "3.9.16"
  }
 },
 "nbformat": 4,
 "nbformat_minor": 5
}
