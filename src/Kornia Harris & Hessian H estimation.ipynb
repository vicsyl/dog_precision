{
 "cells": [
  {
   "cell_type": "markdown",
   "id": "276e887a",
   "metadata": {
    "pycharm": {
     "name": "#%% md\n"
    }
   },
   "source": [
    "# Homography estimation for Kornia Harris & Hessian implementations\n",
    "\n",
    "## Performed on 6 datasets\n",
    "\n",
    "* pure rotations of the first image from \"bark\" by multiples of 90 degrees\n",
    "* pure scaling of the first image from \"bark\" by multiples of 0.1 adjusted so that the aspect ratio is preserved using Lanczos resampling\n",
    "* boat and bark datasets from https://www.robots.ox.ac.uk/~vgg/data/affine/\n",
    "* boat and bark datasets with the query images rotated by 180 degrees\n",
    "* using SIFT descriptor for matching\n",
    "* see https://github.com/kornia/kornia/pull/2105/\n",
    "\n",
    "\n",
    "## Comparison of Harris+SIFT baseline and fixed version\n",
    "\n",
    "### Experiment: synthetic pi rotation\n",
    "\n",
    "* reference img keypoints\n",
    "\n",
    "|fix | baseline|\n",
    "|---|--|\n",
    "|8000|8000|\n",
    "\n",
    "* Homography estimation\n",
    "| | fix | baseline|fix | baseline|fix | baseline|fix | baseline |\n",
    "|----|----|----|----|----|----|----|----|----|\n",
    "|  |  error| | keypoints| | tentatives| | inliers| |\n",
    "| 90° |  __0.000086__ | 0.507817 |  8000&nbsp;&nbsp;&nbsp; | 8000&nbsp;&nbsp;&nbsp; |  4917&nbsp;&nbsp;&nbsp; | 5177&nbsp;&nbsp;&nbsp; |  4894&nbsp;&nbsp;&nbsp; | 4172&nbsp;&nbsp;&nbsp; | \n",
    "| 180° |  __0.002057__ | 0.697695 |  8000&nbsp;&nbsp;&nbsp; | 8000&nbsp;&nbsp;&nbsp; |  2016&nbsp;&nbsp;&nbsp; | 4917&nbsp;&nbsp;&nbsp; |  1820&nbsp;&nbsp;&nbsp; | 4567&nbsp;&nbsp;&nbsp; | \n",
    "| 270° |  __0.001590__ | 0.488448 |  8000&nbsp;&nbsp;&nbsp; | 8000&nbsp;&nbsp;&nbsp; |  3292&nbsp;&nbsp;&nbsp; | 4924&nbsp;&nbsp;&nbsp; |  3150&nbsp;&nbsp;&nbsp; | 4345&nbsp;&nbsp;&nbsp; | \n",
    "| Mean |  __0.001244__ | 0.564653 |  8000.0 | 8000.0 |  3408.3 | 5006.0 |  3288.0 | 4361.3 | \n",
    "| Sum |  __0.003732__ | 1.693960 |  24000&nbsp;&nbsp;&nbsp; | 24000&nbsp;&nbsp;&nbsp; |  10225&nbsp;&nbsp;&nbsp; | 15018&nbsp;&nbsp;&nbsp; |  9864&nbsp;&nbsp;&nbsp; | 13084&nbsp;&nbsp;&nbsp; | \n",
    "\n",
    "### Experiment: synthetic rescaling lanczos\n",
    "\n",
    "* reference img keypoints\n",
    "\n",
    "|fix | baseline|\n",
    "|---|--|\n",
    "|8000|8000|\n",
    "\n",
    "* Homography estimation\n",
    "| | fix | baseline|fix | baseline|fix | baseline|fix | baseline |\n",
    "|----|----|----|----|----|----|----|----|----|\n",
    "|  |  error| | keypoints| | tentatives| | inliers| |\n",
    "| 0.2 |  __0.304985__ | 0.425292 |  8000&nbsp;&nbsp;&nbsp; | 8000&nbsp;&nbsp;&nbsp; |  40&nbsp;&nbsp;&nbsp; | 37&nbsp;&nbsp;&nbsp; |  32&nbsp;&nbsp;&nbsp; | 21&nbsp;&nbsp;&nbsp; | \n",
    "| 0.3 |  __0.064964__ | 0.319130 |  8000&nbsp;&nbsp;&nbsp; | 8000&nbsp;&nbsp;&nbsp; |  134&nbsp;&nbsp;&nbsp; | 93&nbsp;&nbsp;&nbsp; |  101&nbsp;&nbsp;&nbsp; | 62&nbsp;&nbsp;&nbsp; | \n",
    "| 0.4 |  __0.125535__ | 0.480419 |  8000&nbsp;&nbsp;&nbsp; | 8000&nbsp;&nbsp;&nbsp; |  180&nbsp;&nbsp;&nbsp; | 136&nbsp;&nbsp;&nbsp; |  105&nbsp;&nbsp;&nbsp; | 56&nbsp;&nbsp;&nbsp; | \n",
    "| 0.5 |  __0.071734__ | 0.273491 |  8000&nbsp;&nbsp;&nbsp; | 8000&nbsp;&nbsp;&nbsp; |  294&nbsp;&nbsp;&nbsp; | 233&nbsp;&nbsp;&nbsp; |  212&nbsp;&nbsp;&nbsp; | 101&nbsp;&nbsp;&nbsp; | \n",
    "| 0.6 |  __0.105994__ | 0.223376 |  8000&nbsp;&nbsp;&nbsp; | 8000&nbsp;&nbsp;&nbsp; |  451&nbsp;&nbsp;&nbsp; | 272&nbsp;&nbsp;&nbsp; |  252&nbsp;&nbsp;&nbsp; | 105&nbsp;&nbsp;&nbsp; | \n",
    "| 0.7 |  __0.067540__ | 0.221891 |  8000&nbsp;&nbsp;&nbsp; | 8000&nbsp;&nbsp;&nbsp; |  1144&nbsp;&nbsp;&nbsp; | 809&nbsp;&nbsp;&nbsp; |  811&nbsp;&nbsp;&nbsp; | 465&nbsp;&nbsp;&nbsp; | \n",
    "| 0.8 |  __0.028179__ | 0.076154 |  8000&nbsp;&nbsp;&nbsp; | 8000&nbsp;&nbsp;&nbsp; |  2222&nbsp;&nbsp;&nbsp; | 1763&nbsp;&nbsp;&nbsp; |  1870&nbsp;&nbsp;&nbsp; | 1141&nbsp;&nbsp;&nbsp; | \n",
    "| 0.9 |  __0.042183__ | 0.156813 |  8000&nbsp;&nbsp;&nbsp; | 8000&nbsp;&nbsp;&nbsp; |  3747&nbsp;&nbsp;&nbsp; | 3109&nbsp;&nbsp;&nbsp; |  3050&nbsp;&nbsp;&nbsp; | 1822&nbsp;&nbsp;&nbsp; | \n",
    "| Mean |  __0.101389__ | 0.272071 |  8000.0 | 8000.0 |  1026.5 | 806.5 |  804.1 | 471.6 | \n",
    "| Sum |  __0.811114__ | 2.176565 |  64000&nbsp;&nbsp;&nbsp; | 64000&nbsp;&nbsp;&nbsp; |  8212&nbsp;&nbsp;&nbsp; | 6452&nbsp;&nbsp;&nbsp; |  6433&nbsp;&nbsp;&nbsp; | 3773&nbsp;&nbsp;&nbsp; | \n",
    "\n",
    "### Experiment: bark\n",
    "\n",
    "* reference img keypoints\n",
    "\n",
    "|fix | baseline|\n",
    "|---|--|\n",
    "|8000|8000|\n",
    "\n",
    "* Homography estimation\n",
    "| | fix | baseline|fix | baseline|fix | baseline|fix | baseline |\n",
    "|----|----|----|----|----|----|----|----|----|\n",
    "|  |  error| | keypoints| | tentatives| | inliers| |\n",
    "| img2 |  __1.481221__ | 1.999068 |  8000&nbsp;&nbsp;&nbsp; | 8000&nbsp;&nbsp;&nbsp; |  69&nbsp;&nbsp;&nbsp; | 64&nbsp;&nbsp;&nbsp; |  20&nbsp;&nbsp;&nbsp; | 12&nbsp;&nbsp;&nbsp; | \n",
    "| img3 |  __1.992532__ | 2.732964 |  8000&nbsp;&nbsp;&nbsp; | 8000&nbsp;&nbsp;&nbsp; |  19&nbsp;&nbsp;&nbsp; | 27&nbsp;&nbsp;&nbsp; |  6&nbsp;&nbsp;&nbsp; | 7&nbsp;&nbsp;&nbsp; | \n",
    "| img4 |  __0.998941__ | 1.420163 |  8000&nbsp;&nbsp;&nbsp; | 8000&nbsp;&nbsp;&nbsp; |  83&nbsp;&nbsp;&nbsp; | 69&nbsp;&nbsp;&nbsp; |  44&nbsp;&nbsp;&nbsp; | 24&nbsp;&nbsp;&nbsp; | \n",
    "| img5 |  __0.685333__ | 0.897297 |  8000&nbsp;&nbsp;&nbsp; | 8000&nbsp;&nbsp;&nbsp; |  92&nbsp;&nbsp;&nbsp; | 66&nbsp;&nbsp;&nbsp; |  50&nbsp;&nbsp;&nbsp; | 26&nbsp;&nbsp;&nbsp; | \n",
    "| img6 |  __1.053331__ | 1.858031 |  8000&nbsp;&nbsp;&nbsp; | 8000&nbsp;&nbsp;&nbsp; |  32&nbsp;&nbsp;&nbsp; | 52&nbsp;&nbsp;&nbsp; |  23&nbsp;&nbsp;&nbsp; | 27&nbsp;&nbsp;&nbsp; | \n",
    "| Mean |  __1.242271__ | 1.781505 |  8000.0 | 8000.0 |  59.0 | 55.6 |  28.6 | 19.2 | \n",
    "| Sum |  __6.211357__ | 8.907523 |  40000&nbsp;&nbsp;&nbsp; | 40000&nbsp;&nbsp;&nbsp; |  295&nbsp;&nbsp;&nbsp; | 278&nbsp;&nbsp;&nbsp; |  143&nbsp;&nbsp;&nbsp; | 96&nbsp;&nbsp;&nbsp; | \n",
    "\n",
    "### Experiment: boat\n",
    "\n",
    "* reference img keypoints\n",
    "\n",
    "|fix | baseline|\n",
    "|---|--|\n",
    "|8000|8000|\n",
    "\n",
    "* Homography estimation\n",
    "| | fix | baseline|fix | baseline|fix | baseline|fix | baseline |\n",
    "|----|----|----|----|----|----|----|----|----|\n",
    "|  |  error| | keypoints| | tentatives| | inliers| |\n",
    "| img2 |  0.408136 | __0.238166__ |  8000&nbsp;&nbsp;&nbsp; | 8000&nbsp;&nbsp;&nbsp; |  796&nbsp;&nbsp;&nbsp; | 734&nbsp;&nbsp;&nbsp; |  293&nbsp;&nbsp;&nbsp; | 202&nbsp;&nbsp;&nbsp; | \n",
    "| img3 |  __0.392473__ | 0.593991 |  8000&nbsp;&nbsp;&nbsp; | 8000&nbsp;&nbsp;&nbsp; |  392&nbsp;&nbsp;&nbsp; | 378&nbsp;&nbsp;&nbsp; |  154&nbsp;&nbsp;&nbsp; | 112&nbsp;&nbsp;&nbsp; | \n",
    "| img4 |  1.748843 | __1.696703__ |  8000&nbsp;&nbsp;&nbsp; | 8000&nbsp;&nbsp;&nbsp; |  212&nbsp;&nbsp;&nbsp; | 213&nbsp;&nbsp;&nbsp; |  71&nbsp;&nbsp;&nbsp; | 50&nbsp;&nbsp;&nbsp; | \n",
    "| img5 |  __0.811639__ | 1.003514 |  8000&nbsp;&nbsp;&nbsp; | 8000&nbsp;&nbsp;&nbsp; |  147&nbsp;&nbsp;&nbsp; | 138&nbsp;&nbsp;&nbsp; |  38&nbsp;&nbsp;&nbsp; | 25&nbsp;&nbsp;&nbsp; | \n",
    "| img6 |  __3.698129__ | 6.497077 |  8000&nbsp;&nbsp;&nbsp; | 8000&nbsp;&nbsp;&nbsp; |  47&nbsp;&nbsp;&nbsp; | 40&nbsp;&nbsp;&nbsp; |  12&nbsp;&nbsp;&nbsp; | 9&nbsp;&nbsp;&nbsp; | \n",
    "| Mean |  __1.411844__ | 2.005890 |  8000.0 | 8000.0 |  318.8 | 300.6 |  113.6 | 79.6 | \n",
    "| Sum |  __7.059220__ | 10.029451 |  40000&nbsp;&nbsp;&nbsp; | 40000&nbsp;&nbsp;&nbsp; |  1594&nbsp;&nbsp;&nbsp; | 1503&nbsp;&nbsp;&nbsp; |  568&nbsp;&nbsp;&nbsp; | 398&nbsp;&nbsp;&nbsp; | \n",
    "\n",
    "### Experiment: bark rotated\n",
    "\n",
    "| | fix | baseline|fix | baseline|fix | baseline |\n",
    "|----|----|----|----|----|----|----|\n",
    "|  |  error| | tentatives| | inliers| |\n",
    "| img2 |  2.583919 | __2.530097__ |  36&nbsp;&nbsp;&nbsp; | 40&nbsp;&nbsp;&nbsp; |  9&nbsp;&nbsp;&nbsp; | 8&nbsp;&nbsp;&nbsp; | \n",
    "| img3 |  __1.466449__ | 3.541560 |  20&nbsp;&nbsp;&nbsp; | 23&nbsp;&nbsp;&nbsp; |  6&nbsp;&nbsp;&nbsp; | 6&nbsp;&nbsp;&nbsp; | \n",
    "| img4 |  1.098778 | __0.894178__ |  58&nbsp;&nbsp;&nbsp; | 53&nbsp;&nbsp;&nbsp; |  26&nbsp;&nbsp;&nbsp; | 19&nbsp;&nbsp;&nbsp; | \n",
    "| img5 |  __0.764558__ | 1.086956 |  40&nbsp;&nbsp;&nbsp; | 34&nbsp;&nbsp;&nbsp; |  24&nbsp;&nbsp;&nbsp; | 15&nbsp;&nbsp;&nbsp; | \n",
    "| img6 |  0.972219 | __0.952408__ |  25&nbsp;&nbsp;&nbsp; | 30&nbsp;&nbsp;&nbsp; |  21&nbsp;&nbsp;&nbsp; | 14&nbsp;&nbsp;&nbsp; | \n",
    "| Mean |  __1.377185__ | 1.801040 |  35.8 | 36.0 |  17.2 | 12.4 | \n",
    "| Sum |  __6.885923__ | 9.005199 |  179&nbsp;&nbsp;&nbsp; | 180&nbsp;&nbsp;&nbsp; |  86&nbsp;&nbsp;&nbsp; | 62&nbsp;&nbsp;&nbsp; | \n",
    "\n",
    "### Experiment: boat rotated\n",
    "\n",
    "| | fix | baseline|fix | baseline|fix | baseline |\n",
    "|----|----|----|----|----|----|----|\n",
    "|  |  error| | tentatives| | inliers| |\n",
    "| img2 |  1.073732 | __0.684940__ |  381&nbsp;&nbsp;&nbsp; | 582&nbsp;&nbsp;&nbsp; |  99&nbsp;&nbsp;&nbsp; | 160&nbsp;&nbsp;&nbsp; | \n",
    "| img3 |  __0.601956__ | 0.687411 |  203&nbsp;&nbsp;&nbsp; | 279&nbsp;&nbsp;&nbsp; |  61&nbsp;&nbsp;&nbsp; | 84&nbsp;&nbsp;&nbsp; | \n",
    "| img4 |  __1.429516__ | 1.571157 |  160&nbsp;&nbsp;&nbsp; | 156&nbsp;&nbsp;&nbsp; |  51&nbsp;&nbsp;&nbsp; | 37&nbsp;&nbsp;&nbsp; | \n",
    "| img5 |  2.012444 | __1.973402__ |  85&nbsp;&nbsp;&nbsp; | 97&nbsp;&nbsp;&nbsp; |  22&nbsp;&nbsp;&nbsp; | 22&nbsp;&nbsp;&nbsp; | \n",
    "| img6 |  __5.807388__ | 6.131644 |  17&nbsp;&nbsp;&nbsp; | 24&nbsp;&nbsp;&nbsp; |  6&nbsp;&nbsp;&nbsp; | 8&nbsp;&nbsp;&nbsp; | \n",
    "| Mean |  __2.185007__ | 2.209711 |  169.2 | 227.6 |  47.8 | 62.2 | \n",
    "| Sum |  __10.925035__ | 11.048554 |  846&nbsp;&nbsp;&nbsp; | 1138&nbsp;&nbsp;&nbsp; |  239&nbsp;&nbsp;&nbsp; | 311&nbsp;&nbsp;&nbsp; | \n",
    "\n",
    "\n",
    "## Comparison of Hessian+SIFT baseline and fixed version\n",
    "\n",
    "### Experiment: synthetic pi rotation\n",
    "\n",
    "* reference img keypoints\n",
    "\n",
    "|fix | baseline|\n",
    "|---|--|\n",
    "|8000|8000|\n",
    "\n",
    "* Homography estimation\n",
    "| | fix | baseline|fix | baseline|fix | baseline|fix | baseline |\n",
    "|----|----|----|----|----|----|----|----|----|\n",
    "|  |  error| | keypoints| | tentatives| | inliers| |\n",
    "| 90° |  __0.000229__ | 0.371268 |  8000&nbsp;&nbsp;&nbsp; | 8000&nbsp;&nbsp;&nbsp; |  5455&nbsp;&nbsp;&nbsp; | 5033&nbsp;&nbsp;&nbsp; |  5418&nbsp;&nbsp;&nbsp; | 2658&nbsp;&nbsp;&nbsp; | \n",
    "| 180° |  __0.002372__ | 0.700081 |  8000&nbsp;&nbsp;&nbsp; | 8000&nbsp;&nbsp;&nbsp; |  4138&nbsp;&nbsp;&nbsp; | 4841&nbsp;&nbsp;&nbsp; |  3834&nbsp;&nbsp;&nbsp; | 2555&nbsp;&nbsp;&nbsp; | \n",
    "| 270° |  __0.002008__ | 0.508083 |  8000&nbsp;&nbsp;&nbsp; | 8000&nbsp;&nbsp;&nbsp; |  4457&nbsp;&nbsp;&nbsp; | 4731&nbsp;&nbsp;&nbsp; |  4281&nbsp;&nbsp;&nbsp; | 2631&nbsp;&nbsp;&nbsp; | \n",
    "| Mean |  __0.001536__ | 0.526477 |  8000.0 | 8000.0 |  4683.3 | 4868.3 |  4511.0 | 2614.7 | \n",
    "| Sum |  __0.004609__ | 1.579432 |  24000&nbsp;&nbsp;&nbsp; | 24000&nbsp;&nbsp;&nbsp; |  14050&nbsp;&nbsp;&nbsp; | 14605&nbsp;&nbsp;&nbsp; |  13533&nbsp;&nbsp;&nbsp; | 7844&nbsp;&nbsp;&nbsp; | \n",
    "\n",
    "### Experiment: synthetic rescaling lanczos\n",
    "\n",
    "* reference img keypoints\n",
    "\n",
    "|fix | baseline|\n",
    "|---|--|\n",
    "|8000|8000|\n",
    "\n",
    "* Homography estimation\n",
    "| | fix | baseline|fix | baseline|fix | baseline|fix | baseline |\n",
    "|----|----|----|----|----|----|----|----|----|\n",
    "|  |  error| | keypoints| | tentatives| | inliers| |\n",
    "| 0.2 |  __0.186208__ | 0.372725 |  8000&nbsp;&nbsp;&nbsp; | 8000&nbsp;&nbsp;&nbsp; |  148&nbsp;&nbsp;&nbsp; | 165&nbsp;&nbsp;&nbsp; |  113&nbsp;&nbsp;&nbsp; | 99&nbsp;&nbsp;&nbsp; | \n",
    "| 0.3 |  __0.028849__ | 0.325885 |  8000&nbsp;&nbsp;&nbsp; | 8000&nbsp;&nbsp;&nbsp; |  583&nbsp;&nbsp;&nbsp; | 557&nbsp;&nbsp;&nbsp; |  514&nbsp;&nbsp;&nbsp; | 306&nbsp;&nbsp;&nbsp; | \n",
    "| 0.4 |  __0.021498__ | 0.279627 |  8000&nbsp;&nbsp;&nbsp; | 8000&nbsp;&nbsp;&nbsp; |  1243&nbsp;&nbsp;&nbsp; | 1198&nbsp;&nbsp;&nbsp; |  1144&nbsp;&nbsp;&nbsp; | 651&nbsp;&nbsp;&nbsp; | \n",
    "| 0.5 |  __0.020850__ | 0.258718 |  8000&nbsp;&nbsp;&nbsp; | 8000&nbsp;&nbsp;&nbsp; |  2139&nbsp;&nbsp;&nbsp; | 2032&nbsp;&nbsp;&nbsp; |  1907&nbsp;&nbsp;&nbsp; | 1021&nbsp;&nbsp;&nbsp; | \n",
    "| 0.6 |  __0.056244__ | 0.211367 |  8000&nbsp;&nbsp;&nbsp; | 8000&nbsp;&nbsp;&nbsp; |  3060&nbsp;&nbsp;&nbsp; | 2715&nbsp;&nbsp;&nbsp; |  2240&nbsp;&nbsp;&nbsp; | 1584&nbsp;&nbsp;&nbsp; | \n",
    "| 0.7 |  __0.056486__ | 0.155855 |  8000&nbsp;&nbsp;&nbsp; | 8000&nbsp;&nbsp;&nbsp; |  3902&nbsp;&nbsp;&nbsp; | 3304&nbsp;&nbsp;&nbsp; |  3050&nbsp;&nbsp;&nbsp; | 1664&nbsp;&nbsp;&nbsp; | \n",
    "| 0.8 |  __0.022544__ | 0.111916 |  8000&nbsp;&nbsp;&nbsp; | 8000&nbsp;&nbsp;&nbsp; |  4807&nbsp;&nbsp;&nbsp; | 4228&nbsp;&nbsp;&nbsp; |  4066&nbsp;&nbsp;&nbsp; | 2132&nbsp;&nbsp;&nbsp; | \n",
    "| 0.9 |  __0.053692__ | 0.143529 |  8000&nbsp;&nbsp;&nbsp; | 8000&nbsp;&nbsp;&nbsp; |  5371&nbsp;&nbsp;&nbsp; | 4265&nbsp;&nbsp;&nbsp; |  4100&nbsp;&nbsp;&nbsp; | 2049&nbsp;&nbsp;&nbsp; | \n",
    "| Mean |  __0.055796__ | 0.232453 |  8000.0 | 8000.0 |  2656.6 | 2308.0 |  2141.8 | 1188.2 | \n",
    "| Sum |  __0.446370__ | 1.859624 |  64000&nbsp;&nbsp;&nbsp; | 64000&nbsp;&nbsp;&nbsp; |  21253&nbsp;&nbsp;&nbsp; | 18464&nbsp;&nbsp;&nbsp; |  17134&nbsp;&nbsp;&nbsp; | 9506&nbsp;&nbsp;&nbsp; | \n",
    "\n",
    "### Experiment: bark\n",
    "\n",
    "* reference img keypoints\n",
    "\n",
    "|fix | baseline|\n",
    "|---|--|\n",
    "|8000|8000|\n",
    "\n",
    "* Homography estimation\n",
    "| | fix | baseline|fix | baseline|fix | baseline|fix | baseline |\n",
    "|----|----|----|----|----|----|----|----|----|\n",
    "|  |  error| | keypoints| | tentatives| | inliers| |\n",
    "| img2 |  __1.298491__ | 1.359559 |  8000&nbsp;&nbsp;&nbsp; | 8000&nbsp;&nbsp;&nbsp; |  226&nbsp;&nbsp;&nbsp; | 186&nbsp;&nbsp;&nbsp; |  48&nbsp;&nbsp;&nbsp; | 32&nbsp;&nbsp;&nbsp; | \n",
    "| img3 |  __1.848227__ | 2.520249 |  8000&nbsp;&nbsp;&nbsp; | 8000&nbsp;&nbsp;&nbsp; |  105&nbsp;&nbsp;&nbsp; | 119&nbsp;&nbsp;&nbsp; |  27&nbsp;&nbsp;&nbsp; | 26&nbsp;&nbsp;&nbsp; | \n",
    "| img4 |  __1.061439__ | 1.462695 |  8000&nbsp;&nbsp;&nbsp; | 8000&nbsp;&nbsp;&nbsp; |  186&nbsp;&nbsp;&nbsp; | 185&nbsp;&nbsp;&nbsp; |  94&nbsp;&nbsp;&nbsp; | 68&nbsp;&nbsp;&nbsp; | \n",
    "| img5 |  __0.852482__ | 0.938638 |  8000&nbsp;&nbsp;&nbsp; | 8000&nbsp;&nbsp;&nbsp; |  177&nbsp;&nbsp;&nbsp; | 165&nbsp;&nbsp;&nbsp; |  79&nbsp;&nbsp;&nbsp; | 62&nbsp;&nbsp;&nbsp; | \n",
    "| img6 |  __0.990409__ | 1.408153 |  8000&nbsp;&nbsp;&nbsp; | 8000&nbsp;&nbsp;&nbsp; |  54&nbsp;&nbsp;&nbsp; | 65&nbsp;&nbsp;&nbsp; |  28&nbsp;&nbsp;&nbsp; | 27&nbsp;&nbsp;&nbsp; | \n",
    "| Mean |  __1.210209__ | 1.537859 |  8000.0 | 8000.0 |  149.6 | 144.0 |  55.2 | 43.0 | \n",
    "| Sum |  __6.051047__ | 7.689294 |  40000&nbsp;&nbsp;&nbsp; | 40000&nbsp;&nbsp;&nbsp; |  748&nbsp;&nbsp;&nbsp; | 720&nbsp;&nbsp;&nbsp; |  276&nbsp;&nbsp;&nbsp; | 215&nbsp;&nbsp;&nbsp; | \n",
    "\n",
    "### Experiment: boat\n",
    "\n",
    "* reference img keypoints\n",
    "\n",
    "|fix | baseline|\n",
    "|---|--|\n",
    "|8000|8000|\n",
    "\n",
    "* Homography estimation\n",
    "| | fix | baseline|fix | baseline|fix | baseline|fix | baseline |\n",
    "|----|----|----|----|----|----|----|----|----|\n",
    "|  |  error| | keypoints| | tentatives| | inliers| |\n",
    "| img2 |  __0.294163__ | 0.903062 |  8000&nbsp;&nbsp;&nbsp; | 8000&nbsp;&nbsp;&nbsp; |  1630&nbsp;&nbsp;&nbsp; | 1425&nbsp;&nbsp;&nbsp; |  579&nbsp;&nbsp;&nbsp; | 349&nbsp;&nbsp;&nbsp; | \n",
    "| img3 |  0.708375 | __0.511721__ |  8000&nbsp;&nbsp;&nbsp; | 8000&nbsp;&nbsp;&nbsp; |  659&nbsp;&nbsp;&nbsp; | 609&nbsp;&nbsp;&nbsp; |  222&nbsp;&nbsp;&nbsp; | 152&nbsp;&nbsp;&nbsp; | \n",
    "| img4 |  1.266917 | __1.165587__ |  8000&nbsp;&nbsp;&nbsp; | 8000&nbsp;&nbsp;&nbsp; |  464&nbsp;&nbsp;&nbsp; | 465&nbsp;&nbsp;&nbsp; |  145&nbsp;&nbsp;&nbsp; | 94&nbsp;&nbsp;&nbsp; | \n",
    "| img5 |  __1.064200__ | 1.380337 |  8000&nbsp;&nbsp;&nbsp; | 8000&nbsp;&nbsp;&nbsp; |  297&nbsp;&nbsp;&nbsp; | 286&nbsp;&nbsp;&nbsp; |  82&nbsp;&nbsp;&nbsp; | 53&nbsp;&nbsp;&nbsp; | \n",
    "| img6 |  __3.810473__ | 9.044143 |  8000&nbsp;&nbsp;&nbsp; | 8000&nbsp;&nbsp;&nbsp; |  58&nbsp;&nbsp;&nbsp; | 57&nbsp;&nbsp;&nbsp; |  13&nbsp;&nbsp;&nbsp; | 11&nbsp;&nbsp;&nbsp; | \n",
    "| Mean |  __1.428826__ | 2.600970 |  8000.0 | 8000.0 |  621.6 | 568.4 |  208.2 | 131.8 | \n",
    "| Sum |  __7.144129__ | 13.004850 |  40000&nbsp;&nbsp;&nbsp; | 40000&nbsp;&nbsp;&nbsp; |  3108&nbsp;&nbsp;&nbsp; | 2842&nbsp;&nbsp;&nbsp; |  1041&nbsp;&nbsp;&nbsp; | 659&nbsp;&nbsp;&nbsp; | \n",
    "\n",
    "\n",
    "### Experiment: synthetic pi rotation\n",
    "\n",
    "| | fix | baseline|fix | baseline|fix | baseline |\n",
    "|----|----|----|----|----|----|----|\n",
    "|  |  error| | tentatives| | inliers| |\n",
    "| 90° |  __0.000168__ | 0.520831 |  5540&nbsp;&nbsp;&nbsp; | 5050&nbsp;&nbsp;&nbsp; |  5506&nbsp;&nbsp;&nbsp; | 3245&nbsp;&nbsp;&nbsp; | \n",
    "| 180° |  __0.002262__ | 0.660425 |  4231&nbsp;&nbsp;&nbsp; | 4890&nbsp;&nbsp;&nbsp; |  3934&nbsp;&nbsp;&nbsp; | 2723&nbsp;&nbsp;&nbsp; | \n",
    "| 270° |  __0.002193__ | 0.598328 |  4571&nbsp;&nbsp;&nbsp; | 4764&nbsp;&nbsp;&nbsp; |  4401&nbsp;&nbsp;&nbsp; | 2284&nbsp;&nbsp;&nbsp; | \n",
    "| Mean |  __0.001541__ | 0.593195 |  4780.7 | 4901.3 |  4613.7 | 2750.7 | \n",
    "| Sum |  __0.004624__ | 1.779584 |  14342&nbsp;&nbsp;&nbsp; | 14704&nbsp;&nbsp;&nbsp; |  13841&nbsp;&nbsp;&nbsp; | 8252&nbsp;&nbsp;&nbsp; | \n",
    "\n",
    "### Experiment: synthetic rescaling lanczos\n",
    "\n",
    "| | fix | baseline|fix | baseline|fix | baseline |\n",
    "|----|----|----|----|----|----|----|\n",
    "|  |  error| | tentatives| | inliers| |\n",
    "| 0.2 |  __0.041860__ | 0.528019 |  105&nbsp;&nbsp;&nbsp; | 115&nbsp;&nbsp;&nbsp; |  88&nbsp;&nbsp;&nbsp; | 56&nbsp;&nbsp;&nbsp; | \n",
    "| 0.3 |  __0.016170__ | 0.272292 |  462&nbsp;&nbsp;&nbsp; | 443&nbsp;&nbsp;&nbsp; |  406&nbsp;&nbsp;&nbsp; | 263&nbsp;&nbsp;&nbsp; | \n",
    "| 0.4 |  __0.013128__ | 0.283455 |  1125&nbsp;&nbsp;&nbsp; | 1046&nbsp;&nbsp;&nbsp; |  1037&nbsp;&nbsp;&nbsp; | 581&nbsp;&nbsp;&nbsp; | \n",
    "| 0.5 |  __0.006594__ | 0.213915 |  2027&nbsp;&nbsp;&nbsp; | 1902&nbsp;&nbsp;&nbsp; |  1894&nbsp;&nbsp;&nbsp; | 1051&nbsp;&nbsp;&nbsp; | \n",
    "| 0.6 |  __0.039449__ | 0.186995 |  2977&nbsp;&nbsp;&nbsp; | 2616&nbsp;&nbsp;&nbsp; |  2478&nbsp;&nbsp;&nbsp; | 1588&nbsp;&nbsp;&nbsp; | \n",
    "| 0.7 |  __0.048357__ | 0.175392 |  3866&nbsp;&nbsp;&nbsp; | 3204&nbsp;&nbsp;&nbsp; |  2904&nbsp;&nbsp;&nbsp; | 1615&nbsp;&nbsp;&nbsp; | \n",
    "| 0.8 |  __0.008719__ | 0.227540 |  4796&nbsp;&nbsp;&nbsp; | 4219&nbsp;&nbsp;&nbsp; |  4434&nbsp;&nbsp;&nbsp; | 2013&nbsp;&nbsp;&nbsp; | \n",
    "| 0.9 |  __0.045975__ | 0.211204 |  5393&nbsp;&nbsp;&nbsp; | 4249&nbsp;&nbsp;&nbsp; |  4221&nbsp;&nbsp;&nbsp; | 2117&nbsp;&nbsp;&nbsp; | \n",
    "| Mean |  __0.027532__ | 0.262352 |  2593.9 | 2224.2 |  2182.8 | 1160.5 | \n",
    "| Sum |  __0.220252__ | 2.098813 |  20751&nbsp;&nbsp;&nbsp; | 17794&nbsp;&nbsp;&nbsp; |  17462&nbsp;&nbsp;&nbsp; | 9284&nbsp;&nbsp;&nbsp; | \n",
    "\n",
    "### Experiment: bark\n",
    "\n",
    "| | fix | baseline|fix | baseline|fix | baseline |\n",
    "|----|----|----|----|----|----|----|\n",
    "|  |  error| | tentatives| | inliers| |\n",
    "| img2 |  1.718248 | __1.301677__ |  165&nbsp;&nbsp;&nbsp; | 145&nbsp;&nbsp;&nbsp; |  33&nbsp;&nbsp;&nbsp; | 24&nbsp;&nbsp;&nbsp; | \n",
    "| img3 |  __1.645833__ | 1.754899 |  77&nbsp;&nbsp;&nbsp; | 80&nbsp;&nbsp;&nbsp; |  19&nbsp;&nbsp;&nbsp; | 15&nbsp;&nbsp;&nbsp; | \n",
    "| img4 |  __1.018357__ | 1.429559 |  132&nbsp;&nbsp;&nbsp; | 138&nbsp;&nbsp;&nbsp; |  62&nbsp;&nbsp;&nbsp; | 54&nbsp;&nbsp;&nbsp; | \n",
    "| img5 |  __0.734134__ | 0.742578 |  111&nbsp;&nbsp;&nbsp; | 114&nbsp;&nbsp;&nbsp; |  57&nbsp;&nbsp;&nbsp; | 43&nbsp;&nbsp;&nbsp; | \n",
    "| img6 |  __0.936459__ | 1.513469 |  41&nbsp;&nbsp;&nbsp; | 51&nbsp;&nbsp;&nbsp; |  21&nbsp;&nbsp;&nbsp; | 18&nbsp;&nbsp;&nbsp; | \n",
    "| Mean |  __1.210606__ | 1.348436 |  105.2 | 105.6 |  38.4 | 30.8 | \n",
    "| Sum |  __6.053031__ | 6.742182 |  526&nbsp;&nbsp;&nbsp; | 528&nbsp;&nbsp;&nbsp; |  192&nbsp;&nbsp;&nbsp; | 154&nbsp;&nbsp;&nbsp; | \n",
    "\n",
    "### Experiment: boat\n",
    "\n",
    "| | fix | baseline|fix | baseline|fix | baseline |\n",
    "|----|----|----|----|----|----|----|\n",
    "|  |  error| | tentatives| | inliers| |\n",
    "| img2 |  0.472435 | __0.398556__ |  1620&nbsp;&nbsp;&nbsp; | 1389&nbsp;&nbsp;&nbsp; |  551&nbsp;&nbsp;&nbsp; | 383&nbsp;&nbsp;&nbsp; | \n",
    "| img3 |  __0.278010__ | 1.145879 |  628&nbsp;&nbsp;&nbsp; | 568&nbsp;&nbsp;&nbsp; |  250&nbsp;&nbsp;&nbsp; | 155&nbsp;&nbsp;&nbsp; | \n",
    "| img4 |  1.586896 | __1.437956__ |  388&nbsp;&nbsp;&nbsp; | 390&nbsp;&nbsp;&nbsp; |  113&nbsp;&nbsp;&nbsp; | 79&nbsp;&nbsp;&nbsp; | \n",
    "| img5 |  1.819769 | __1.247037__ |  240&nbsp;&nbsp;&nbsp; | 210&nbsp;&nbsp;&nbsp; |  71&nbsp;&nbsp;&nbsp; | 41&nbsp;&nbsp;&nbsp; | \n",
    "| img6 |  5.721497 | __3.046470__ |  35&nbsp;&nbsp;&nbsp; | 37&nbsp;&nbsp;&nbsp; |  10&nbsp;&nbsp;&nbsp; | 10&nbsp;&nbsp;&nbsp; | \n",
    "| Mean |  1.975721 | __1.455180__ |  582.2 | 518.8 |  199.0 | 133.6 | \n",
    "| Sum |  9.878607 | __7.275898__ |  2911&nbsp;&nbsp;&nbsp; | 2594&nbsp;&nbsp;&nbsp; |  995&nbsp;&nbsp;&nbsp; | 668&nbsp;&nbsp;&nbsp; | \n",
    "\n",
    "### Experiment: bark rotated\n",
    "\n",
    "| | fix | baseline|fix | baseline|fix | baseline |\n",
    "|----|----|----|----|----|----|----|\n",
    "|  |  error| | tentatives| | inliers| |\n",
    "| img2 |  __1.258077__ | 1.950414 |  144&nbsp;&nbsp;&nbsp; | 139&nbsp;&nbsp;&nbsp; |  38&nbsp;&nbsp;&nbsp; | 21&nbsp;&nbsp;&nbsp; | \n",
    "| img3 |  1.877103 | __1.604224__ |  101&nbsp;&nbsp;&nbsp; | 108&nbsp;&nbsp;&nbsp; |  30&nbsp;&nbsp;&nbsp; | 20&nbsp;&nbsp;&nbsp; | \n",
    "| img4 |  __0.992745__ | 1.170061 |  138&nbsp;&nbsp;&nbsp; | 138&nbsp;&nbsp;&nbsp; |  71&nbsp;&nbsp;&nbsp; | 58&nbsp;&nbsp;&nbsp; | \n",
    "| img5 |  __0.761343__ | 1.441805 |  86&nbsp;&nbsp;&nbsp; | 103&nbsp;&nbsp;&nbsp; |  51&nbsp;&nbsp;&nbsp; | 36&nbsp;&nbsp;&nbsp; | \n",
    "| img6 |  0.967433 | __0.842671__ |  51&nbsp;&nbsp;&nbsp; | 52&nbsp;&nbsp;&nbsp; |  26&nbsp;&nbsp;&nbsp; | 18&nbsp;&nbsp;&nbsp; | \n",
    "| Mean |  __1.171340__ | 1.401835 |  104.0 | 108.0 |  43.2 | 30.6 | \n",
    "| Sum |  __5.856701__ | 7.009175 |  520&nbsp;&nbsp;&nbsp; | 540&nbsp;&nbsp;&nbsp; |  216&nbsp;&nbsp;&nbsp; | 153&nbsp;&nbsp;&nbsp; | \n",
    "\n",
    "### Experiment: boat rotated\n",
    "\n",
    "| | fix | baseline|fix | baseline|fix | baseline |\n",
    "|----|----|----|----|----|----|----|\n",
    "|  |  error| | tentatives| | inliers| |\n",
    "| img2 |  __0.626339__ | 1.051984 |  864&nbsp;&nbsp;&nbsp; | 1226&nbsp;&nbsp;&nbsp; |  208&nbsp;&nbsp;&nbsp; | 290&nbsp;&nbsp;&nbsp; | \n",
    "| img3 |  __0.407249__ | 1.226395 |  405&nbsp;&nbsp;&nbsp; | 526&nbsp;&nbsp;&nbsp; |  113&nbsp;&nbsp;&nbsp; | 132&nbsp;&nbsp;&nbsp; | \n",
    "| img4 |  1.677824 | __1.628400__ |  352&nbsp;&nbsp;&nbsp; | 386&nbsp;&nbsp;&nbsp; |  100&nbsp;&nbsp;&nbsp; | 85&nbsp;&nbsp;&nbsp; | \n",
    "| img5 |  1.230647 | __1.116813__ |  198&nbsp;&nbsp;&nbsp; | 206&nbsp;&nbsp;&nbsp; |  54&nbsp;&nbsp;&nbsp; | 40&nbsp;&nbsp;&nbsp; | \n",
    "| img6 |  __4.049292__ | 4.887769 |  41&nbsp;&nbsp;&nbsp; | 44&nbsp;&nbsp;&nbsp; |  11&nbsp;&nbsp;&nbsp; | 11&nbsp;&nbsp;&nbsp; | \n",
    "| Mean |  __1.598270__ | 1.982272 |  372.0 | 477.6 |  97.2 | 111.6 | \n",
    "| Sum |  __7.991352__ | 9.911361 |  1860&nbsp;&nbsp;&nbsp; | 2388&nbsp;&nbsp;&nbsp; |  486&nbsp;&nbsp;&nbsp; | 558&nbsp;&nbsp;&nbsp; | \n"
   ]
  },
  {
   "cell_type": "code",
   "execution_count": 1,
   "id": "86dc90c7",
   "metadata": {
    "pycharm": {
     "name": "#%%\n"
    }
   },
   "outputs": [
    {
     "name": "stdout",
     "output_type": "stream",
     "text": [
      "Exact scale adjustments:\n",
      "scale: 0.2 => 0.2, dimension: 765x510 => (153, 102)\n",
      "scale: 0.3 => 0.2980392156862745, dimension: 765x510 => (228, 152)\n",
      "scale: 0.4 => 0.4, dimension: 765x510 => (306, 204)\n",
      "scale: 0.5 => 0.5019607843137255, dimension: 765x510 => (384, 256)\n",
      "scale: 0.6 => 0.6, dimension: 765x510 => (459, 306)\n",
      "scale: 0.7 => 0.6980392156862745, dimension: 765x510 => (534, 356)\n",
      "scale: 0.8 => 0.8, dimension: 765x510 => (612, 408)\n",
      "scale: 0.9 => 0.9019607843137255, dimension: 765x510 => (690, 460)\n"
     ]
    }
   ],
   "source": [
    "import cv2 as cv\n",
    "from tqdm.notebook import tqdm\n",
    "\n",
    "from dataset_utils import Hs_imgs_for_boat, Hs_imgs_for_bark, Hs_imgs_for_rotation, Hs_imgs_for_scaling\n",
    "from opencv_utils import get_tentatives, get_visible_part_mean_absolute_reprojection_error\n",
    "from jupyter_utils import JupyterPrinter\n",
    "\n",
    "\n",
    "def homography_estimation_experiment(descriptor, Hs_gt, imgs, e_name, instance_names, p,\n",
    "                                     mean=True, sum=False):\n",
    "    p.print()\n",
    "    p.print(f\"running experiment: {e_name}\")\n",
    "    p.add_experiment(e_name)\n",
    "    p.print()\n",
    "\n",
    "    kpts_0, desc_0 = descriptor.detectAndCompute(imgs[0], mask=None)\n",
    "\n",
    "    p.print(f\"reference img keypoints: {len(kpts_0)}\")\n",
    "    p.add_special_key(\"reference img keypoints\", str(len(kpts_0)))\n",
    "    p.print()\n",
    "    p.print(f\"{'':>8}{'error':>12}{'keypoints':>12}{'tentatives':>12}{'inliers':>10}\")\n",
    "\n",
    "    sum_reproj_err = 0.0\n",
    "    sum_keypoints = 0\n",
    "    sum_tent_count = 0\n",
    "    sum_in_count = 0\n",
    "\n",
    "    for other_i in tqdm(range(1, len(imgs)), leave=False):\n",
    "        kpts_other, desc_other = descriptor.detectAndCompute(imgs[other_i], mask=None)\n",
    "        kpts_n = len(kpts_other)\n",
    "\n",
    "        src_pts, dst_pts = get_tentatives(kpts_0, desc_0, kpts_other, desc_other, ratio_threshold=0.8)\n",
    "        if len(src_pts) < 4:\n",
    "            print(f\"WARNING: less than 4 tentatives: {len(src_pts)}\")\n",
    "            p.print(f\"{instance_names[other_i - 1]:>8}{'N/A':>12}{'N/A':>12}{'N/A':>12}{'N/A':>10}\")\n",
    "            p.add_data([instance_names[other_i - 1], 'N/A', 'N/A', 'N/A', 'N/A'])\n",
    "            continue\n",
    "\n",
    "        H_est, inlier_mask = cv.findHomography(src_pts, dst_pts,\n",
    "                                               cv.RANSAC,\n",
    "                                               maxIters=100000,\n",
    "                                               ransacReprojThreshold=0.5,\n",
    "                                               confidence=0.9999)\n",
    "        H_gt = Hs_gt[other_i - 1]\n",
    "\n",
    "        reproj_err = get_visible_part_mean_absolute_reprojection_error(imgs[0], imgs[other_i], H_gt, H_est)\n",
    "        tent_count = len(src_pts)\n",
    "        in_count = int(inlier_mask.sum())\n",
    "\n",
    "        p.print(f\"{instance_names[other_i - 1]:>8}{reproj_err:>12.6f}{kpts_n:>12}{tent_count:>12}{in_count:>10}\")\n",
    "        p.add_data([instance_names[other_i - 1], f\"{reproj_err:.6f}\", f\"{kpts_n}\", f\"{tent_count}\", f\"{in_count}\"])\n",
    "        sum_reproj_err += reproj_err\n",
    "        sum_keypoints += kpts_n\n",
    "        sum_tent_count += tent_count\n",
    "        sum_in_count += in_count\n",
    "\n",
    "    l = len(imgs) - 1\n",
    "    if mean:\n",
    "        p.print(f\"{'Mean':>8}{sum_reproj_err / l:>12.6f}{sum_keypoints / l:>14.1f}{sum_tent_count / l:>12.1f}{sum_in_count / l:>10.1f}\")\n",
    "        p.add_data([\"Mean\", f\"{sum_reproj_err / l:.6f}\", f\"{sum_keypoints / l:.1f}\", f\"{sum_tent_count / l:.1f}\", f\"{sum_in_count / l:.1f}\"])\n",
    "    if sum:\n",
    "        p.print(f\"{'Sum':>8}{sum_reproj_err:>12.6f}{sum_keypoints:>12}{sum_tent_count:>12}{sum_in_count:>10}\")\n",
    "        p.add_data([\"Sum\", f\"{sum_reproj_err:.6f}\", f\"{sum_keypoints}\", f\"{sum_tent_count}\", f\"{sum_in_count}\"])\n",
    "\n",
    "\n",
    "Hs_boat, imgs_boat = Hs_imgs_for_boat()\n",
    "Hs_boat_rot, imgs_boat_rot = Hs_imgs_for_boat(rotate_query_imgs=True)\n",
    "Hs_bark, imgs_bark = Hs_imgs_for_bark()\n",
    "Hs_bark_rot, imgs_bark_rot = Hs_imgs_for_bark(rotate_query_imgs=True)\n",
    "Hs_rot, imgs_rot = Hs_imgs_for_rotation()\n",
    "print(\"Exact scale adjustments:\")\n",
    "Hs_scaling, imgs_scaling, scales = Hs_imgs_for_scaling()\n",
    "\n",
    "\n",
    "def run_on_descriptor(descriptor, descriptor_name, print_output=True, mean=True, sum=True):\n",
    "    p = JupyterPrinter(print_output, descriptor_name)\n",
    "    p.print()\n",
    "    p.print(f\"descriptor: {descriptor_name}:\")\n",
    "    p.print()\n",
    "    homography_estimation_experiment(descriptor, Hs_rot, imgs_rot, \"synthetic pi rotation\", [\"90°\", \"180°\", \"270°\"], p, mean, sum)\n",
    "    homography_estimation_experiment(descriptor, Hs_scaling, imgs_scaling, \"synthetic rescaling lanczos\", [f\"{s}\" for s in scales], p, mean, sum)\n",
    "    homography_estimation_experiment(descriptor, Hs_bark, imgs_bark, \"bark\", [f\"img{i}\" for i in range(2, 7)], p, mean, sum)\n",
    "    homography_estimation_experiment(descriptor, Hs_boat, imgs_boat, \"boat\", [f\"img{i}\" for i in range(2, 7)], p, mean, sum)\n",
    "    homography_estimation_experiment(descriptor, Hs_bark_rot, imgs_bark_rot, \"bark rotated\", [f\"img{i}\" for i in range(2, 7)], p, mean, sum)\n",
    "    homography_estimation_experiment(descriptor, Hs_boat_rot, imgs_boat_rot, \"boat rotated\", [f\"img{i}\" for i in range(2, 7)], p, mean, sum)\n",
    "    return p"
   ]
  },
  {
   "cell_type": "code",
   "execution_count": 2,
   "id": "3e949896",
   "metadata": {
    "pycharm": {
     "name": "#%%\n"
    },
    "scrolled": false
   },
   "outputs": [
    {
     "name": "stdout",
     "output_type": "stream",
     "text": [
      "Kornia Harris+SIFT\n",
      "\n",
      "descriptor: fix:\n",
      "\n",
      "\n",
      "running experiment: synthetic pi rotation\n",
      "\n",
      "reference img keypoints: 8000\n",
      "\n",
      "               error   keypoints  tentatives   inliers\n"
     ]
    },
    {
     "data": {
      "application/vnd.jupyter.widget-view+json": {
       "model_id": "",
       "version_major": 2,
       "version_minor": 0
      },
      "text/plain": [
       "  0%|          | 0/3 [00:00<?, ?it/s]"
      ]
     },
     "metadata": {},
     "output_type": "display_data"
    },
    {
     "name": "stdout",
     "output_type": "stream",
     "text": [
      "     90°    0.000086        8000        5115      5089\n",
      "    180°    0.001696        8000        2329      2133\n",
      "    270°    0.001426        8000        3647      3511\n",
      "    Mean    0.001070        8000.0      3697.0    3577.7\n",
      "     Sum    0.003209       24000       11091     10733\n",
      "\n",
      "running experiment: synthetic rescaling lanczos\n",
      "\n",
      "reference img keypoints: 8000\n",
      "\n",
      "               error   keypoints  tentatives   inliers\n"
     ]
    },
    {
     "data": {
      "application/vnd.jupyter.widget-view+json": {
       "model_id": "",
       "version_major": 2,
       "version_minor": 0
      },
      "text/plain": [
       "  0%|          | 0/8 [00:00<?, ?it/s]"
      ]
     },
     "metadata": {},
     "output_type": "display_data"
    },
    {
     "name": "stdout",
     "output_type": "stream",
     "text": [
      "     0.2    0.155574        8000          25        21\n",
      "     0.3    0.055321        8000         106        81\n",
      "     0.4    0.132058        8000         161        91\n",
      "     0.5    0.027523        8000         287       213\n",
      "     0.6    0.086016        8000         435       277\n",
      "     0.7    0.067514        8000        1130       798\n",
      "     0.8    0.031177        8000        2233      1851\n",
      "     0.9    0.027453        8000        3783      3266\n",
      "    Mean    0.072829        8000.0      1020.0     824.8\n",
      "     Sum    0.582635       64000        8160      6598\n",
      "\n",
      "running experiment: bark\n",
      "\n",
      "reference img keypoints: 8000\n",
      "\n",
      "               error   keypoints  tentatives   inliers\n"
     ]
    },
    {
     "data": {
      "application/vnd.jupyter.widget-view+json": {
       "model_id": "",
       "version_major": 2,
       "version_minor": 0
      },
      "text/plain": [
       "  0%|          | 0/5 [00:00<?, ?it/s]"
      ]
     },
     "metadata": {},
     "output_type": "display_data"
    },
    {
     "name": "stdout",
     "output_type": "stream",
     "text": [
      "    img2    1.795552        8000          53        13\n",
      "    img3   50.931652        8000           9         4\n",
      "    img4    1.025011        8000          67        35\n",
      "    img5    0.664524        8000          64        39\n",
      "    img6    1.115704        8000          22        14\n",
      "    Mean   11.106489        8000.0        43.0      21.0\n",
      "     Sum   55.532443       40000         215       105\n",
      "\n",
      "running experiment: boat\n",
      "\n",
      "reference img keypoints: 8000\n",
      "\n",
      "               error   keypoints  tentatives   inliers\n"
     ]
    },
    {
     "data": {
      "application/vnd.jupyter.widget-view+json": {
       "model_id": "",
       "version_major": 2,
       "version_minor": 0
      },
      "text/plain": [
       "  0%|          | 0/5 [00:00<?, ?it/s]"
      ]
     },
     "metadata": {},
     "output_type": "display_data"
    },
    {
     "name": "stdout",
     "output_type": "stream",
     "text": [
      "    img2    0.291864        8000         791       296\n",
      "    img3    0.244096        8000         350       143\n",
      "    img4    1.686288        8000         179        60\n",
      "    img5    0.539604        8000         116        33\n",
      "    img6   14.132227        8000          24         9\n",
      "    Mean    3.378816        8000.0       292.0     108.2\n",
      "     Sum   16.894079       40000        1460       541\n",
      "\n",
      "running experiment: bark rotated\n",
      "\n",
      "reference img keypoints: 8000\n",
      "\n",
      "               error   keypoints  tentatives   inliers\n"
     ]
    },
    {
     "data": {
      "application/vnd.jupyter.widget-view+json": {
       "model_id": "",
       "version_major": 2,
       "version_minor": 0
      },
      "text/plain": [
       "  0%|          | 0/5 [00:00<?, ?it/s]"
      ]
     },
     "metadata": {},
     "output_type": "display_data"
    },
    {
     "name": "stdout",
     "output_type": "stream",
     "text": [
      "    img2    2.583919        8000          36         9\n",
      "    img3    1.466449        8000          20         6\n",
      "    img4    1.098778        8000          58        26\n",
      "    img5    0.764558        8000          40        24\n",
      "    img6    0.972219        8000          25        21\n",
      "    Mean    1.377185        8000.0        35.8      17.2\n",
      "     Sum    6.885923       40000         179        86\n",
      "\n",
      "running experiment: boat rotated\n",
      "\n",
      "reference img keypoints: 8000\n",
      "\n",
      "               error   keypoints  tentatives   inliers\n"
     ]
    },
    {
     "data": {
      "application/vnd.jupyter.widget-view+json": {
       "model_id": "",
       "version_major": 2,
       "version_minor": 0
      },
      "text/plain": [
       "  0%|          | 0/5 [00:00<?, ?it/s]"
      ]
     },
     "metadata": {},
     "output_type": "display_data"
    },
    {
     "name": "stdout",
     "output_type": "stream",
     "text": [
      "    img2    1.073732        8000         381        99\n",
      "    img3    0.601956        8000         203        61\n",
      "    img4    1.429516        8000         160        51\n",
      "    img5    2.012444        8000          85        22\n",
      "    img6    5.807388        8000          17         6\n",
      "    Mean    2.185007        8000.0       169.2      47.8\n",
      "     Sum   10.925035       40000         846       239\n",
      "\n",
      "descriptor: baseline:\n",
      "\n",
      "\n",
      "running experiment: synthetic pi rotation\n",
      "\n",
      "reference img keypoints: 8000\n",
      "\n",
      "               error   keypoints  tentatives   inliers\n"
     ]
    },
    {
     "data": {
      "application/vnd.jupyter.widget-view+json": {
       "model_id": "",
       "version_major": 2,
       "version_minor": 0
      },
      "text/plain": [
       "  0%|          | 0/3 [00:00<?, ?it/s]"
      ]
     },
     "metadata": {},
     "output_type": "display_data"
    },
    {
     "name": "stdout",
     "output_type": "stream",
     "text": [
      "     90°    0.505984        8000        5314      4628\n",
      "    180°    0.720450        8000        5151      3805\n",
      "    270°    0.483402        8000        5070      3929\n",
      "    Mean    0.569945        8000.0      5178.3    4120.7\n",
      "     Sum    1.709836       24000       15535     12362\n",
      "\n",
      "running experiment: synthetic rescaling lanczos\n",
      "\n",
      "reference img keypoints: 8000\n",
      "\n",
      "               error   keypoints  tentatives   inliers\n"
     ]
    },
    {
     "data": {
      "application/vnd.jupyter.widget-view+json": {
       "model_id": "",
       "version_major": 2,
       "version_minor": 0
      },
      "text/plain": [
       "  0%|          | 0/8 [00:00<?, ?it/s]"
      ]
     },
     "metadata": {},
     "output_type": "display_data"
    },
    {
     "name": "stdout",
     "output_type": "stream",
     "text": [
      "     0.2    0.411777        8000          18        10\n",
      "     0.3    0.476911        8000          75        45\n",
      "     0.4    0.430953        8000         121        42\n",
      "     0.5    0.504286        8000         210        79\n",
      "     0.6    0.233731        8000         250        98\n",
      "     0.7    0.137674        8000         791       450\n",
      "     0.8    0.103791        8000        1774      1182\n",
      "     0.9    0.116520        8000        3178      2057\n",
      "    Mean    0.301955        8000.0       802.1     495.4\n",
      "     Sum    2.415642       64000        6417      3963\n",
      "\n",
      "running experiment: bark\n",
      "\n",
      "reference img keypoints: 8000\n",
      "\n",
      "               error   keypoints  tentatives   inliers\n"
     ]
    },
    {
     "data": {
      "application/vnd.jupyter.widget-view+json": {
       "model_id": "",
       "version_major": 2,
       "version_minor": 0
      },
      "text/plain": [
       "  0%|          | 0/5 [00:00<?, ?it/s]"
      ]
     },
     "metadata": {},
     "output_type": "display_data"
    },
    {
     "name": "stdout",
     "output_type": "stream",
     "text": [
      "    img2    1.406098        8000          46        10\n",
      "    img3    8.935924        8000          15         5\n",
      "    img4    1.602226        8000          52        18\n",
      "    img5    1.270129        8000          41        17\n",
      "    img6    1.147215        8000          32        18\n",
      "    Mean    2.872318        8000.0        37.2      13.6\n",
      "     Sum   14.361591       40000         186        68\n",
      "\n",
      "running experiment: boat\n",
      "\n",
      "reference img keypoints: 8000\n",
      "\n",
      "               error   keypoints  tentatives   inliers\n"
     ]
    },
    {
     "data": {
      "application/vnd.jupyter.widget-view+json": {
       "model_id": "",
       "version_major": 2,
       "version_minor": 0
      },
      "text/plain": [
       "  0%|          | 0/5 [00:00<?, ?it/s]"
      ]
     },
     "metadata": {},
     "output_type": "display_data"
    },
    {
     "name": "stdout",
     "output_type": "stream",
     "text": [
      "    img2    0.622699        8000         729       200\n",
      "    img3    0.474874        8000         341       114\n",
      "    img4    1.223044        8000         158        43\n",
      "    img5    2.658311        8000          89        22\n",
      "    img6    5.106162        8000          22         8\n",
      "    Mean    2.017018        8000.0       267.8      77.4\n",
      "     Sum   10.085090       40000        1339       387\n",
      "\n",
      "running experiment: bark rotated\n",
      "\n",
      "reference img keypoints: 8000\n",
      "\n",
      "               error   keypoints  tentatives   inliers\n"
     ]
    },
    {
     "data": {
      "application/vnd.jupyter.widget-view+json": {
       "model_id": "",
       "version_major": 2,
       "version_minor": 0
      },
      "text/plain": [
       "  0%|          | 0/5 [00:00<?, ?it/s]"
      ]
     },
     "metadata": {},
     "output_type": "display_data"
    },
    {
     "name": "stdout",
     "output_type": "stream",
     "text": [
      "    img2    2.530097        8000          40         8\n",
      "    img3    3.541560        8000          23         6\n",
      "    img4    0.894178        8000          53        19\n",
      "    img5    1.086956        8000          34        15\n",
      "    img6    0.952408        8000          30        14\n",
      "    Mean    1.801040        8000.0        36.0      12.4\n",
      "     Sum    9.005199       40000         180        62\n",
      "\n",
      "running experiment: boat rotated\n",
      "\n",
      "reference img keypoints: 8000\n",
      "\n",
      "               error   keypoints  tentatives   inliers\n"
     ]
    },
    {
     "data": {
      "application/vnd.jupyter.widget-view+json": {
       "model_id": "",
       "version_major": 2,
       "version_minor": 0
      },
      "text/plain": [
       "  0%|          | 0/5 [00:00<?, ?it/s]"
      ]
     },
     "metadata": {},
     "output_type": "display_data"
    },
    {
     "name": "stdout",
     "output_type": "stream",
     "text": [
      "    img2    0.684940        8000         582       160\n",
      "    img3    0.687411        8000         279        84\n",
      "    img4    1.571157        8000         156        37\n",
      "    img5    1.973402        8000          97        22\n",
      "    img6    6.131644        8000          24         8\n",
      "    Mean    2.209711        8000.0       227.6      62.2\n",
      "     Sum   11.048554       40000        1138       311\n",
      "\n",
      "descriptor: original:\n",
      "\n",
      "\n",
      "running experiment: synthetic pi rotation\n",
      "\n",
      "reference img keypoints: 8000\n",
      "\n",
      "               error   keypoints  tentatives   inliers\n"
     ]
    },
    {
     "data": {
      "application/vnd.jupyter.widget-view+json": {
       "model_id": "",
       "version_major": 2,
       "version_minor": 0
      },
      "text/plain": [
       "  0%|          | 0/3 [00:00<?, ?it/s]"
      ]
     },
     "metadata": {},
     "output_type": "display_data"
    },
    {
     "name": "stdout",
     "output_type": "stream",
     "text": [
      "     90°    0.492639        8000        5319      4740\n",
      "    180°    0.695292        8000        5176      4855\n",
      "    270°    0.498166        8000        5085      4753\n",
      "    Mean    0.562033        8000.0      5193.3    4782.7\n",
      "     Sum    1.686098       24000       15580     14348\n",
      "\n",
      "running experiment: synthetic rescaling lanczos\n",
      "\n",
      "reference img keypoints: 8000\n",
      "\n",
      "               error   keypoints  tentatives   inliers\n"
     ]
    },
    {
     "data": {
      "application/vnd.jupyter.widget-view+json": {
       "model_id": "",
       "version_major": 2,
       "version_minor": 0
      },
      "text/plain": [
       "  0%|          | 0/8 [00:00<?, ?it/s]"
      ]
     },
     "metadata": {},
     "output_type": "display_data"
    },
    {
     "name": "stdout",
     "output_type": "stream",
     "text": [
      "     0.2    0.495010        8000          27        14\n",
      "     0.3    0.208919        8000          81        40\n",
      "     0.4    0.244775        8000         118        47\n",
      "     0.5    0.297495        8000         201        68\n",
      "     0.6    0.289852        8000         238        94\n",
      "     0.7    0.163850        8000         804       430\n",
      "     0.8    0.204098        8000        1781      1051\n",
      "     0.9    0.152966        8000        3179      1968\n",
      "    Mean    0.257121        8000.0       803.6     464.0\n",
      "     Sum    2.056965       64000        6429      3712\n",
      "\n",
      "running experiment: bark\n",
      "\n",
      "reference img keypoints: 8000\n",
      "\n",
      "               error   keypoints  tentatives   inliers\n"
     ]
    },
    {
     "data": {
      "application/vnd.jupyter.widget-view+json": {
       "model_id": "",
       "version_major": 2,
       "version_minor": 0
      },
      "text/plain": [
       "  0%|          | 0/5 [00:00<?, ?it/s]"
      ]
     },
     "metadata": {},
     "output_type": "display_data"
    },
    {
     "name": "stdout",
     "output_type": "stream",
     "text": [
      "    img2    1.410286        8000          57        12\n",
      "    img3    2.593069        8000          11         5\n",
      "    img4    1.269490        8000          47        17\n",
      "    img5    0.992557        8000          45        26\n",
      "    img6    1.443907        8000          25        18\n",
      "    Mean    1.541862        8000.0        37.0      15.6\n",
      "     Sum    7.709309       40000         185        78\n",
      "\n",
      "running experiment: boat\n",
      "\n",
      "reference img keypoints: 8000\n",
      "\n",
      "               error   keypoints  tentatives   inliers\n"
     ]
    },
    {
     "data": {
      "application/vnd.jupyter.widget-view+json": {
       "model_id": "",
       "version_major": 2,
       "version_minor": 0
      },
      "text/plain": [
       "  0%|          | 0/5 [00:00<?, ?it/s]"
      ]
     },
     "metadata": {},
     "output_type": "display_data"
    },
    {
     "name": "stdout",
     "output_type": "stream",
     "text": [
      "    img2    0.539936        8000         731       199\n",
      "    img3    0.590446        8000         347       100\n",
      "    img4    1.172055        8000         161        48\n",
      "    img5    1.335227        8000          86        21\n",
      "    img6    3.899022        8000          22         8\n",
      "    Mean    1.507337        8000.0       269.4      75.2\n",
      "     Sum    7.536687       40000        1347       376\n",
      "\n",
      "running experiment: bark rotated\n",
      "\n",
      "reference img keypoints: 8000\n",
      "\n",
      "               error   keypoints  tentatives   inliers\n"
     ]
    },
    {
     "data": {
      "application/vnd.jupyter.widget-view+json": {
       "model_id": "",
       "version_major": 2,
       "version_minor": 0
      },
      "text/plain": [
       "  0%|          | 0/5 [00:00<?, ?it/s]"
      ]
     },
     "metadata": {},
     "output_type": "display_data"
    },
    {
     "name": "stdout",
     "output_type": "stream",
     "text": [
      "    img2    2.049139        8000          43         9\n",
      "    img3    1.552846        8000          15         5\n",
      "    img4    1.016842        8000          47        20\n",
      "    img5    1.072451        8000          37        21\n",
      "    img6    0.928309        8000          22        17\n",
      "    Mean    1.323917        8000.0        32.8      14.4\n",
      "     Sum    6.619587       40000         164        72\n",
      "\n",
      "running experiment: boat rotated\n",
      "\n",
      "reference img keypoints: 8000\n",
      "\n",
      "               error   keypoints  tentatives   inliers\n"
     ]
    },
    {
     "data": {
      "application/vnd.jupyter.widget-view+json": {
       "model_id": "",
       "version_major": 2,
       "version_minor": 0
      },
      "text/plain": [
       "  0%|          | 0/5 [00:00<?, ?it/s]"
      ]
     },
     "metadata": {},
     "output_type": "display_data"
    },
    {
     "name": "stdout",
     "output_type": "stream",
     "text": [
      "    img2    0.927808        8000         581       159\n",
      "    img3    0.598533        8000         271        97\n",
      "    img4    1.346518        8000         159        40\n",
      "    img5    1.300780        8000          94        22\n",
      "    img6    5.432865        8000          23         8\n",
      "    Mean    1.921301        8000.0       225.6      65.2\n",
      "     Sum    9.606504       40000        1128       326\n"
     ]
    },
    {
     "data": {
      "text/plain": [
       "<jupyter_utils.JupyterPrinter at 0x150ccf250>"
      ]
     },
     "execution_count": 2,
     "metadata": {},
     "output_type": "execute_result"
    }
   ],
   "source": [
    "from kornia_utils import Version, get_sift_descriptor_with_harris\n",
    "\n",
    "print(\"Kornia Harris+SIFT\")\n",
    "run_on_descriptor(descriptor=get_sift_descriptor_with_harris(version=Version.FIXED), descriptor_name=\"fix\")\n",
    "run_on_descriptor(descriptor=get_sift_descriptor_with_harris(version=Version.NOT_FIXED), descriptor_name=\"baseline\")\n",
    "run_on_descriptor(descriptor=get_sift_descriptor_with_harris(version=Version.ORIGINAL), descriptor_name=\"original\")"
   ]
  },
  {
   "cell_type": "code",
   "execution_count": 3,
   "id": "3b50ab6f",
   "metadata": {
    "pycharm": {
     "name": "#%%\n"
    },
    "scrolled": false
   },
   "outputs": [
    {
     "name": "stdout",
     "output_type": "stream",
     "text": [
      "Kornia Hessian+SIFT\n",
      "\n",
      "descriptor: fix:\n",
      "\n",
      "\n",
      "running experiment: synthetic pi rotation\n",
      "\n",
      "reference img keypoints: 8000\n",
      "\n",
      "               error   keypoints  tentatives   inliers\n"
     ]
    },
    {
     "data": {
      "application/vnd.jupyter.widget-view+json": {
       "model_id": "",
       "version_major": 2,
       "version_minor": 0
      },
      "text/plain": [
       "  0%|          | 0/3 [00:00<?, ?it/s]"
      ]
     },
     "metadata": {},
     "output_type": "display_data"
    },
    {
     "name": "stdout",
     "output_type": "stream",
     "text": [
      "     90°    0.000168        8000        5540      5506\n",
      "    180°    0.002262        8000        4231      3934\n",
      "    270°    0.002193        8000        4571      4401\n",
      "    Mean    0.001541        8000.0      4780.7    4613.7\n",
      "     Sum    0.004624       24000       14342     13841\n",
      "\n",
      "running experiment: synthetic rescaling lanczos\n",
      "\n",
      "reference img keypoints: 8000\n",
      "\n",
      "               error   keypoints  tentatives   inliers\n"
     ]
    },
    {
     "data": {
      "application/vnd.jupyter.widget-view+json": {
       "model_id": "",
       "version_major": 2,
       "version_minor": 0
      },
      "text/plain": [
       "  0%|          | 0/8 [00:00<?, ?it/s]"
      ]
     },
     "metadata": {},
     "output_type": "display_data"
    },
    {
     "name": "stdout",
     "output_type": "stream",
     "text": [
      "     0.2    0.041860        8000         105        88\n",
      "     0.3    0.016170        8000         462       406\n",
      "     0.4    0.013128        8000        1125      1037\n",
      "     0.5    0.006594        8000        2027      1894\n",
      "     0.6    0.039449        8000        2977      2478\n",
      "     0.7    0.048357        8000        3866      2904\n",
      "     0.8    0.008719        8000        4796      4434\n",
      "     0.9    0.045975        8000        5393      4221\n",
      "    Mean    0.027532        8000.0      2593.9    2182.8\n",
      "     Sum    0.220252       64000       20751     17462\n",
      "\n",
      "running experiment: bark\n",
      "\n",
      "reference img keypoints: 8000\n",
      "\n",
      "               error   keypoints  tentatives   inliers\n"
     ]
    },
    {
     "data": {
      "application/vnd.jupyter.widget-view+json": {
       "model_id": "",
       "version_major": 2,
       "version_minor": 0
      },
      "text/plain": [
       "  0%|          | 0/5 [00:00<?, ?it/s]"
      ]
     },
     "metadata": {},
     "output_type": "display_data"
    },
    {
     "name": "stdout",
     "output_type": "stream",
     "text": [
      "    img2    1.718248        8000         165        33\n",
      "    img3    1.645833        8000          77        19\n",
      "    img4    1.018357        8000         132        62\n",
      "    img5    0.734134        8000         111        57\n",
      "    img6    0.936459        8000          41        21\n",
      "    Mean    1.210606        8000.0       105.2      38.4\n",
      "     Sum    6.053031       40000         526       192\n",
      "\n",
      "running experiment: boat\n",
      "\n",
      "reference img keypoints: 8000\n",
      "\n",
      "               error   keypoints  tentatives   inliers\n"
     ]
    },
    {
     "data": {
      "application/vnd.jupyter.widget-view+json": {
       "model_id": "",
       "version_major": 2,
       "version_minor": 0
      },
      "text/plain": [
       "  0%|          | 0/5 [00:00<?, ?it/s]"
      ]
     },
     "metadata": {},
     "output_type": "display_data"
    },
    {
     "name": "stdout",
     "output_type": "stream",
     "text": [
      "    img2    0.472435        8000        1620       551\n",
      "    img3    0.278010        8000         628       250\n",
      "    img4    1.586896        8000         388       113\n",
      "    img5    1.819769        8000         240        71\n",
      "    img6    5.721497        8000          35        10\n",
      "    Mean    1.975721        8000.0       582.2     199.0\n",
      "     Sum    9.878607       40000        2911       995\n",
      "\n",
      "running experiment: bark rotated\n",
      "\n",
      "reference img keypoints: 8000\n",
      "\n",
      "               error   keypoints  tentatives   inliers\n"
     ]
    },
    {
     "data": {
      "application/vnd.jupyter.widget-view+json": {
       "model_id": "",
       "version_major": 2,
       "version_minor": 0
      },
      "text/plain": [
       "  0%|          | 0/5 [00:00<?, ?it/s]"
      ]
     },
     "metadata": {},
     "output_type": "display_data"
    },
    {
     "name": "stdout",
     "output_type": "stream",
     "text": [
      "    img2    1.258077        8000         144        38\n",
      "    img3    1.877103        8000         101        30\n",
      "    img4    0.992745        8000         138        71\n",
      "    img5    0.761343        8000          86        51\n",
      "    img6    0.967433        8000          51        26\n",
      "    Mean    1.171340        8000.0       104.0      43.2\n",
      "     Sum    5.856701       40000         520       216\n",
      "\n",
      "running experiment: boat rotated\n",
      "\n",
      "reference img keypoints: 8000\n",
      "\n",
      "               error   keypoints  tentatives   inliers\n"
     ]
    },
    {
     "data": {
      "application/vnd.jupyter.widget-view+json": {
       "model_id": "",
       "version_major": 2,
       "version_minor": 0
      },
      "text/plain": [
       "  0%|          | 0/5 [00:00<?, ?it/s]"
      ]
     },
     "metadata": {},
     "output_type": "display_data"
    },
    {
     "name": "stdout",
     "output_type": "stream",
     "text": [
      "    img2    0.626339        8000         864       208\n",
      "    img3    0.407249        8000         405       113\n",
      "    img4    1.677824        8000         352       100\n",
      "    img5    1.230647        8000         198        54\n",
      "    img6    4.049292        8000          41        11\n",
      "    Mean    1.598270        8000.0       372.0      97.2\n",
      "     Sum    7.991352       40000        1860       486\n",
      "\n",
      "descriptor: baseline:\n",
      "\n",
      "\n",
      "running experiment: synthetic pi rotation\n",
      "\n",
      "reference img keypoints: 8000\n",
      "\n",
      "               error   keypoints  tentatives   inliers\n"
     ]
    },
    {
     "data": {
      "application/vnd.jupyter.widget-view+json": {
       "model_id": "",
       "version_major": 2,
       "version_minor": 0
      },
      "text/plain": [
       "  0%|          | 0/3 [00:00<?, ?it/s]"
      ]
     },
     "metadata": {},
     "output_type": "display_data"
    },
    {
     "name": "stdout",
     "output_type": "stream",
     "text": [
      "     90°    0.520831        8000        5050      3245\n",
      "    180°    0.660425        8000        4890      2723\n",
      "    270°    0.598328        8000        4764      2284\n",
      "    Mean    0.593195        8000.0      4901.3    2750.7\n",
      "     Sum    1.779584       24000       14704      8252\n",
      "\n",
      "running experiment: synthetic rescaling lanczos\n",
      "\n",
      "reference img keypoints: 8000\n",
      "\n",
      "               error   keypoints  tentatives   inliers\n"
     ]
    },
    {
     "data": {
      "application/vnd.jupyter.widget-view+json": {
       "model_id": "",
       "version_major": 2,
       "version_minor": 0
      },
      "text/plain": [
       "  0%|          | 0/8 [00:00<?, ?it/s]"
      ]
     },
     "metadata": {},
     "output_type": "display_data"
    },
    {
     "name": "stdout",
     "output_type": "stream",
     "text": [
      "     0.2    0.528019        8000         115        56\n",
      "     0.3    0.272292        8000         443       263\n",
      "     0.4    0.283455        8000        1046       581\n",
      "     0.5    0.213915        8000        1902      1051\n",
      "     0.6    0.186995        8000        2616      1588\n",
      "     0.7    0.175392        8000        3204      1615\n",
      "     0.8    0.227540        8000        4219      2013\n",
      "     0.9    0.211204        8000        4249      2117\n",
      "    Mean    0.262352        8000.0      2224.2    1160.5\n",
      "     Sum    2.098813       64000       17794      9284\n",
      "\n",
      "running experiment: bark\n",
      "\n",
      "reference img keypoints: 8000\n",
      "\n",
      "               error   keypoints  tentatives   inliers\n"
     ]
    },
    {
     "data": {
      "application/vnd.jupyter.widget-view+json": {
       "model_id": "",
       "version_major": 2,
       "version_minor": 0
      },
      "text/plain": [
       "  0%|          | 0/5 [00:00<?, ?it/s]"
      ]
     },
     "metadata": {},
     "output_type": "display_data"
    },
    {
     "name": "stdout",
     "output_type": "stream",
     "text": [
      "    img2    1.301677        8000         145        24\n",
      "    img3    1.754899        8000          80        15\n",
      "    img4    1.429559        8000         138        54\n",
      "    img5    0.742578        8000         114        43\n",
      "    img6    1.513469        8000          51        18\n",
      "    Mean    1.348436        8000.0       105.6      30.8\n",
      "     Sum    6.742182       40000         528       154\n",
      "\n",
      "running experiment: boat\n",
      "\n",
      "reference img keypoints: 8000\n",
      "\n",
      "               error   keypoints  tentatives   inliers\n"
     ]
    },
    {
     "data": {
      "application/vnd.jupyter.widget-view+json": {
       "model_id": "",
       "version_major": 2,
       "version_minor": 0
      },
      "text/plain": [
       "  0%|          | 0/5 [00:00<?, ?it/s]"
      ]
     },
     "metadata": {},
     "output_type": "display_data"
    },
    {
     "name": "stdout",
     "output_type": "stream",
     "text": [
      "    img2    0.398556        8000        1389       383\n",
      "    img3    1.145879        8000         568       155\n",
      "    img4    1.437956        8000         390        79\n",
      "    img5    1.247037        8000         210        41\n",
      "    img6    3.046470        8000          37        10\n",
      "    Mean    1.455180        8000.0       518.8     133.6\n",
      "     Sum    7.275898       40000        2594       668\n",
      "\n",
      "running experiment: bark rotated\n",
      "\n",
      "reference img keypoints: 8000\n",
      "\n",
      "               error   keypoints  tentatives   inliers\n"
     ]
    },
    {
     "data": {
      "application/vnd.jupyter.widget-view+json": {
       "model_id": "",
       "version_major": 2,
       "version_minor": 0
      },
      "text/plain": [
       "  0%|          | 0/5 [00:00<?, ?it/s]"
      ]
     },
     "metadata": {},
     "output_type": "display_data"
    },
    {
     "name": "stdout",
     "output_type": "stream",
     "text": [
      "    img2    1.950414        8000         139        21\n",
      "    img3    1.604224        8000         108        20\n",
      "    img4    1.170061        8000         138        58\n",
      "    img5    1.441805        8000         103        36\n",
      "    img6    0.842671        8000          52        18\n",
      "    Mean    1.401835        8000.0       108.0      30.6\n",
      "     Sum    7.009175       40000         540       153\n",
      "\n",
      "running experiment: boat rotated\n",
      "\n",
      "reference img keypoints: 8000\n",
      "\n",
      "               error   keypoints  tentatives   inliers\n"
     ]
    },
    {
     "data": {
      "application/vnd.jupyter.widget-view+json": {
       "model_id": "",
       "version_major": 2,
       "version_minor": 0
      },
      "text/plain": [
       "  0%|          | 0/5 [00:00<?, ?it/s]"
      ]
     },
     "metadata": {},
     "output_type": "display_data"
    },
    {
     "name": "stdout",
     "output_type": "stream",
     "text": [
      "    img2    1.051984        8000        1226       290\n",
      "    img3    1.226395        8000         526       132\n",
      "    img4    1.628400        8000         386        85\n",
      "    img5    1.116813        8000         206        40\n",
      "    img6    4.887769        8000          44        11\n",
      "    Mean    1.982272        8000.0       477.6     111.6\n",
      "     Sum    9.911361       40000        2388       558\n",
      "\n",
      "descriptor: original:\n",
      "\n",
      "\n",
      "running experiment: synthetic pi rotation\n",
      "\n",
      "reference img keypoints: 8000\n",
      "\n",
      "               error   keypoints  tentatives   inliers\n"
     ]
    },
    {
     "data": {
      "application/vnd.jupyter.widget-view+json": {
       "model_id": "",
       "version_major": 2,
       "version_minor": 0
      },
      "text/plain": [
       "  0%|          | 0/3 [00:00<?, ?it/s]"
      ]
     },
     "metadata": {},
     "output_type": "display_data"
    },
    {
     "name": "stdout",
     "output_type": "stream",
     "text": [
      "     90°    0.441338        8000        5043      2829\n",
      "    180°    0.737642        8000        4928      2512\n",
      "    270°    0.480771        8000        4798      2854\n",
      "    Mean    0.553250        8000.0      4923.0    2731.7\n",
      "     Sum    1.659751       24000       14769      8195\n",
      "\n",
      "running experiment: synthetic rescaling lanczos\n",
      "\n",
      "reference img keypoints: 8000\n",
      "\n",
      "               error   keypoints  tentatives   inliers\n"
     ]
    },
    {
     "data": {
      "application/vnd.jupyter.widget-view+json": {
       "model_id": "",
       "version_major": 2,
       "version_minor": 0
      },
      "text/plain": [
       "  0%|          | 0/8 [00:00<?, ?it/s]"
      ]
     },
     "metadata": {},
     "output_type": "display_data"
    },
    {
     "name": "stdout",
     "output_type": "stream",
     "text": [
      "     0.2    0.320630        8000         123        65\n",
      "     0.3    0.296852        8000         418       207\n",
      "     0.4    0.230936        8000        1031       527\n",
      "     0.5    0.264053        8000        1878       863\n",
      "     0.6    0.201835        8000        2582      1459\n",
      "     0.7    0.167777        8000        3173      1577\n",
      "     0.8    0.108439        8000        4224      2495\n",
      "     0.9    0.151364        8000        4233      1978\n",
      "    Mean    0.217736        8000.0      2207.8    1146.4\n",
      "     Sum    1.741885       64000       17662      9171\n",
      "\n",
      "running experiment: bark\n",
      "\n",
      "reference img keypoints: 8000\n",
      "\n",
      "               error   keypoints  tentatives   inliers\n"
     ]
    },
    {
     "data": {
      "application/vnd.jupyter.widget-view+json": {
       "model_id": "",
       "version_major": 2,
       "version_minor": 0
      },
      "text/plain": [
       "  0%|          | 0/5 [00:00<?, ?it/s]"
      ]
     },
     "metadata": {},
     "output_type": "display_data"
    },
    {
     "name": "stdout",
     "output_type": "stream",
     "text": [
      "    img2    1.220322        8000         157        24\n",
      "    img3    2.694864        8000          72        14\n",
      "    img4    1.344388        8000         137        57\n",
      "    img5    1.087557        8000         124        48\n",
      "    img6    1.656332        8000          42        15\n",
      "    Mean    1.600693        8000.0       106.4      31.6\n",
      "     Sum    8.003464       40000         532       158\n",
      "\n",
      "running experiment: boat\n",
      "\n",
      "reference img keypoints: 8000\n",
      "\n",
      "               error   keypoints  tentatives   inliers\n"
     ]
    },
    {
     "data": {
      "application/vnd.jupyter.widget-view+json": {
       "model_id": "",
       "version_major": 2,
       "version_minor": 0
      },
      "text/plain": [
       "  0%|          | 0/5 [00:00<?, ?it/s]"
      ]
     },
     "metadata": {},
     "output_type": "display_data"
    },
    {
     "name": "stdout",
     "output_type": "stream",
     "text": [
      "    img2    0.255399        8000        1379       343\n",
      "    img3    0.486812        8000         580       164\n",
      "    img4    1.504136        8000         396        84\n",
      "    img5    1.340992        8000         203        42\n",
      "    img6    5.628279        8000          37         8\n",
      "    Mean    1.843124        8000.0       519.0     128.2\n",
      "     Sum    9.215618       40000        2595       641\n",
      "\n",
      "running experiment: bark rotated\n",
      "\n",
      "reference img keypoints: 8000\n",
      "\n",
      "               error   keypoints  tentatives   inliers\n"
     ]
    },
    {
     "data": {
      "application/vnd.jupyter.widget-view+json": {
       "model_id": "",
       "version_major": 2,
       "version_minor": 0
      },
      "text/plain": [
       "  0%|          | 0/5 [00:00<?, ?it/s]"
      ]
     },
     "metadata": {},
     "output_type": "display_data"
    },
    {
     "name": "stdout",
     "output_type": "stream",
     "text": [
      "    img2    1.278063        8000         133        19\n",
      "    img3    1.552208        8000         104        20\n",
      "    img4    1.101690        8000         134        43\n",
      "    img5    1.366082        8000         104        36\n",
      "    img6    0.705673        8000          46        19\n",
      "    Mean    1.200743        8000.0       104.2      27.4\n",
      "     Sum    6.003715       40000         521       137\n",
      "\n",
      "running experiment: boat rotated\n",
      "\n",
      "reference img keypoints: 8000\n",
      "\n",
      "               error   keypoints  tentatives   inliers\n"
     ]
    },
    {
     "data": {
      "application/vnd.jupyter.widget-view+json": {
       "model_id": "",
       "version_major": 2,
       "version_minor": 0
      },
      "text/plain": [
       "  0%|          | 0/5 [00:00<?, ?it/s]"
      ]
     },
     "metadata": {},
     "output_type": "display_data"
    },
    {
     "name": "stdout",
     "output_type": "stream",
     "text": [
      "    img2    0.979117        8000        1219       300\n",
      "    img3    0.664981        8000         522       139\n",
      "    img4    1.927566        8000         378        84\n",
      "    img5    1.940742        8000         199        38\n",
      "    img6    4.084744        8000          39         8\n",
      "    Mean    1.919430        8000.0       471.4     113.8\n",
      "     Sum    9.597150       40000        2357       569\n"
     ]
    },
    {
     "data": {
      "text/plain": [
       "<jupyter_utils.JupyterPrinter at 0x1467a5370>"
      ]
     },
     "execution_count": 3,
     "metadata": {},
     "output_type": "execute_result"
    }
   ],
   "source": [
    "from kornia_utils import Version, get_sift_descriptor_with_hessian\n",
    "\n",
    "\n",
    "print(\"Kornia Hessian+SIFT\")\n",
    "run_on_descriptor(descriptor=get_sift_descriptor_with_hessian(version=Version.FIXED), descriptor_name=\"fix\")\n",
    "run_on_descriptor(descriptor=get_sift_descriptor_with_hessian(version=Version.NOT_FIXED), descriptor_name=\"baseline\")\n",
    "run_on_descriptor(descriptor=get_sift_descriptor_with_hessian(version=Version.ORIGINAL), descriptor_name=\"original\")"
   ]
  },
  {
   "cell_type": "code",
   "execution_count": null,
   "id": "e0250080",
   "metadata": {},
   "outputs": [],
   "source": []
  }
 ],
 "metadata": {
  "kernelspec": {
   "display_name": "Python 3 (ipykernel)",
   "language": "python",
   "name": "python3"
  },
  "language_info": {
   "codemirror_mode": {
    "name": "ipython",
    "version": 3
   },
   "file_extension": ".py",
   "mimetype": "text/x-python",
   "name": "python",
   "nbconvert_exporter": "python",
   "pygments_lexer": "ipython3",
   "version": "3.9.16"
  }
 },
 "nbformat": 4,
 "nbformat_minor": 5
}
