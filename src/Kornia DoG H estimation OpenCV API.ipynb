{
 "cells": [
  {
   "cell_type": "markdown",
   "id": "276e887a",
   "metadata": {
    "pycharm": {
     "name": "#%% md\n"
    }
   },
   "source": [
    "# Homography estimation for Kornia DoG implementation\n",
    "\n",
    "## Performed on 6 datasets\n",
    "\n",
    "* pure rotations of the first image from \"bark\" by multiples of 90 degrees\n",
    "* pure scaling of the first image from \"bark\" by multiples of 0.1 adjusted so that the aspect ratio is preserved using Lanczos resampling\n",
    "* boat and bark datasets from https://www.robots.ox.ac.uk/~vgg/data/affine/\n",
    "* boat and bark datasets with the query images rotated by 180 degrees\n",
    "* using SIFT descriptor for matching\n",
    "* see https://github.com/kornia/kornia/pull/2105/\n",
    "\n",
    "## Comparison of Kornia DoG baseline and fixed version\n",
    "\n",
    "### Experiment: synthetic pi rotation\n",
    "\n",
    "| | fix | baseline|fix | baseline|fix | baseline |\n",
    "|----|----|----|----|----|----|----|\n",
    "|  |  error| | tentatives| | inliers| |\n",
    "| 90° |  __0.000284__ | 0.490694 |  6640&nbsp;&nbsp;&nbsp; | 6331&nbsp;&nbsp;&nbsp; |  6611&nbsp;&nbsp;&nbsp; | 3788&nbsp;&nbsp;&nbsp; | \n",
    "| 180° |  __0.001708__ | 0.723630 |  4332&nbsp;&nbsp;&nbsp; | 5908&nbsp;&nbsp;&nbsp; |  4159&nbsp;&nbsp;&nbsp; | 4158&nbsp;&nbsp;&nbsp; | \n",
    "| 270° |  __0.001197__ | 0.510583 |  6062&nbsp;&nbsp;&nbsp; | 6169&nbsp;&nbsp;&nbsp; |  5913&nbsp;&nbsp;&nbsp; | 3865&nbsp;&nbsp;&nbsp; | \n",
    "| Mean |  __0.001063__ | 0.574969 |  5678.0 | 6136.0 |  5561.0 | 3937.0 | \n",
    "| Sum |  __0.003190__ | 1.724907 |  17034&nbsp;&nbsp;&nbsp; | 18408&nbsp;&nbsp;&nbsp; |  16683&nbsp;&nbsp;&nbsp; | 11811&nbsp;&nbsp;&nbsp; | \n",
    "\n",
    "### Experiment: synthetic rescaling lanczos\n",
    "\n",
    "| | fix | baseline|fix | baseline|fix | baseline |\n",
    "|----|----|----|----|----|----|----|\n",
    "|  |  error| | tentatives| | inliers| |\n",
    "| 0.2 |  __0.065521__ | 0.385480 |  55&nbsp;&nbsp;&nbsp; | 54&nbsp;&nbsp;&nbsp; |  48&nbsp;&nbsp;&nbsp; | 34&nbsp;&nbsp;&nbsp; | \n",
    "| 0.3 |  __0.130352__ | 0.318947 |  241&nbsp;&nbsp;&nbsp; | 222&nbsp;&nbsp;&nbsp; |  150&nbsp;&nbsp;&nbsp; | 105&nbsp;&nbsp;&nbsp; | \n",
    "| 0.4 |  __0.028823__ | 0.203742 |  611&nbsp;&nbsp;&nbsp; | 607&nbsp;&nbsp;&nbsp; |  528&nbsp;&nbsp;&nbsp; | 356&nbsp;&nbsp;&nbsp; | \n",
    "| 0.5 |  __0.035120__ | 0.196049 |  1173&nbsp;&nbsp;&nbsp; | 1159&nbsp;&nbsp;&nbsp; |  988&nbsp;&nbsp;&nbsp; | 647&nbsp;&nbsp;&nbsp; | \n",
    "| 0.6 |  __0.021906__ | 0.161793 |  1918&nbsp;&nbsp;&nbsp; | 1783&nbsp;&nbsp;&nbsp; |  1596&nbsp;&nbsp;&nbsp; | 990&nbsp;&nbsp;&nbsp; | \n",
    "| 0.7 |  __0.021768__ | 0.178918 |  2696&nbsp;&nbsp;&nbsp; | 2398&nbsp;&nbsp;&nbsp; |  2227&nbsp;&nbsp;&nbsp; | 1133&nbsp;&nbsp;&nbsp; | \n",
    "| 0.8 |  __0.023821__ | 0.161243 |  4019&nbsp;&nbsp;&nbsp; | 3750&nbsp;&nbsp;&nbsp; |  3435&nbsp;&nbsp;&nbsp; | 2074&nbsp;&nbsp;&nbsp; | \n",
    "| 0.9 |  __0.054305__ | 0.148664 |  5169&nbsp;&nbsp;&nbsp; | 4430&nbsp;&nbsp;&nbsp; |  3891&nbsp;&nbsp;&nbsp; | 2302&nbsp;&nbsp;&nbsp; | \n",
    "| Mean |  __0.047702__ | 0.219355 |  1985.2 | 1800.4 |  1607.9 | 955.1 | \n",
    "| Sum |  __0.381615__ | 1.754837 |  15882&nbsp;&nbsp;&nbsp; | 14403&nbsp;&nbsp;&nbsp; |  12863&nbsp;&nbsp;&nbsp; | 7641&nbsp;&nbsp;&nbsp; | \n",
    "\n",
    "### Experiment: bark\n",
    "\n",
    "| | fix | baseline|fix | baseline|fix | baseline |\n",
    "|----|----|----|----|----|----|----|\n",
    "|  |  error| | tentatives| | inliers| |\n",
    "| img2 |  __1.150261__ | 1.403015 |  322&nbsp;&nbsp;&nbsp; | 271&nbsp;&nbsp;&nbsp; |  88&nbsp;&nbsp;&nbsp; | 61&nbsp;&nbsp;&nbsp; | \n",
    "| img3 |  __1.733403__ | 2.194067 |  118&nbsp;&nbsp;&nbsp; | 119&nbsp;&nbsp;&nbsp; |  43&nbsp;&nbsp;&nbsp; | 34&nbsp;&nbsp;&nbsp; | \n",
    "| img4 |  __1.071319__ | 1.479366 |  318&nbsp;&nbsp;&nbsp; | 360&nbsp;&nbsp;&nbsp; |  216&nbsp;&nbsp;&nbsp; | 186&nbsp;&nbsp;&nbsp; | \n",
    "| img5 |  0.741988 | __0.734944__ |  222&nbsp;&nbsp;&nbsp; | 222&nbsp;&nbsp;&nbsp; |  155&nbsp;&nbsp;&nbsp; | 98&nbsp;&nbsp;&nbsp; | \n",
    "| img6 |  __1.001532__ | 1.316259 |  67&nbsp;&nbsp;&nbsp; | 92&nbsp;&nbsp;&nbsp; |  53&nbsp;&nbsp;&nbsp; | 45&nbsp;&nbsp;&nbsp; | \n",
    "| Mean |  __1.139701__ | 1.425530 |  209.4 | 212.8 |  111.0 | 84.8 | \n",
    "| Sum |  __5.698503__ | 7.127651 |  1047&nbsp;&nbsp;&nbsp; | 1064&nbsp;&nbsp;&nbsp; |  555&nbsp;&nbsp;&nbsp; | 424&nbsp;&nbsp;&nbsp; | \n",
    "\n",
    "### Experiment: boat\n",
    "\n",
    "| | fix | baseline|fix | baseline|fix | baseline |\n",
    "|----|----|----|----|----|----|----|\n",
    "|  |  error| | tentatives| | inliers| |\n",
    "| img2 |  __0.349585__ | 0.504713 |  1801&nbsp;&nbsp;&nbsp; | 1635&nbsp;&nbsp;&nbsp; |  609&nbsp;&nbsp;&nbsp; | 442&nbsp;&nbsp;&nbsp; | \n",
    "| img3 |  __0.265113__ | 0.387992 |  1120&nbsp;&nbsp;&nbsp; | 1152&nbsp;&nbsp;&nbsp; |  444&nbsp;&nbsp;&nbsp; | 349&nbsp;&nbsp;&nbsp; | \n",
    "| img4 |  __1.557137__ | 1.628371 |  358&nbsp;&nbsp;&nbsp; | 374&nbsp;&nbsp;&nbsp; |  111&nbsp;&nbsp;&nbsp; | 89&nbsp;&nbsp;&nbsp; | \n",
    "| img5 |  __1.025140__ | 1.472474 |  220&nbsp;&nbsp;&nbsp; | 194&nbsp;&nbsp;&nbsp; |  56&nbsp;&nbsp;&nbsp; | 42&nbsp;&nbsp;&nbsp; | \n",
    "| img6 |  __4.877171__ | 6.018193 |  50&nbsp;&nbsp;&nbsp; | 64&nbsp;&nbsp;&nbsp; |  15&nbsp;&nbsp;&nbsp; | 15&nbsp;&nbsp;&nbsp; | \n",
    "| Mean |  __1.614829__ | 2.002348 |  709.8 | 683.8 |  247.0 | 187.4 | \n",
    "| Sum |  __8.074146__ | 10.011742 |  3549&nbsp;&nbsp;&nbsp; | 3419&nbsp;&nbsp;&nbsp; |  1235&nbsp;&nbsp;&nbsp; | 937&nbsp;&nbsp;&nbsp; | \n",
    "\n",
    "### Experiment: bark rotated\n",
    "\n",
    "| | fix | baseline|fix | baseline|fix | baseline |\n",
    "|----|----|----|----|----|----|----|\n",
    "|  |  error| | tentatives| | inliers| |\n",
    "| img2 |  __1.391442__ | 1.495044 |  220&nbsp;&nbsp;&nbsp; | 252&nbsp;&nbsp;&nbsp; |  65&nbsp;&nbsp;&nbsp; | 47&nbsp;&nbsp;&nbsp; | \n",
    "| img3 |  1.788558 | __1.513396__ |  186&nbsp;&nbsp;&nbsp; | 143&nbsp;&nbsp;&nbsp; |  67&nbsp;&nbsp;&nbsp; | 34&nbsp;&nbsp;&nbsp; | \n",
    "| img4 |  0.970964 | __0.911779__ |  371&nbsp;&nbsp;&nbsp; | 374&nbsp;&nbsp;&nbsp; |  265&nbsp;&nbsp;&nbsp; | 192&nbsp;&nbsp;&nbsp; | \n",
    "| img5 |  __0.704347__ | 1.119244 |  163&nbsp;&nbsp;&nbsp; | 185&nbsp;&nbsp;&nbsp; |  110&nbsp;&nbsp;&nbsp; | 88&nbsp;&nbsp;&nbsp; | \n",
    "| img6 |  0.938488 | __0.924623__ |  79&nbsp;&nbsp;&nbsp; | 94&nbsp;&nbsp;&nbsp; |  53&nbsp;&nbsp;&nbsp; | 52&nbsp;&nbsp;&nbsp; | \n",
    "| Mean |  __1.158760__ | 1.192817 |  203.8 | 209.6 |  112.0 | 82.6 | \n",
    "| Sum |  __5.793800__ | 5.964086 |  1019&nbsp;&nbsp;&nbsp; | 1048&nbsp;&nbsp;&nbsp; |  560&nbsp;&nbsp;&nbsp; | 413&nbsp;&nbsp;&nbsp; | \n",
    "\n",
    "### Experiment: boat rotated\n",
    "\n",
    "| | fix | baseline|fix | baseline|fix | baseline |\n",
    "|----|----|----|----|----|----|----|\n",
    "|  |  error| | tentatives| | inliers| |\n",
    "| img2 |  __0.342644__ | 0.771798 |  852&nbsp;&nbsp;&nbsp; | 1366&nbsp;&nbsp;&nbsp; |  256&nbsp;&nbsp;&nbsp; | 377&nbsp;&nbsp;&nbsp; | \n",
    "| img3 |  __0.534489__ | 0.727351 |  695&nbsp;&nbsp;&nbsp; | 1038&nbsp;&nbsp;&nbsp; |  219&nbsp;&nbsp;&nbsp; | 330&nbsp;&nbsp;&nbsp; | \n",
    "| img4 |  1.871372 | __1.757756__ |  336&nbsp;&nbsp;&nbsp; | 391&nbsp;&nbsp;&nbsp; |  94&nbsp;&nbsp;&nbsp; | 86&nbsp;&nbsp;&nbsp; | \n",
    "| img5 |  __0.688338__ | 2.840331 |  164&nbsp;&nbsp;&nbsp; | 180&nbsp;&nbsp;&nbsp; |  44&nbsp;&nbsp;&nbsp; | 40&nbsp;&nbsp;&nbsp; | \n",
    "| img6 |  __3.761030__ | 5.521943 |  53&nbsp;&nbsp;&nbsp; | 63&nbsp;&nbsp;&nbsp; |  14&nbsp;&nbsp;&nbsp; | 18&nbsp;&nbsp;&nbsp; | \n",
    "| Mean |  __1.439575__ | 2.323836 |  420.0 | 607.6 |  125.4 | 170.2 | \n",
    "| Sum |  __7.197874__ | 11.619178 |  2100&nbsp;&nbsp;&nbsp; | 3038&nbsp;&nbsp;&nbsp; |  627&nbsp;&nbsp;&nbsp; | 851&nbsp;&nbsp;&nbsp; | \n",
    "\n"
   ]
  },
  {
   "cell_type": "code",
   "execution_count": 1,
   "id": "86dc90c7",
   "metadata": {
    "pycharm": {
     "name": "#%%\n"
    }
   },
   "outputs": [
    {
     "name": "stdout",
     "output_type": "stream",
     "text": [
      "Exact scale adjustments:\n",
      "scale: 0.2 => 0.2, dimension: 765x510 => 153x102\n",
      "scale: 0.3 => 0.2980392156862745, dimension: 765x510 => 228x152\n",
      "scale: 0.4 => 0.4, dimension: 765x510 => 306x204\n",
      "scale: 0.5 => 0.5019607843137255, dimension: 765x510 => 384x256\n",
      "scale: 0.6 => 0.6, dimension: 765x510 => 459x306\n",
      "scale: 0.7 => 0.6980392156862745, dimension: 765x510 => 534x356\n",
      "scale: 0.8 => 0.8, dimension: 765x510 => 612x408\n",
      "scale: 0.9 => 0.9019607843137255, dimension: 765x510 => 690x460\n"
     ]
    }
   ],
   "source": [
    "import cv2 as cv\n",
    "from tqdm.notebook import tqdm\n",
    "\n",
    "from dataset_utils import Hs_imgs_for_boat, Hs_imgs_for_bark, Hs_imgs_for_rotation, Hs_imgs_for_scaling\n",
    "from opencv_utils import get_tentatives, get_visible_part_mean_absolute_reprojection_error\n",
    "from jupyter_utils import JupyterPrinter\n",
    "\n",
    "\n",
    "def homography_estimation_experiment(descriptor, Hs_gt, imgs, e_name, instance_names, p,\n",
    "                                     mean=True, sum=False):\n",
    "    p.print()\n",
    "    p.print(f\"running experiment: {e_name}\")\n",
    "    p.add_experiment(e_name)\n",
    "    p.print()\n",
    "\n",
    "    kpts_0, desc_0 = descriptor.detectAndCompute(imgs[0], mask=None)\n",
    "\n",
    "    p.print(f\"reference img keypoints: {len(kpts_0)}\")\n",
    "    p.add_special_key(\"reference img keypoints\", str(len(kpts_0)))\n",
    "    p.print()\n",
    "    p.print(f\"{'':>8}{'error':>12}{'keypoints':>12}{'tentatives':>12}{'inliers':>10}\")\n",
    "\n",
    "    sum_reproj_err = 0.0\n",
    "    sum_keypoints = 0\n",
    "    sum_tent_count = 0\n",
    "    sum_in_count = 0\n",
    "\n",
    "    for other_i in tqdm(range(1, len(imgs)), leave=False):\n",
    "        kpts_other, desc_other = descriptor.detectAndCompute(imgs[other_i], mask=None)\n",
    "        kpts_n = len(kpts_other)\n",
    "\n",
    "        src_pts, dst_pts = get_tentatives(kpts_0, desc_0, kpts_other, desc_other, ratio_threshold=0.8)\n",
    "        if len(src_pts) < 4:\n",
    "            print(f\"WARNING: less than 4 tentatives: {len(src_pts)}\")\n",
    "            p.print(f\"{instance_names[other_i - 1]:>8}{'N/A':>12}{'N/A':>12}{'N/A':>12}{'N/A':>10}\")\n",
    "            p.add_data([instance_names[other_i - 1], 'N/A', 'N/A', 'N/A', 'N/A'])\n",
    "            continue\n",
    "\n",
    "        H_est, inlier_mask = cv.findHomography(src_pts, dst_pts,\n",
    "                                               cv.RANSAC,\n",
    "                                               maxIters=100000,\n",
    "                                               ransacReprojThreshold=0.5,\n",
    "                                               confidence=0.9999)\n",
    "        H_gt = Hs_gt[other_i - 1]\n",
    "\n",
    "        reproj_err = get_visible_part_mean_absolute_reprojection_error(imgs[0], imgs[other_i], H_gt, H_est)\n",
    "        tent_count = len(src_pts)\n",
    "        in_count = int(inlier_mask.sum())\n",
    "\n",
    "        p.print(f\"{instance_names[other_i - 1]:>8}{reproj_err:>12.6f}{kpts_n:>12}{tent_count:>12}{in_count:>10}\")\n",
    "        p.add_data([instance_names[other_i - 1], f\"{reproj_err:.6f}\", f\"{kpts_n}\", f\"{tent_count}\", f\"{in_count}\"])\n",
    "        sum_reproj_err += reproj_err\n",
    "        sum_keypoints += kpts_n\n",
    "        sum_tent_count += tent_count\n",
    "        sum_in_count += in_count\n",
    "\n",
    "    l = len(imgs) - 1\n",
    "    if mean:\n",
    "        p.print(f\"{'Mean':>8}{sum_reproj_err / l:>12.6f}{sum_keypoints / l:>14.1f}{sum_tent_count / l:>12.1f}{sum_in_count / l:>10.1f}\")\n",
    "        p.add_data([\"Mean\", f\"{sum_reproj_err / l:.6f}\", f\"{sum_keypoints / l:.1f}\", f\"{sum_tent_count / l:.1f}\", f\"{sum_in_count / l:.1f}\"])\n",
    "    if sum:\n",
    "        p.print(f\"{'Sum':>8}{sum_reproj_err:>12.6f}{sum_keypoints:>12}{sum_tent_count:>12}{sum_in_count:>10}\")\n",
    "        p.add_data([\"Sum\", f\"{sum_reproj_err:.6f}\", f\"{sum_keypoints}\", f\"{sum_tent_count}\", f\"{sum_in_count}\"])\n",
    "\n",
    "\n",
    "Hs_boat, imgs_boat = Hs_imgs_for_boat()\n",
    "Hs_boat_rot, imgs_boat_rot = Hs_imgs_for_boat(rotate_query_imgs=True)\n",
    "Hs_bark, imgs_bark = Hs_imgs_for_bark()\n",
    "Hs_bark_rot, imgs_bark_rot = Hs_imgs_for_bark(rotate_query_imgs=True)\n",
    "Hs_rot, imgs_rot = Hs_imgs_for_rotation()\n",
    "print(\"Exact scale adjustments:\")\n",
    "Hs_scaling, imgs_scaling, scales = Hs_imgs_for_scaling()\n",
    "\n",
    "\n",
    "def run_on_descriptor(descriptor, descriptor_name, print_output=True, mean=True, sum=True):\n",
    "    p = JupyterPrinter(print_output, descriptor_name)\n",
    "    p.print()\n",
    "    p.print(f\"descriptor: {descriptor_name}:\")\n",
    "    p.print()\n",
    "    homography_estimation_experiment(descriptor, Hs_rot, imgs_rot, \"synthetic pi rotation\", [\"90°\", \"180°\", \"270°\"], p, mean, sum)\n",
    "    homography_estimation_experiment(descriptor, Hs_scaling, imgs_scaling, \"synthetic rescaling lanczos\", [f\"{s}\" for s in scales], p, mean, sum)\n",
    "    homography_estimation_experiment(descriptor, Hs_bark, imgs_bark, \"bark\", [f\"img{i}\" for i in range(2, 7)], p, mean, sum)\n",
    "    homography_estimation_experiment(descriptor, Hs_boat, imgs_boat, \"boat\", [f\"img{i}\" for i in range(2, 7)], p, mean, sum)\n",
    "    homography_estimation_experiment(descriptor, Hs_bark_rot, imgs_bark_rot, \"bark rotated\", [f\"img{i}\" for i in range(2, 7)], p, mean, sum)\n",
    "    homography_estimation_experiment(descriptor, Hs_boat_rot, imgs_boat_rot, \"boat rotated\", [f\"img{i}\" for i in range(2, 7)], p, mean, sum)\n",
    "    return p"
   ]
  },
  {
   "cell_type": "code",
   "execution_count": 2,
   "id": "338e1974",
   "metadata": {
    "pycharm": {
     "name": "#%%\n"
    },
    "scrolled": false
   },
   "outputs": [
    {
     "name": "stdout",
     "output_type": "stream",
     "text": [
      "\n",
      "descriptor: fix:\n",
      "\n",
      "\n",
      "running experiment: synthetic pi rotation\n",
      "\n",
      "reference img keypoints: 8000\n",
      "\n",
      "               error   keypoints  tentatives   inliers\n"
     ]
    },
    {
     "data": {
      "application/vnd.jupyter.widget-view+json": {
       "model_id": "",
       "version_major": 2,
       "version_minor": 0
      },
      "text/plain": [
       "  0%|          | 0/3 [00:00<?, ?it/s]"
      ]
     },
     "metadata": {},
     "output_type": "display_data"
    },
    {
     "name": "stdout",
     "output_type": "stream",
     "text": [
      "     90°    0.000284        8000        6640      6611\n",
      "    180°    0.001708        8000        4332      4159\n",
      "    270°    0.001197        8000        6062      5913\n",
      "    Mean    0.001063        8000.0      5678.0    5561.0\n",
      "     Sum    0.003190       24000       17034     16683\n",
      "\n",
      "running experiment: synthetic rescaling lanczos\n",
      "\n",
      "reference img keypoints: 8000\n",
      "\n",
      "               error   keypoints  tentatives   inliers\n"
     ]
    },
    {
     "data": {
      "application/vnd.jupyter.widget-view+json": {
       "model_id": "",
       "version_major": 2,
       "version_minor": 0
      },
      "text/plain": [
       "  0%|          | 0/8 [00:00<?, ?it/s]"
      ]
     },
     "metadata": {},
     "output_type": "display_data"
    },
    {
     "name": "stdout",
     "output_type": "stream",
     "text": [
      "     0.2    0.065521        8000          55        48\n",
      "     0.3    0.130352        8000         241       150\n",
      "     0.4    0.028823        8000         611       528\n",
      "     0.5    0.035120        8000        1173       988\n",
      "     0.6    0.021906        8000        1918      1596\n",
      "     0.7    0.021768        8000        2696      2227\n",
      "     0.8    0.023821        8000        4019      3435\n",
      "     0.9    0.054305        8000        5169      3891\n",
      "    Mean    0.047702        8000.0      1985.2    1607.9\n",
      "     Sum    0.381615       64000       15882     12863\n",
      "\n",
      "running experiment: bark\n",
      "\n",
      "reference img keypoints: 8000\n",
      "\n",
      "               error   keypoints  tentatives   inliers\n"
     ]
    },
    {
     "data": {
      "application/vnd.jupyter.widget-view+json": {
       "model_id": "",
       "version_major": 2,
       "version_minor": 0
      },
      "text/plain": [
       "  0%|          | 0/5 [00:00<?, ?it/s]"
      ]
     },
     "metadata": {},
     "output_type": "display_data"
    },
    {
     "name": "stdout",
     "output_type": "stream",
     "text": [
      "    img2    1.150261        8000         322        88\n",
      "    img3    1.733403        8000         118        43\n",
      "    img4    1.071319        8000         318       216\n",
      "    img5    0.741988        8000         222       155\n",
      "    img6    1.001532        8000          67        53\n",
      "    Mean    1.139701        8000.0       209.4     111.0\n",
      "     Sum    5.698503       40000        1047       555\n",
      "\n",
      "running experiment: boat\n",
      "\n",
      "reference img keypoints: 8000\n",
      "\n",
      "               error   keypoints  tentatives   inliers\n"
     ]
    },
    {
     "data": {
      "application/vnd.jupyter.widget-view+json": {
       "model_id": "",
       "version_major": 2,
       "version_minor": 0
      },
      "text/plain": [
       "  0%|          | 0/5 [00:00<?, ?it/s]"
      ]
     },
     "metadata": {},
     "output_type": "display_data"
    },
    {
     "name": "stdout",
     "output_type": "stream",
     "text": [
      "    img2    0.349585        8000        1801       609\n",
      "    img3    0.265113        8000        1120       444\n",
      "    img4    1.557137        8000         358       111\n",
      "    img5    1.025140        8000         220        56\n",
      "    img6    4.877171        8000          50        15\n",
      "    Mean    1.614829        8000.0       709.8     247.0\n",
      "     Sum    8.074146       40000        3549      1235\n",
      "\n",
      "running experiment: bark rotated\n",
      "\n",
      "reference img keypoints: 8000\n",
      "\n",
      "               error   keypoints  tentatives   inliers\n"
     ]
    },
    {
     "data": {
      "application/vnd.jupyter.widget-view+json": {
       "model_id": "",
       "version_major": 2,
       "version_minor": 0
      },
      "text/plain": [
       "  0%|          | 0/5 [00:00<?, ?it/s]"
      ]
     },
     "metadata": {},
     "output_type": "display_data"
    },
    {
     "name": "stdout",
     "output_type": "stream",
     "text": [
      "    img2    1.391442        8000         220        65\n",
      "    img3    1.788558        8000         186        67\n",
      "    img4    0.970964        8000         371       265\n",
      "    img5    0.704347        8000         163       110\n",
      "    img6    0.938488        8000          79        53\n",
      "    Mean    1.158760        8000.0       203.8     112.0\n",
      "     Sum    5.793800       40000        1019       560\n",
      "\n",
      "running experiment: boat rotated\n",
      "\n",
      "reference img keypoints: 8000\n",
      "\n",
      "               error   keypoints  tentatives   inliers\n"
     ]
    },
    {
     "data": {
      "application/vnd.jupyter.widget-view+json": {
       "model_id": "",
       "version_major": 2,
       "version_minor": 0
      },
      "text/plain": [
       "  0%|          | 0/5 [00:00<?, ?it/s]"
      ]
     },
     "metadata": {},
     "output_type": "display_data"
    },
    {
     "name": "stdout",
     "output_type": "stream",
     "text": [
      "    img2    0.342644        8000         852       256\n",
      "    img3    0.534489        8000         695       219\n",
      "    img4    1.871372        8000         336        94\n",
      "    img5    0.688338        8000         164        44\n",
      "    img6    3.761030        8000          53        14\n",
      "    Mean    1.439575        8000.0       420.0     125.4\n",
      "     Sum    7.197874       40000        2100       627\n",
      "\n",
      "descriptor: baseline:\n",
      "\n",
      "\n",
      "running experiment: synthetic pi rotation\n",
      "\n",
      "reference img keypoints: 8000\n",
      "\n",
      "               error   keypoints  tentatives   inliers\n"
     ]
    },
    {
     "data": {
      "application/vnd.jupyter.widget-view+json": {
       "model_id": "",
       "version_major": 2,
       "version_minor": 0
      },
      "text/plain": [
       "  0%|          | 0/3 [00:00<?, ?it/s]"
      ]
     },
     "metadata": {},
     "output_type": "display_data"
    },
    {
     "name": "stdout",
     "output_type": "stream",
     "text": [
      "     90°    0.490694        8000        6331      3788\n",
      "    180°    0.723630        8000        5908      4158\n",
      "    270°    0.510583        8000        6169      3865\n",
      "    Mean    0.574969        8000.0      6136.0    3937.0\n",
      "     Sum    1.724907       24000       18408     11811\n",
      "\n",
      "running experiment: synthetic rescaling lanczos\n",
      "\n",
      "reference img keypoints: 8000\n",
      "\n",
      "               error   keypoints  tentatives   inliers\n"
     ]
    },
    {
     "data": {
      "application/vnd.jupyter.widget-view+json": {
       "model_id": "",
       "version_major": 2,
       "version_minor": 0
      },
      "text/plain": [
       "  0%|          | 0/8 [00:00<?, ?it/s]"
      ]
     },
     "metadata": {},
     "output_type": "display_data"
    },
    {
     "name": "stdout",
     "output_type": "stream",
     "text": [
      "     0.2    0.385480        8000          54        34\n",
      "     0.3    0.318947        8000         222       105\n",
      "     0.4    0.203742        8000         607       356\n",
      "     0.5    0.196049        8000        1159       647\n",
      "     0.6    0.161793        8000        1783       990\n",
      "     0.7    0.178918        8000        2398      1133\n",
      "     0.8    0.161243        8000        3750      2074\n",
      "     0.9    0.148664        8000        4430      2302\n",
      "    Mean    0.219355        8000.0      1800.4     955.1\n",
      "     Sum    1.754837       64000       14403      7641\n",
      "\n",
      "running experiment: bark\n",
      "\n",
      "reference img keypoints: 8000\n",
      "\n",
      "               error   keypoints  tentatives   inliers\n"
     ]
    },
    {
     "data": {
      "application/vnd.jupyter.widget-view+json": {
       "model_id": "",
       "version_major": 2,
       "version_minor": 0
      },
      "text/plain": [
       "  0%|          | 0/5 [00:00<?, ?it/s]"
      ]
     },
     "metadata": {},
     "output_type": "display_data"
    },
    {
     "name": "stdout",
     "output_type": "stream",
     "text": [
      "    img2    1.403015        8000         271        61\n",
      "    img3    2.194067        8000         119        34\n",
      "    img4    1.479366        8000         360       186\n",
      "    img5    0.734944        8000         222        98\n",
      "    img6    1.316259        8000          92        45\n",
      "    Mean    1.425530        8000.0       212.8      84.8\n",
      "     Sum    7.127651       40000        1064       424\n",
      "\n",
      "running experiment: boat\n",
      "\n",
      "reference img keypoints: 8000\n",
      "\n",
      "               error   keypoints  tentatives   inliers\n"
     ]
    },
    {
     "data": {
      "application/vnd.jupyter.widget-view+json": {
       "model_id": "",
       "version_major": 2,
       "version_minor": 0
      },
      "text/plain": [
       "  0%|          | 0/5 [00:00<?, ?it/s]"
      ]
     },
     "metadata": {},
     "output_type": "display_data"
    },
    {
     "name": "stdout",
     "output_type": "stream",
     "text": [
      "    img2    0.504713        8000        1635       442\n",
      "    img3    0.387992        8000        1152       349\n",
      "    img4    1.628371        8000         374        89\n",
      "    img5    1.472474        8000         194        42\n",
      "    img6    6.018193        8000          64        15\n",
      "    Mean    2.002348        8000.0       683.8     187.4\n",
      "     Sum   10.011742       40000        3419       937\n",
      "\n",
      "running experiment: bark rotated\n",
      "\n",
      "reference img keypoints: 8000\n",
      "\n",
      "               error   keypoints  tentatives   inliers\n"
     ]
    },
    {
     "data": {
      "application/vnd.jupyter.widget-view+json": {
       "model_id": "",
       "version_major": 2,
       "version_minor": 0
      },
      "text/plain": [
       "  0%|          | 0/5 [00:00<?, ?it/s]"
      ]
     },
     "metadata": {},
     "output_type": "display_data"
    },
    {
     "name": "stdout",
     "output_type": "stream",
     "text": [
      "    img2    1.495044        8000         252        47\n",
      "    img3    1.513396        8000         143        34\n",
      "    img4    0.911779        8000         374       192\n",
      "    img5    1.119244        8000         185        88\n",
      "    img6    0.924623        8000          94        52\n",
      "    Mean    1.192817        8000.0       209.6      82.6\n",
      "     Sum    5.964086       40000        1048       413\n",
      "\n",
      "running experiment: boat rotated\n",
      "\n",
      "reference img keypoints: 8000\n",
      "\n",
      "               error   keypoints  tentatives   inliers\n"
     ]
    },
    {
     "data": {
      "application/vnd.jupyter.widget-view+json": {
       "model_id": "",
       "version_major": 2,
       "version_minor": 0
      },
      "text/plain": [
       "  0%|          | 0/5 [00:00<?, ?it/s]"
      ]
     },
     "metadata": {},
     "output_type": "display_data"
    },
    {
     "name": "stdout",
     "output_type": "stream",
     "text": [
      "    img2    0.771798        8000        1366       377\n",
      "    img3    0.727351        8000        1038       330\n",
      "    img4    1.757756        8000         391        86\n",
      "    img5    2.840331        8000         180        40\n",
      "    img6    5.521943        8000          63        18\n",
      "    Mean    2.323836        8000.0       607.6     170.2\n",
      "     Sum   11.619178       40000        3038       851\n"
     ]
    },
    {
     "data": {
      "text/plain": [
       "<jupyter_utils.JupyterPrinter at 0x14e3e14c0>"
      ]
     },
     "execution_count": 2,
     "metadata": {},
     "output_type": "execute_result"
    }
   ],
   "source": [
    "from kornia_utils import Version, get_sift_descriptor\n",
    "\n",
    "run_on_descriptor(descriptor=get_sift_descriptor(version=Version.FIXED), descriptor_name=\"fix\")\n",
    "run_on_descriptor(descriptor=get_sift_descriptor(version=Version.NOT_FIXED), descriptor_name=\"baseline\")"
   ]
  }
 ],
 "metadata": {
  "kernelspec": {
   "display_name": "Python 3 (ipykernel)",
   "language": "python",
   "name": "python3"
  },
  "language_info": {
   "codemirror_mode": {
    "name": "ipython",
    "version": 3
   },
   "file_extension": ".py",
   "mimetype": "text/x-python",
   "name": "python",
   "nbconvert_exporter": "python",
   "pygments_lexer": "ipython3",
   "version": "3.10.6"
  }
 },
 "nbformat": 4,
 "nbformat_minor": 5
}