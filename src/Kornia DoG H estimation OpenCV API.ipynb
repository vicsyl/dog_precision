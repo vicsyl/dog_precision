{
 "cells": [
  {
   "cell_type": "markdown",
   "id": "276e887a",
   "metadata": {
    "pycharm": {
     "name": "#%% md\n"
    }
   },
   "source": [
    "# Homography estimation for Kornia DoG implementation\n",
    "\n",
    "## Performed on 6 datasets\n",
    "\n",
    "* pure rotations of the first image from \"bark\" by multiples of 90 degrees\n",
    "* pure scaling of the first image from \"bark\" by multiples of 0.1 adjusted so that the aspect ratio is preserved using Lanczos resampling\n",
    "* boat and bark datasets from https://www.robots.ox.ac.uk/~vgg/data/affine/\n",
    "* boat and bark datasets with the query images rotated by 180 degrees\n",
    "* using SIFT descriptor for matching\n",
    "* see https://github.com/kornia/kornia/pull/2105/\n",
    "\n",
    "## Comparison of Kornia DoG baseline and fixed version\n",
    "\n",
    "### Experiment: synthetic pi rotation\n",
    "\n",
    "* keypoints\n",
    "\n",
    "|fix | not fixed|\n",
    "|---|--|\n",
    "|8000|8000|\n",
    "\n",
    "* Homography estimation\n",
    "| | fix | not fixed|fix | not fixed|fix | not fixed|fix | not fixed |\n",
    "|----|----|----|----|----|----|----|----|----|\n",
    "|  |  error| | keypoints| | tentatives| | inliers| |\n",
    "| 90° |  __0.000287__ | 0.460308 |  8000&nbsp;&nbsp;&nbsp; | 8000&nbsp;&nbsp;&nbsp; |  6482&nbsp;&nbsp;&nbsp; | 6228&nbsp;&nbsp;&nbsp; |  6453&nbsp;&nbsp;&nbsp; | 4091&nbsp;&nbsp;&nbsp; | \n",
    "| 180° |  __0.001752__ | 0.678817 |  8000&nbsp;&nbsp;&nbsp; | 8000&nbsp;&nbsp;&nbsp; |  4020&nbsp;&nbsp;&nbsp; | 5721&nbsp;&nbsp;&nbsp; |  3845&nbsp;&nbsp;&nbsp; | 3734&nbsp;&nbsp;&nbsp; | \n",
    "| 270° |  __0.001265__ | 0.542212 |  8000&nbsp;&nbsp;&nbsp; | 8000&nbsp;&nbsp;&nbsp; |  5705&nbsp;&nbsp;&nbsp; | 6035&nbsp;&nbsp;&nbsp; |  5554&nbsp;&nbsp;&nbsp; | 3892&nbsp;&nbsp;&nbsp; | \n",
    "| Mean |  __0.001101__ | 0.560446 |  8000.0 | 8000.0 |  5402.3 | 5994.7 |  5284.0 | 3905.7 | \n",
    "| Sum |  __0.003304__ | 1.681338 |  24000&nbsp;&nbsp;&nbsp; | 24000&nbsp;&nbsp;&nbsp; |  16207&nbsp;&nbsp;&nbsp; | 17984&nbsp;&nbsp;&nbsp; |  15852&nbsp;&nbsp;&nbsp; | 11717&nbsp;&nbsp;&nbsp; | \n",
    "\n",
    "### Experiment: synthetic rescaling lanczos\n",
    "\n",
    "* keypoints\n",
    "\n",
    "|fix | not fixed|\n",
    "|---|--|\n",
    "|8000|8000|\n",
    "\n",
    "* Homography estimation\n",
    "| | fix | not fixed|fix | not fixed|fix | not fixed|fix | not fixed |\n",
    "|----|----|----|----|----|----|----|----|----|\n",
    "|  |  error| | keypoints| | tentatives| | inliers| |\n",
    "| 0.2 |  __0.064429__ | 0.387941 |  8000&nbsp;&nbsp;&nbsp; | 8000&nbsp;&nbsp;&nbsp; |  68&nbsp;&nbsp;&nbsp; | 66&nbsp;&nbsp;&nbsp; |  56&nbsp;&nbsp;&nbsp; | 39&nbsp;&nbsp;&nbsp; | \n",
    "| 0.3 |  __0.124450__ | 0.340491 |  8000&nbsp;&nbsp;&nbsp; | 8000&nbsp;&nbsp;&nbsp; |  294&nbsp;&nbsp;&nbsp; | 275&nbsp;&nbsp;&nbsp; |  184&nbsp;&nbsp;&nbsp; | 132&nbsp;&nbsp;&nbsp; | \n",
    "| 0.4 |  __0.030089__ | 0.287376 |  8000&nbsp;&nbsp;&nbsp; | 8000&nbsp;&nbsp;&nbsp; |  686&nbsp;&nbsp;&nbsp; | 685&nbsp;&nbsp;&nbsp; |  593&nbsp;&nbsp;&nbsp; | 404&nbsp;&nbsp;&nbsp; | \n",
    "| 0.5 |  __0.026365__ | 0.332963 |  8000&nbsp;&nbsp;&nbsp; | 8000&nbsp;&nbsp;&nbsp; |  1248&nbsp;&nbsp;&nbsp; | 1216&nbsp;&nbsp;&nbsp; |  1111&nbsp;&nbsp;&nbsp; | 610&nbsp;&nbsp;&nbsp; | \n",
    "| 0.6 |  __0.017005__ | 0.139853 |  8000&nbsp;&nbsp;&nbsp; | 8000&nbsp;&nbsp;&nbsp; |  1957&nbsp;&nbsp;&nbsp; | 1848&nbsp;&nbsp;&nbsp; |  1633&nbsp;&nbsp;&nbsp; | 899&nbsp;&nbsp;&nbsp; | \n",
    "| 0.7 |  __0.043486__ | 0.223965 |  8000&nbsp;&nbsp;&nbsp; | 8000&nbsp;&nbsp;&nbsp; |  2707&nbsp;&nbsp;&nbsp; | 2444&nbsp;&nbsp;&nbsp; |  2078&nbsp;&nbsp;&nbsp; | 1186&nbsp;&nbsp;&nbsp; | \n",
    "| 0.8 |  __0.013967__ | 0.167404 |  8000&nbsp;&nbsp;&nbsp; | 8000&nbsp;&nbsp;&nbsp; |  4012&nbsp;&nbsp;&nbsp; | 3728&nbsp;&nbsp;&nbsp; |  3607&nbsp;&nbsp;&nbsp; | 2041&nbsp;&nbsp;&nbsp; | \n",
    "| 0.9 |  __0.026939__ | 0.171646 |  8000&nbsp;&nbsp;&nbsp; | 8000&nbsp;&nbsp;&nbsp; |  5133&nbsp;&nbsp;&nbsp; | 4379&nbsp;&nbsp;&nbsp; |  4179&nbsp;&nbsp;&nbsp; | 2216&nbsp;&nbsp;&nbsp; | \n",
    "| Mean |  __0.043341__ | 0.256455 |  8000.0 | 8000.0 |  2013.1 | 1830.1 |  1680.1 | 940.9 | \n",
    "| Sum |  __0.346730__ | 2.051640 |  64000&nbsp;&nbsp;&nbsp; | 64000&nbsp;&nbsp;&nbsp; |  16105&nbsp;&nbsp;&nbsp; | 14641&nbsp;&nbsp;&nbsp; |  13441&nbsp;&nbsp;&nbsp; | 7527&nbsp;&nbsp;&nbsp; | \n",
    "\n",
    "### Experiment: bark\n",
    "\n",
    "* keypoints\n",
    "\n",
    "|fix | not fixed|\n",
    "|---|--|\n",
    "|8000|8000|\n",
    "\n",
    "* Homography estimation\n",
    "| | fix | not fixed|fix | not fixed|fix | not fixed|fix | not fixed |\n",
    "|----|----|----|----|----|----|----|----|----|\n",
    "|  |  error| | keypoints| | tentatives| | inliers| |\n",
    "| img2 |  __1.241678__ | 1.323236 |  8000&nbsp;&nbsp;&nbsp; | 8000&nbsp;&nbsp;&nbsp; |  385&nbsp;&nbsp;&nbsp; | 347&nbsp;&nbsp;&nbsp; |  110&nbsp;&nbsp;&nbsp; | 75&nbsp;&nbsp;&nbsp; | \n",
    "| img3 |  __1.809730__ | 2.213339 |  8000&nbsp;&nbsp;&nbsp; | 8000&nbsp;&nbsp;&nbsp; |  178&nbsp;&nbsp;&nbsp; | 178&nbsp;&nbsp;&nbsp; |  66&nbsp;&nbsp;&nbsp; | 54&nbsp;&nbsp;&nbsp; | \n",
    "| img4 |  __0.999623__ | 1.240114 |  8000&nbsp;&nbsp;&nbsp; | 8000&nbsp;&nbsp;&nbsp; |  424&nbsp;&nbsp;&nbsp; | 478&nbsp;&nbsp;&nbsp; |  331&nbsp;&nbsp;&nbsp; | 227&nbsp;&nbsp;&nbsp; | \n",
    "| img5 |  __0.698361__ | 0.756133 |  8000&nbsp;&nbsp;&nbsp; | 8000&nbsp;&nbsp;&nbsp; |  308&nbsp;&nbsp;&nbsp; | 310&nbsp;&nbsp;&nbsp; |  236&nbsp;&nbsp;&nbsp; | 142&nbsp;&nbsp;&nbsp; | \n",
    "| img6 |  __0.978995__ | 1.277785 |  8000&nbsp;&nbsp;&nbsp; | 8000&nbsp;&nbsp;&nbsp; |  96&nbsp;&nbsp;&nbsp; | 142&nbsp;&nbsp;&nbsp; |  73&nbsp;&nbsp;&nbsp; | 70&nbsp;&nbsp;&nbsp; | \n",
    "| Mean |  __1.145677__ | 1.362122 |  8000.0 | 8000.0 |  278.2 | 291.0 |  163.2 | 113.6 | \n",
    "| Sum |  __5.728387__ | 6.810608 |  40000&nbsp;&nbsp;&nbsp; | 40000&nbsp;&nbsp;&nbsp; |  1391&nbsp;&nbsp;&nbsp; | 1455&nbsp;&nbsp;&nbsp; |  816&nbsp;&nbsp;&nbsp; | 568&nbsp;&nbsp;&nbsp; | \n",
    "\n",
    "### Experiment: boat\n",
    "\n",
    "* keypoints\n",
    "\n",
    "|fix | not fixed|\n",
    "|---|--|\n",
    "|8000|8000|\n",
    "\n",
    "* Homography estimation\n",
    "| | fix | not fixed|fix | not fixed|fix | not fixed|fix | not fixed |\n",
    "|----|----|----|----|----|----|----|----|----|\n",
    "|  |  error| | keypoints| | tentatives| | inliers| |\n",
    "| img2 |  __0.424484__ | 0.442544 |  8000&nbsp;&nbsp;&nbsp; | 8000&nbsp;&nbsp;&nbsp; |  1806&nbsp;&nbsp;&nbsp; | 1658&nbsp;&nbsp;&nbsp; |  588&nbsp;&nbsp;&nbsp; | 423&nbsp;&nbsp;&nbsp; | \n",
    "| img3 |  __0.491394__ | 0.495133 |  8000&nbsp;&nbsp;&nbsp; | 8000&nbsp;&nbsp;&nbsp; |  1165&nbsp;&nbsp;&nbsp; | 1192&nbsp;&nbsp;&nbsp; |  406&nbsp;&nbsp;&nbsp; | 329&nbsp;&nbsp;&nbsp; | \n",
    "| img4 |  1.919574 | __0.345025__ |  8000&nbsp;&nbsp;&nbsp; | 8000&nbsp;&nbsp;&nbsp; |  405&nbsp;&nbsp;&nbsp; | 435&nbsp;&nbsp;&nbsp; |  117&nbsp;&nbsp;&nbsp; | 95&nbsp;&nbsp;&nbsp; | \n",
    "| img5 |  __0.985122__ | 3.183073 |  8000&nbsp;&nbsp;&nbsp; | 8000&nbsp;&nbsp;&nbsp; |  285&nbsp;&nbsp;&nbsp; | 257&nbsp;&nbsp;&nbsp; |  65&nbsp;&nbsp;&nbsp; | 44&nbsp;&nbsp;&nbsp; | \n",
    "| img6 |  6.004761 | __5.448262__ |  8000&nbsp;&nbsp;&nbsp; | 8000&nbsp;&nbsp;&nbsp; |  93&nbsp;&nbsp;&nbsp; | 100&nbsp;&nbsp;&nbsp; |  21&nbsp;&nbsp;&nbsp; | 17&nbsp;&nbsp;&nbsp; | \n",
    "| Mean |  __1.965067__ | 1.982807 |  8000.0 | 8000.0 |  750.8 | 728.4 |  239.4 | 181.6 | \n",
    "| Sum |  __9.825335__ | 9.914037 |  40000&nbsp;&nbsp;&nbsp; | 40000&nbsp;&nbsp;&nbsp; |  3754&nbsp;&nbsp;&nbsp; | 3642&nbsp;&nbsp;&nbsp; |  1197&nbsp;&nbsp;&nbsp; | 908&nbsp;&nbsp;&nbsp; | \n",
    "\n",
    "### Experiment: bark rotated\n",
    "\n",
    "* keypoints\n",
    "\n",
    "|fix | not fixed|\n",
    "|---|--|\n",
    "|8000|8000|\n",
    "\n",
    "* Homography estimation\n",
    "| | fix | not fixed|fix | not fixed|fix | not fixed|fix | not fixed |\n",
    "|----|----|----|----|----|----|----|----|----|\n",
    "|  |  error| | keypoints| | tentatives| | inliers| |\n",
    "| img2 |  __1.144270__ | 1.589799 |  8000&nbsp;&nbsp;&nbsp; | 8000&nbsp;&nbsp;&nbsp; |  260&nbsp;&nbsp;&nbsp; | 318&nbsp;&nbsp;&nbsp; |  81&nbsp;&nbsp;&nbsp; | 65&nbsp;&nbsp;&nbsp; | \n",
    "| img3 |  1.662890 | __1.339599__ |  8000&nbsp;&nbsp;&nbsp; | 8000&nbsp;&nbsp;&nbsp; |  261&nbsp;&nbsp;&nbsp; | 206&nbsp;&nbsp;&nbsp; |  109&nbsp;&nbsp;&nbsp; | 59&nbsp;&nbsp;&nbsp; | \n",
    "| img4 |  __0.954405__ | 1.000277 |  8000&nbsp;&nbsp;&nbsp; | 8000&nbsp;&nbsp;&nbsp; |  467&nbsp;&nbsp;&nbsp; | 470&nbsp;&nbsp;&nbsp; |  382&nbsp;&nbsp;&nbsp; | 262&nbsp;&nbsp;&nbsp; | \n",
    "| img5 |  __0.731366__ | 1.110482 |  8000&nbsp;&nbsp;&nbsp; | 8000&nbsp;&nbsp;&nbsp; |  222&nbsp;&nbsp;&nbsp; | 267&nbsp;&nbsp;&nbsp; |  153&nbsp;&nbsp;&nbsp; | 118&nbsp;&nbsp;&nbsp; | \n",
    "| img6 |  0.992707 | __0.869163__ |  8000&nbsp;&nbsp;&nbsp; | 8000&nbsp;&nbsp;&nbsp; |  123&nbsp;&nbsp;&nbsp; | 143&nbsp;&nbsp;&nbsp; |  95&nbsp;&nbsp;&nbsp; | 79&nbsp;&nbsp;&nbsp; | \n",
    "| Mean |  __1.097128__ | 1.181864 |  8000.0 | 8000.0 |  266.6 | 280.8 |  164.0 | 116.6 | \n",
    "| Sum |  __5.485639__ | 5.909321 |  40000&nbsp;&nbsp;&nbsp; | 40000&nbsp;&nbsp;&nbsp; |  1333&nbsp;&nbsp;&nbsp; | 1404&nbsp;&nbsp;&nbsp; |  820&nbsp;&nbsp;&nbsp; | 583&nbsp;&nbsp;&nbsp; | \n",
    "\n",
    "### Experiment: boat rotated\n",
    "\n",
    "* keypoints\n",
    "\n",
    "|fix | not fixed|\n",
    "|---|--|\n",
    "|8000|8000|\n",
    "\n",
    "* Homography estimation\n",
    "| | fix | not fixed|fix | not fixed|fix | not fixed|fix | not fixed |\n",
    "|----|----|----|----|----|----|----|----|----|\n",
    "|  |  error| | keypoints| | tentatives| | inliers| |\n",
    "| img2 |  __0.327031__ | 0.912519 |  8000&nbsp;&nbsp;&nbsp; | 8000&nbsp;&nbsp;&nbsp; |  869&nbsp;&nbsp;&nbsp; | 1335&nbsp;&nbsp;&nbsp; |  254&nbsp;&nbsp;&nbsp; | 321&nbsp;&nbsp;&nbsp; | \n",
    "| img3 |  __0.399624__ | 0.732629 |  8000&nbsp;&nbsp;&nbsp; | 8000&nbsp;&nbsp;&nbsp; |  736&nbsp;&nbsp;&nbsp; | 1051&nbsp;&nbsp;&nbsp; |  236&nbsp;&nbsp;&nbsp; | 287&nbsp;&nbsp;&nbsp; | \n",
    "| img4 |  __1.235065__ | 1.349477 |  8000&nbsp;&nbsp;&nbsp; | 8000&nbsp;&nbsp;&nbsp; |  370&nbsp;&nbsp;&nbsp; | 450&nbsp;&nbsp;&nbsp; |  101&nbsp;&nbsp;&nbsp; | 92&nbsp;&nbsp;&nbsp; | \n",
    "| img5 |  1.233383 | __0.816987__ |  8000&nbsp;&nbsp;&nbsp; | 8000&nbsp;&nbsp;&nbsp; |  212&nbsp;&nbsp;&nbsp; | 240&nbsp;&nbsp;&nbsp; |  45&nbsp;&nbsp;&nbsp; | 37&nbsp;&nbsp;&nbsp; | \n",
    "| img6 |  __5.577254__ | 5.692144 |  8000&nbsp;&nbsp;&nbsp; | 8000&nbsp;&nbsp;&nbsp; |  93&nbsp;&nbsp;&nbsp; | 94&nbsp;&nbsp;&nbsp; |  16&nbsp;&nbsp;&nbsp; | 18&nbsp;&nbsp;&nbsp; | \n",
    "| Mean |  __1.754471__ | 1.900751 |  8000.0 | 8000.0 |  456.0 | 634.0 |  130.4 | 151.0 | \n",
    "| Sum |  __8.772357__ | 9.503756 |  40000&nbsp;&nbsp;&nbsp; | 40000&nbsp;&nbsp;&nbsp; |  2280&nbsp;&nbsp;&nbsp; | 3170&nbsp;&nbsp;&nbsp; |  652&nbsp;&nbsp;&nbsp; | 755&nbsp;&nbsp;&nbsp; | "
   ]
  },
  {
   "cell_type": "code",
   "execution_count": 2,
   "id": "86dc90c7",
   "metadata": {
    "pycharm": {
     "name": "#%%\n"
    }
   },
   "outputs": [
    {
     "name": "stdout",
     "output_type": "stream",
     "text": [
      "Exact scale adjustments:\n",
      "scale: 0.2 => 0.2, dimension: 765x510 => 153x102\n",
      "scale: 0.3 => 0.2980392156862745, dimension: 765x510 => 228x152\n",
      "scale: 0.4 => 0.4, dimension: 765x510 => 306x204\n",
      "scale: 0.5 => 0.5019607843137255, dimension: 765x510 => 384x256\n",
      "scale: 0.6 => 0.6, dimension: 765x510 => 459x306\n",
      "scale: 0.7 => 0.6980392156862745, dimension: 765x510 => 534x356\n",
      "scale: 0.8 => 0.8, dimension: 765x510 => 612x408\n",
      "scale: 0.9 => 0.9019607843137255, dimension: 765x510 => 690x460\n"
     ]
    }
   ],
   "source": [
    "import cv2 as cv\n",
    "from tqdm.notebook import tqdm\n",
    "\n",
    "from dataset_utils import Hs_imgs_for_boat, Hs_imgs_for_bark, Hs_imgs_for_rotation, Hs_imgs_for_scaling\n",
    "from opencv_utils import get_tentatives, get_visible_part_mean_absolute_reprojection_error\n",
    "from jupyter_utils import JupyterPrinter\n",
    "\n",
    "\n",
    "def homography_estimation_experiment(descriptor, Hs_gt, imgs, e_name, instance_names, p,\n",
    "                                     mean=True, sum=False):\n",
    "    p.print()\n",
    "    p.print(f\"running experiment: {e_name}\")\n",
    "    p.add_experiment(e_name)\n",
    "    p.print()\n",
    "\n",
    "    kpts_0, desc_0 = descriptor.detectAndCompute(imgs[0], mask=None)\n",
    "\n",
    "    p.print(f\"keypoints: {len(kpts_0)}\")\n",
    "    p.add_special_key(\"keypoints\", str(len(kpts_0)))\n",
    "    p.print()\n",
    "    p.print(f\"{'':>8}{'error':>12}{'keypoints':>12}{'tentatives':>12}{'inliers':>10}\")\n",
    "\n",
    "    sum_reproj_err = 0.0\n",
    "    sum_keypoints = 0\n",
    "    sum_tent_count = 0\n",
    "    sum_in_count = 0\n",
    "\n",
    "    for other_i in tqdm(range(1, len(imgs)), leave=False):\n",
    "        kpts_other, desc_other = descriptor.detectAndCompute(imgs[other_i], mask=None)\n",
    "        kpts_n = len(kpts_other)\n",
    "\n",
    "        src_pts, dst_pts = get_tentatives(kpts_0, desc_0, kpts_other, desc_other, ratio_threshold=0.8)\n",
    "        if len(src_pts) < 4:\n",
    "            print(f\"WARNING: less than 4 tentatives: {len(src_pts)}\")\n",
    "            p.print(f\"{instance_names[other_i - 1]:>8}{'N/A':>12}{'N/A':>12}{'N/A':>12}{'N/A':>10}\")\n",
    "            p.add_data([instance_names[other_i - 1], 'N/A', 'N/A', 'N/A', 'N/A'])\n",
    "            continue\n",
    "\n",
    "        H_est, inlier_mask = cv.findHomography(src_pts, dst_pts,\n",
    "                                               cv.RANSAC,\n",
    "                                               maxIters=100000,\n",
    "                                               ransacReprojThreshold=0.5,\n",
    "                                               confidence=0.9999)\n",
    "        H_gt = Hs_gt[other_i - 1]\n",
    "\n",
    "        reproj_err = get_visible_part_mean_absolute_reprojection_error(imgs[0], imgs[other_i], H_gt, H_est)\n",
    "        tent_count = len(src_pts)\n",
    "        in_count = int(inlier_mask.sum())\n",
    "\n",
    "        p.print(f\"{instance_names[other_i - 1]:>8}{reproj_err:>12.6f}{kpts_n:>12}{tent_count:>12}{in_count:>10}\")\n",
    "        p.add_data([instance_names[other_i - 1], f\"{reproj_err:.6f}\", f\"{kpts_n}\", f\"{tent_count}\", f\"{in_count}\"])\n",
    "        sum_reproj_err += reproj_err\n",
    "        sum_keypoints += kpts_n\n",
    "        sum_tent_count += tent_count\n",
    "        sum_in_count += in_count\n",
    "\n",
    "    l = len(imgs) - 1\n",
    "    if mean:\n",
    "        p.print(f\"{'Mean':>8}{sum_reproj_err / l:>12.6f}{sum_keypoints / l:>14.1f}{sum_tent_count / l:>12.1f}{sum_in_count / l:>10.1f}\")\n",
    "        p.add_data([\"Mean\", f\"{sum_reproj_err / l:.6f}\", f\"{sum_keypoints / l:.1f}\", f\"{sum_tent_count / l:.1f}\", f\"{sum_in_count / l:.1f}\"])\n",
    "    if sum:\n",
    "        p.print(f\"{'Sum':>8}{sum_reproj_err:>12.6f}{sum_keypoints:>12}{sum_tent_count:>12}{sum_in_count:>10}\")\n",
    "        p.add_data([\"Sum\", f\"{sum_reproj_err:.6f}\", f\"{sum_keypoints}\", f\"{sum_tent_count}\", f\"{sum_in_count}\"])\n",
    "\n",
    "\n",
    "Hs_boat, imgs_boat = Hs_imgs_for_boat()\n",
    "Hs_boat_rot, imgs_boat_rot = Hs_imgs_for_boat(rotate_query_imgs=True)\n",
    "Hs_bark, imgs_bark = Hs_imgs_for_bark()\n",
    "Hs_bark_rot, imgs_bark_rot = Hs_imgs_for_bark(rotate_query_imgs=True)\n",
    "Hs_rot, imgs_rot = Hs_imgs_for_rotation()\n",
    "print(\"Exact scale adjustments:\")\n",
    "Hs_scaling, imgs_scaling, scales = Hs_imgs_for_scaling()\n",
    "\n",
    "\n",
    "def run_on_descriptor(descriptor, descriptor_name, print_output=True, mean=True, sum=True):\n",
    "    p = JupyterPrinter(print_output, descriptor_name)\n",
    "    p.print()\n",
    "    p.print(f\"descriptor: {descriptor_name}:\")\n",
    "    p.print()\n",
    "    homography_estimation_experiment(descriptor, Hs_rot, imgs_rot, \"synthetic pi rotation\", [\"90°\", \"180°\", \"270°\"], p, mean, sum)\n",
    "    homography_estimation_experiment(descriptor, Hs_scaling, imgs_scaling, \"synthetic rescaling lanczos\", [f\"{s}\" for s in scales], p, mean, sum)\n",
    "    homography_estimation_experiment(descriptor, Hs_bark, imgs_bark, \"bark\", [f\"img{i}\" for i in range(2, 7)], p, mean, sum)\n",
    "    homography_estimation_experiment(descriptor, Hs_boat, imgs_boat, \"boat\", [f\"img{i}\" for i in range(2, 7)], p, mean, sum)\n",
    "    homography_estimation_experiment(descriptor, Hs_bark_rot, imgs_bark_rot, \"bark rotated\", [f\"img{i}\" for i in range(2, 7)], p, mean, sum)\n",
    "    homography_estimation_experiment(descriptor, Hs_boat_rot, imgs_boat_rot, \"boat rotated\", [f\"img{i}\" for i in range(2, 7)], p, mean, sum)\n",
    "    return p"
   ]
  },
  {
   "cell_type": "code",
   "execution_count": 3,
   "id": "8ebfd06e",
   "metadata": {
    "scrolled": false
   },
   "outputs": [
    {
     "name": "stdout",
     "output_type": "stream",
     "text": [
      "\n",
      "descriptor: fix:\n",
      "\n",
      "\n",
      "running experiment: synthetic pi rotation\n",
      "\n",
      "keypoints: 8000\n",
      "\n",
      "               error   keypoints  tentatives   inliers\n"
     ]
    },
    {
     "data": {
      "application/vnd.jupyter.widget-view+json": {
       "model_id": "",
       "version_major": 2,
       "version_minor": 0
      },
      "text/plain": [
       "  0%|          | 0/3 [00:00<?, ?it/s]"
      ]
     },
     "metadata": {},
     "output_type": "display_data"
    },
    {
     "name": "stdout",
     "output_type": "stream",
     "text": [
      "     90°    0.000287        8000        6482      6453\n",
      "    180°    0.001752        8000        4020      3845\n",
      "    270°    0.001265        8000        5705      5554\n",
      "    Mean    0.001101        8000.0      5402.3    5284.0\n",
      "     Sum    0.003304       24000       16207     15852\n",
      "\n",
      "running experiment: synthetic rescaling lanczos\n",
      "\n",
      "keypoints: 8000\n",
      "\n",
      "               error   keypoints  tentatives   inliers\n"
     ]
    },
    {
     "data": {
      "application/vnd.jupyter.widget-view+json": {
       "model_id": "",
       "version_major": 2,
       "version_minor": 0
      },
      "text/plain": [
       "  0%|          | 0/8 [00:00<?, ?it/s]"
      ]
     },
     "metadata": {},
     "output_type": "display_data"
    },
    {
     "name": "stdout",
     "output_type": "stream",
     "text": [
      "     0.2    0.064429        8000          68        56\n",
      "     0.3    0.124450        8000         294       184\n",
      "     0.4    0.030089        8000         686       593\n",
      "     0.5    0.026365        8000        1248      1111\n",
      "     0.6    0.017005        8000        1957      1633\n",
      "     0.7    0.043486        8000        2707      2078\n",
      "     0.8    0.013967        8000        4012      3607\n",
      "     0.9    0.026939        8000        5133      4179\n",
      "    Mean    0.043341        8000.0      2013.1    1680.1\n",
      "     Sum    0.346730       64000       16105     13441\n",
      "\n",
      "running experiment: bark\n",
      "\n",
      "keypoints: 8000\n",
      "\n",
      "               error   keypoints  tentatives   inliers\n"
     ]
    },
    {
     "data": {
      "application/vnd.jupyter.widget-view+json": {
       "model_id": "",
       "version_major": 2,
       "version_minor": 0
      },
      "text/plain": [
       "  0%|          | 0/5 [00:00<?, ?it/s]"
      ]
     },
     "metadata": {},
     "output_type": "display_data"
    },
    {
     "name": "stdout",
     "output_type": "stream",
     "text": [
      "    img2    1.241678        8000         385       110\n",
      "    img3    1.809730        8000         178        66\n",
      "    img4    0.999623        8000         424       331\n",
      "    img5    0.698361        8000         308       236\n",
      "    img6    0.978995        8000          96        73\n",
      "    Mean    1.145677        8000.0       278.2     163.2\n",
      "     Sum    5.728387       40000        1391       816\n",
      "\n",
      "running experiment: boat\n",
      "\n",
      "keypoints: 8000\n",
      "\n",
      "               error   keypoints  tentatives   inliers\n"
     ]
    },
    {
     "data": {
      "application/vnd.jupyter.widget-view+json": {
       "model_id": "",
       "version_major": 2,
       "version_minor": 0
      },
      "text/plain": [
       "  0%|          | 0/5 [00:00<?, ?it/s]"
      ]
     },
     "metadata": {},
     "output_type": "display_data"
    },
    {
     "name": "stdout",
     "output_type": "stream",
     "text": [
      "    img2    0.424484        8000        1806       588\n",
      "    img3    0.491394        8000        1165       406\n",
      "    img4    1.919574        8000         405       117\n",
      "    img5    0.985122        8000         285        65\n",
      "    img6    6.004761        8000          93        21\n",
      "    Mean    1.965067        8000.0       750.8     239.4\n",
      "     Sum    9.825335       40000        3754      1197\n",
      "\n",
      "running experiment: bark rotated\n",
      "\n",
      "keypoints: 8000\n",
      "\n",
      "               error   keypoints  tentatives   inliers\n"
     ]
    },
    {
     "data": {
      "application/vnd.jupyter.widget-view+json": {
       "model_id": "",
       "version_major": 2,
       "version_minor": 0
      },
      "text/plain": [
       "  0%|          | 0/5 [00:00<?, ?it/s]"
      ]
     },
     "metadata": {},
     "output_type": "display_data"
    },
    {
     "name": "stdout",
     "output_type": "stream",
     "text": [
      "    img2    1.144270        8000         260        81\n",
      "    img3    1.662890        8000         261       109\n",
      "    img4    0.954405        8000         467       382\n",
      "    img5    0.731366        8000         222       153\n",
      "    img6    0.992707        8000         123        95\n",
      "    Mean    1.097128        8000.0       266.6     164.0\n",
      "     Sum    5.485639       40000        1333       820\n",
      "\n",
      "running experiment: boat rotated\n",
      "\n",
      "keypoints: 8000\n",
      "\n",
      "               error   keypoints  tentatives   inliers\n"
     ]
    },
    {
     "data": {
      "application/vnd.jupyter.widget-view+json": {
       "model_id": "",
       "version_major": 2,
       "version_minor": 0
      },
      "text/plain": [
       "  0%|          | 0/5 [00:00<?, ?it/s]"
      ]
     },
     "metadata": {},
     "output_type": "display_data"
    },
    {
     "name": "stdout",
     "output_type": "stream",
     "text": [
      "    img2    0.327031        8000         869       254\n",
      "    img3    0.399624        8000         736       236\n",
      "    img4    1.235065        8000         370       101\n",
      "    img5    1.233383        8000         212        45\n",
      "    img6    5.577254        8000          93        16\n",
      "    Mean    1.754471        8000.0       456.0     130.4\n",
      "     Sum    8.772357       40000        2280       652\n",
      "\n",
      "descriptor: not fixed:\n",
      "\n",
      "\n",
      "running experiment: synthetic pi rotation\n",
      "\n",
      "keypoints: 8000\n",
      "\n",
      "               error   keypoints  tentatives   inliers\n"
     ]
    },
    {
     "data": {
      "application/vnd.jupyter.widget-view+json": {
       "model_id": "",
       "version_major": 2,
       "version_minor": 0
      },
      "text/plain": [
       "  0%|          | 0/3 [00:00<?, ?it/s]"
      ]
     },
     "metadata": {},
     "output_type": "display_data"
    },
    {
     "name": "stdout",
     "output_type": "stream",
     "text": [
      "     90°    0.460308        8000        6228      4091\n",
      "    180°    0.678817        8000        5721      3734\n",
      "    270°    0.542212        8000        6035      3892\n",
      "    Mean    0.560446        8000.0      5994.7    3905.7\n",
      "     Sum    1.681338       24000       17984     11717\n",
      "\n",
      "running experiment: synthetic rescaling lanczos\n",
      "\n",
      "keypoints: 8000\n",
      "\n",
      "               error   keypoints  tentatives   inliers\n"
     ]
    },
    {
     "data": {
      "application/vnd.jupyter.widget-view+json": {
       "model_id": "",
       "version_major": 2,
       "version_minor": 0
      },
      "text/plain": [
       "  0%|          | 0/8 [00:00<?, ?it/s]"
      ]
     },
     "metadata": {},
     "output_type": "display_data"
    },
    {
     "name": "stdout",
     "output_type": "stream",
     "text": [
      "     0.2    0.387941        8000          66        39\n",
      "     0.3    0.340491        8000         275       132\n",
      "     0.4    0.287376        8000         685       404\n",
      "     0.5    0.332963        8000        1216       610\n",
      "     0.6    0.139853        8000        1848       899\n",
      "     0.7    0.223965        8000        2444      1186\n",
      "     0.8    0.167404        8000        3728      2041\n",
      "     0.9    0.171646        8000        4379      2216\n",
      "    Mean    0.256455        8000.0      1830.1     940.9\n",
      "     Sum    2.051640       64000       14641      7527\n",
      "\n",
      "running experiment: bark\n",
      "\n",
      "keypoints: 8000\n",
      "\n",
      "               error   keypoints  tentatives   inliers\n"
     ]
    },
    {
     "data": {
      "application/vnd.jupyter.widget-view+json": {
       "model_id": "",
       "version_major": 2,
       "version_minor": 0
      },
      "text/plain": [
       "  0%|          | 0/5 [00:00<?, ?it/s]"
      ]
     },
     "metadata": {},
     "output_type": "display_data"
    },
    {
     "name": "stdout",
     "output_type": "stream",
     "text": [
      "    img2    1.323236        8000         347        75\n",
      "    img3    2.213339        8000         178        54\n",
      "    img4    1.240114        8000         478       227\n",
      "    img5    0.756133        8000         310       142\n",
      "    img6    1.277785        8000         142        70\n",
      "    Mean    1.362122        8000.0       291.0     113.6\n",
      "     Sum    6.810608       40000        1455       568\n",
      "\n",
      "running experiment: boat\n",
      "\n",
      "keypoints: 8000\n",
      "\n",
      "               error   keypoints  tentatives   inliers\n"
     ]
    },
    {
     "data": {
      "application/vnd.jupyter.widget-view+json": {
       "model_id": "",
       "version_major": 2,
       "version_minor": 0
      },
      "text/plain": [
       "  0%|          | 0/5 [00:00<?, ?it/s]"
      ]
     },
     "metadata": {},
     "output_type": "display_data"
    },
    {
     "name": "stdout",
     "output_type": "stream",
     "text": [
      "    img2    0.442544        8000        1658       423\n",
      "    img3    0.495133        8000        1192       329\n",
      "    img4    0.345025        8000         435        95\n",
      "    img5    3.183073        8000         257        44\n",
      "    img6    5.448262        8000         100        17\n",
      "    Mean    1.982807        8000.0       728.4     181.6\n",
      "     Sum    9.914037       40000        3642       908\n",
      "\n",
      "running experiment: bark rotated\n",
      "\n",
      "keypoints: 8000\n",
      "\n",
      "               error   keypoints  tentatives   inliers\n"
     ]
    },
    {
     "data": {
      "application/vnd.jupyter.widget-view+json": {
       "model_id": "",
       "version_major": 2,
       "version_minor": 0
      },
      "text/plain": [
       "  0%|          | 0/5 [00:00<?, ?it/s]"
      ]
     },
     "metadata": {},
     "output_type": "display_data"
    },
    {
     "name": "stdout",
     "output_type": "stream",
     "text": [
      "    img2    1.589799        8000         318        65\n",
      "    img3    1.339599        8000         206        59\n",
      "    img4    1.000277        8000         470       262\n",
      "    img5    1.110482        8000         267       118\n",
      "    img6    0.869163        8000         143        79\n",
      "    Mean    1.181864        8000.0       280.8     116.6\n",
      "     Sum    5.909321       40000        1404       583\n",
      "\n",
      "running experiment: boat rotated\n",
      "\n",
      "keypoints: 8000\n",
      "\n",
      "               error   keypoints  tentatives   inliers\n"
     ]
    },
    {
     "data": {
      "application/vnd.jupyter.widget-view+json": {
       "model_id": "",
       "version_major": 2,
       "version_minor": 0
      },
      "text/plain": [
       "  0%|          | 0/5 [00:00<?, ?it/s]"
      ]
     },
     "metadata": {},
     "output_type": "display_data"
    },
    {
     "name": "stdout",
     "output_type": "stream",
     "text": [
      "    img2    0.912519        8000        1335       321\n",
      "    img3    0.732629        8000        1051       287\n",
      "    img4    1.349477        8000         450        92\n",
      "    img5    0.816987        8000         240        37\n",
      "    img6    5.692144        8000          94        18\n",
      "    Mean    1.900751        8000.0       634.0     151.0\n",
      "     Sum    9.503756       40000        3170       755\n",
      "\n",
      "descriptor: original:\n",
      "\n",
      "\n",
      "running experiment: synthetic pi rotation\n",
      "\n",
      "keypoints: 8000\n",
      "\n",
      "               error   keypoints  tentatives   inliers\n"
     ]
    },
    {
     "data": {
      "application/vnd.jupyter.widget-view+json": {
       "model_id": "",
       "version_major": 2,
       "version_minor": 0
      },
      "text/plain": [
       "  0%|          | 0/3 [00:00<?, ?it/s]"
      ]
     },
     "metadata": {},
     "output_type": "display_data"
    },
    {
     "name": "stdout",
     "output_type": "stream",
     "text": [
      "     90°    0.450141        8000        6217      4428\n",
      "    180°    0.746269        8000        5726      3727\n",
      "    270°    0.485245        8000        6038      4509\n",
      "    Mean    0.560552        8000.0      5993.7    4221.3\n",
      "     Sum    1.681655       24000       17981     12664\n",
      "\n",
      "running experiment: synthetic rescaling lanczos\n",
      "\n",
      "keypoints: 8000\n",
      "\n",
      "               error   keypoints  tentatives   inliers\n"
     ]
    },
    {
     "data": {
      "application/vnd.jupyter.widget-view+json": {
       "model_id": "",
       "version_major": 2,
       "version_minor": 0
      },
      "text/plain": [
       "  0%|          | 0/8 [00:00<?, ?it/s]"
      ]
     },
     "metadata": {},
     "output_type": "display_data"
    },
    {
     "name": "stdout",
     "output_type": "stream",
     "text": [
      "     0.2    0.320057        8000          62        37\n",
      "     0.3    0.193841        8000         275       143\n",
      "     0.4    0.290068        8000         676       395\n",
      "     0.5    0.289241        8000        1215       679\n",
      "     0.6    0.188332        8000        1847      1078\n",
      "     0.7    0.134467        8000        2436      1345\n",
      "     0.8    0.120879        8000        3734      2053\n",
      "     0.9    0.175252        8000        4379      2086\n",
      "    Mean    0.214017        8000.0      1828.0     977.0\n",
      "     Sum    1.712137       64000       14624      7816\n",
      "\n",
      "running experiment: bark\n",
      "\n",
      "keypoints: 8000\n",
      "\n",
      "               error   keypoints  tentatives   inliers\n"
     ]
    },
    {
     "data": {
      "application/vnd.jupyter.widget-view+json": {
       "model_id": "",
       "version_major": 2,
       "version_minor": 0
      },
      "text/plain": [
       "  0%|          | 0/5 [00:00<?, ?it/s]"
      ]
     },
     "metadata": {},
     "output_type": "display_data"
    },
    {
     "name": "stdout",
     "output_type": "stream",
     "text": [
      "    img2    1.252318        8000         344        74\n",
      "    img3    2.269900        8000         191        50\n",
      "    img4    1.349885        8000         481       254\n",
      "    img5    0.810156        8000         304       154\n",
      "    img6    1.338424        8000         135        60\n",
      "    Mean    1.404136        8000.0       291.0     118.4\n",
      "     Sum    7.020682       40000        1455       592\n",
      "\n",
      "running experiment: boat\n",
      "\n",
      "keypoints: 8000\n",
      "\n",
      "               error   keypoints  tentatives   inliers\n"
     ]
    },
    {
     "data": {
      "application/vnd.jupyter.widget-view+json": {
       "model_id": "",
       "version_major": 2,
       "version_minor": 0
      },
      "text/plain": [
       "  0%|          | 0/5 [00:00<?, ?it/s]"
      ]
     },
     "metadata": {},
     "output_type": "display_data"
    },
    {
     "name": "stdout",
     "output_type": "stream",
     "text": [
      "    img2    0.541953        8000        1664       421\n",
      "    img3    0.312014        8000        1193       369\n",
      "    img4    1.031484        8000         440        92\n",
      "    img5    1.358379        8000         259        42\n",
      "    img6    6.181644        8000         101        17\n",
      "    Mean    1.885095        8000.0       731.4     188.2\n",
      "     Sum    9.425475       40000        3657       941\n",
      "\n",
      "running experiment: bark rotated\n",
      "\n",
      "keypoints: 8000\n",
      "\n",
      "               error   keypoints  tentatives   inliers\n"
     ]
    },
    {
     "data": {
      "application/vnd.jupyter.widget-view+json": {
       "model_id": "",
       "version_major": 2,
       "version_minor": 0
      },
      "text/plain": [
       "  0%|          | 0/5 [00:00<?, ?it/s]"
      ]
     },
     "metadata": {},
     "output_type": "display_data"
    },
    {
     "name": "stdout",
     "output_type": "stream",
     "text": [
      "    img2    1.397112        8000         318        64\n",
      "    img3    1.527408        8000         215        54\n",
      "    img4    1.043992        8000         464       254\n",
      "    img5    1.212977        8000         281       117\n",
      "    img6    0.902489        8000         141        76\n",
      "    Mean    1.216796        8000.0       283.8     113.0\n",
      "     Sum    6.083978       40000        1419       565\n",
      "\n",
      "running experiment: boat rotated\n",
      "\n",
      "keypoints: 8000\n",
      "\n",
      "               error   keypoints  tentatives   inliers\n"
     ]
    },
    {
     "data": {
      "application/vnd.jupyter.widget-view+json": {
       "model_id": "",
       "version_major": 2,
       "version_minor": 0
      },
      "text/plain": [
       "  0%|          | 0/5 [00:00<?, ?it/s]"
      ]
     },
     "metadata": {},
     "output_type": "display_data"
    },
    {
     "name": "stdout",
     "output_type": "stream",
     "text": [
      "    img2    0.857439        8000        1333       329\n",
      "    img3    0.572860        8000        1054       341\n",
      "    img4    1.501048        8000         453        81\n",
      "    img5    1.052413        8000         241        41\n",
      "    img6    5.743250        8000          93        17\n",
      "    Mean    1.945402        8000.0       634.8     161.8\n",
      "     Sum    9.727010       40000        3174       809\n"
     ]
    }
   ],
   "source": [
    "from kornia_utils import Version, get_sift_descriptor\n",
    "\n",
    "run_on_descriptor(descriptor=get_sift_descriptor(version=Version.FIXED), descriptor_name=\"fix\")\n",
    "run_on_descriptor(descriptor=get_sift_descriptor(version=Version.NOT_FIXED), descriptor_name=\"not fixed\")\n",
    "run_on_descriptor(descriptor=get_sift_descriptor(version=Version.ORIGINAL), descriptor_name=\"original\")"
   ]
  }
 ],
 "metadata": {
  "kernelspec": {
   "display_name": "Python 3 (ipykernel)",
   "language": "python",
   "name": "python3"
  },
  "language_info": {
   "codemirror_mode": {
    "name": "ipython",
    "version": 3
   },
   "file_extension": ".py",
   "mimetype": "text/x-python",
   "name": "python",
   "nbconvert_exporter": "python",
   "pygments_lexer": "ipython3",
   "version": "3.9.16"
  }
 },
 "nbformat": 4,
 "nbformat_minor": 5
}
