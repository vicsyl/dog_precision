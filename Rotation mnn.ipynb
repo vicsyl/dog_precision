{
 "cells": [
  {
   "cell_type": "code",
   "execution_count": 1,
   "id": "fbfc3813",
   "metadata": {
    "pycharm": {
     "name": "#%%\n"
    }
   },
   "outputs": [],
   "source": [
    "import os\n",
    "\n",
    "from dataset_utils import *\n",
    "from geometry import mnn\n",
    "from tqdm.notebook import tqdm\n",
    "\n",
    "\n",
    "def detect_kpts(img_np, detector):\n",
    "\n",
    "    kpts = detector.detect(img_np, mask=None)\n",
    "\n",
    "    if len(kpts) == 0:\n",
    "        return torch.zeros((0, 2))\n",
    "\n",
    "    kpt_f = torch.tensor([[kp.pt[0], kp.pt[1]] for kp in kpts])\n",
    "    return kpt_f\n",
    "\n",
    "\n",
    "def back_project_kpts(kpts, img_rotated, rotations):\n",
    "    kpts_h = torch.ones((kpts.shape[0], 3)).to(dtype=kpts.dtype)\n",
    "    kpts_h[:, :2] = kpts.clone()\n",
    "    Hs = torch.from_numpy(rotation_gt_Hs(img_rotated)[3 - rotations]).to(dtype=kpts.dtype)\n",
    "    kpts = (Hs @ kpts_h.T)[:2].T\n",
    "    return kpts\n",
    "\n",
    "\n",
    "def rotate_experiment_mnn(detector, img_to_show, err_th, experiment_name):\n",
    "\n",
    "    img_dir = \"imgs/hypersim\"\n",
    "    files = sorted([\"{}/{}\".format(img_dir, fn) for fn in os.listdir(img_dir)][:img_to_show])\n",
    "    means = np.zeros((3, 2))\n",
    "    for file_path in tqdm(files):\n",
    "\n",
    "        img_np_o = np.array(Image.open(file_path))\n",
    "        kpts_0 = detect_kpts(img_np_o, detector)\n",
    "\n",
    "        for rotations in range(1, 4):\n",
    "\n",
    "            img_np_r = np.rot90(img_np_o, rotations, [0, 1])\n",
    "            kpts_1 = detect_kpts(img_np_r, detector)\n",
    "\n",
    "            kpts_1 = back_project_kpts(kpts_1, img_np_r, rotations)\n",
    "\n",
    "            kpts_0, kpts_1, _, _ = mnn(kpts_0, kpts_1, err_th=err_th)\n",
    "            mean = (kpts_1 - kpts_0).mean(dim=0)\n",
    "            means[rotations - 1] += mean.numpy()\n",
    "\n",
    "    means /= len(files)\n",
    "\n",
    "    print()\n",
    "    print(experiment_name)\n",
    "    print()\n",
    "    print(\"\\t\\tMean error\")\n",
    "    print(\"Rotation\\tx\\t\\ty\")\n",
    "    for i, mean in enumerate(means):\n",
    "        print(f\"{90 + i * 90} deg\\t\\t{mean[0]:+.4f}\\t\\t{mean[1]:+.4f}\")\n",
    "    print()\n",
    "\n"
   ]
  },
  {
   "cell_type": "code",
   "execution_count": 2,
   "id": "010b79f4",
   "metadata": {
    "pycharm": {
     "name": "#%%\n"
    }
   },
   "outputs": [
    {
     "data": {
      "application/vnd.jupyter.widget-view+json": {
       "model_id": "ba285ec660764b4eac1676e16152ab32",
       "version_major": 2,
       "version_minor": 0
      },
      "text/plain": [
       "  0%|          | 0/10 [00:00<?, ?it/s]"
      ]
     },
     "metadata": {},
     "output_type": "display_data"
    },
    {
     "name": "stdout",
     "output_type": "stream",
     "text": [
      "\n",
      "OpenCV DoG\n",
      "\n",
      "\t\tMean error\n",
      "Rotation\tx\t\ty\n",
      "90 deg\t\t-0.4907\t\t+0.0004\n",
      "180 deg\t\t-0.4911\t\t-0.4961\n",
      "270 deg\t\t+0.0016\t\t-0.4977\n",
      "\n"
     ]
    }
   ],
   "source": [
    "import cv2 as cv\n",
    "detector = cv.SIFT_create()\n",
    "\n",
    "rotate_experiment_mnn(detector, img_to_show=10, err_th=2, experiment_name=\"OpenCV DoG\")"
   ]
  },
  {
   "cell_type": "code",
   "execution_count": 3,
   "id": "10a502cc",
   "metadata": {
    "pycharm": {
     "name": "#%%\n"
    }
   },
   "outputs": [
    {
     "name": "stdout",
     "output_type": "stream",
     "text": [
      "Kornia SIFT\n"
     ]
    },
    {
     "data": {
      "application/vnd.jupyter.widget-view+json": {
       "model_id": "3335d38d7ced413698016e077e2ca775",
       "version_major": 2,
       "version_minor": 0
      },
      "text/plain": [
       "  0%|          | 0/10 [00:00<?, ?it/s]"
      ]
     },
     "metadata": {},
     "output_type": "display_data"
    },
    {
     "name": "stdout",
     "output_type": "stream",
     "text": [
      "\n",
      "Kornia DoG\n",
      "\n",
      "\t\tMean error\n",
      "Rotation\tx\t\ty\n",
      "90 deg\t\t-0.4716\t\t+0.0021\n",
      "180 deg\t\t-0.4592\t\t-0.4659\n",
      "270 deg\t\t+0.0060\t\t-0.4728\n",
      "\n"
     ]
    }
   ],
   "source": [
    "from kornia.feature.integrated import SIFTFeature\n",
    "from kornia.utils import image_to_tensor\n",
    "import torch\n",
    "\n",
    "\n",
    "class NumpyKorniaSiftDescriptor:\n",
    "\n",
    "    def __init__(self, device=torch.device(\"cpu\")):\n",
    "        self.device = device\n",
    "        self.sf = SIFTFeature(device=device)\n",
    "\n",
    "    @staticmethod\n",
    "    def cv_kpt_from_laffs_responses(laffs, responses):\n",
    "        kpts = []\n",
    "        for i, response in enumerate(responses[0]):\n",
    "            yx = laffs[0, i, :, 2]\n",
    "            kp = cv.KeyPoint(yx[0].item(), yx[1].item(), response.item(), angle=0)\n",
    "            kpts.append(kp)\n",
    "        return kpts\n",
    "\n",
    "    def detect(self, img, mask):\n",
    "        assert mask is None, \"not implemented with non-trivial mask\"\n",
    "        if len(img.shape) == 2:\n",
    "            img = img[:, :, None]\n",
    "        else:\n",
    "            img = cv.cvtColor(img, cv.COLOR_BGR2GRAY)\n",
    "        img_t = (image_to_tensor(img, False).float() / 255.).to(device=self.device)\n",
    "        laffs, responses, descs = self.sf(img_t, mask=None)\n",
    "        kpts = self.cv_kpt_from_laffs_responses(laffs, responses)\n",
    "        return kpts\n",
    "\n",
    "\n",
    "detector = NumpyKorniaSiftDescriptor()\n",
    "\n",
    "print(\"Kornia SIFT\")\n",
    "rotate_experiment_mnn(detector, img_to_show=10, err_th=2, experiment_name=\"Kornia DoG\")"
   ]
  }
 ],
 "metadata": {
  "kernelspec": {
   "display_name": "Python 3 (ipykernel)",
   "language": "python",
   "name": "python3"
  },
  "language_info": {
   "codemirror_mode": {
    "name": "ipython",
    "version": 3
   },
   "file_extension": ".py",
   "mimetype": "text/x-python",
   "name": "python",
   "nbconvert_exporter": "python",
   "pygments_lexer": "ipython3",
   "version": "3.10.6"
  }
 },
 "nbformat": 4,
 "nbformat_minor": 5
}
