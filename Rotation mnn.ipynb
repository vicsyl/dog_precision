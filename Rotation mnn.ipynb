{
 "cells": [
  {
   "cell_type": "markdown",
   "id": "33cceeea",
   "metadata": {
    "pycharm": {
     "name": "#%% md\n"
    }
   },
   "source": [
    "### Matching DoG keypoints between original and rotated image for OpenCV, Kornia and VLFeat\n",
    "\n",
    "* measuring the reprojection mean error and mse\n",
    "* matching based on the position (original image) and reprojected position (scaled image)     \n",
    "* matching a) based on mutual nearest neighbor b) with reprojection error < threshold (usually 2 pixels)\n",
    "* optionally filtered with \"size check\" \n",
    "  * ratio = (kpt_size_scaled / scale) / kpt_size_original\n",
    "  * 1 + abs(1 - ratio) < threshold (usually 1.1)\n",
    "  * doesn't work for Kornia as the sizes are not consistent there \n",
    "* rotated by multiples of 90 degrees\n",
    "* measured on the first n images from the marketplace_dataset (scene ai_001_001) \n",
    "from the ml-hypersim dataset (https://github.com/apple/ml-hypersim)\n"
   ]
  },
  {
   "cell_type": "code",
   "execution_count": 1,
   "id": "32891eb9",
   "metadata": {
    "pycharm": {
     "name": "#%%\n"
    }
   },
   "outputs": [],
   "source": [
    "import os\n",
    "\n",
    "from dataset_utils import *\n",
    "from geometry import mnn\n",
    "from tqdm.notebook import tqdm\n",
    "\n",
    "\n",
    "def write_results(means, mses, name, correct=True):\n",
    "\n",
    "    correct_list = [0, 1] if correct else [0]\n",
    "    for corrected in correct_list:\n",
    "        title = f\"{name}:\" if corrected == 0 else f\"{name} corrected:\"\n",
    "        print()\n",
    "        print(title)\n",
    "        print()\n",
    "        print(\"                 Mean error\")\n",
    "        print(\"Rotation          x        y\")\n",
    "        for i, mean in enumerate(means[corrected]):\n",
    "            sp = \" \" if i == 0 else \"\"\n",
    "            print(f\" {sp}{90 + i * 90} deg     {mean[0]:+.03f}   {mean[1]:+.03f}\")\n",
    "        print()\n",
    "        print(\"Rotation        Mse\")\n",
    "        for i, mse in enumerate(mses[corrected]):\n",
    "            sp = \" \" if i == 0 else \"\"\n",
    "            print(f\" {sp}{90 + i * 90} deg      {mse:.03f}\")\n",
    "        print()\n",
    "\n",
    "\n",
    "def detect_kpts(img_np, detector, correct):\n",
    "\n",
    "    kpts = detector.detect(img_np, mask=None)\n",
    "\n",
    "    if len(kpts) == 0:\n",
    "        return [], []\n",
    "\n",
    "    kpt_f = torch.tensor([[kp.pt[0], kp.pt[1]] for kp in kpts])\n",
    "    if correct:\n",
    "        kpt_f -= 0.25\n",
    "\n",
    "    return kpt_f\n",
    "\n",
    "\n",
    "def back_project_kpts(kpts, img_rotated, rotations):\n",
    "    kpts_h = torch.ones((kpts.shape[0], 3)).to(dtype=kpts.dtype)\n",
    "    kpts_h[:, :2] = kpts.clone()\n",
    "    Hs = torch.from_numpy(rotation_gt_Hs(img_rotated)[3 - rotations]).to(dtype=kpts.dtype)\n",
    "    kpts = (Hs @ kpts_h.T)[:2].T\n",
    "    return kpts\n",
    "\n",
    "\n",
    "def rotate_experiment_mnn(detector, img_to_show, err_th, correct=True):\n",
    "\n",
    "    img_dir = \"imgs/hypersim\"\n",
    "    files = sorted([\"{}/{}\".format(img_dir, fn) for fn in os.listdir(img_dir)][:img_to_show])\n",
    "    means = np.zeros((2, 3, 2))\n",
    "    mses = np.zeros((2, 3))\n",
    "    correct_list = [0, 1] if correct else [0]\n",
    "    for rotation in tqdm(range(1, 4), leave=False):\n",
    "        for corrected in correct_list:\n",
    "            errors = torch.zeros((0, 2))\n",
    "            for file_path in files:\n",
    "\n",
    "                img_np_o = np.array(Image.open(file_path))\n",
    "                kpts_0 = detect_kpts(img_np_o, detector, correct=corrected==1)\n",
    "\n",
    "                img_np_r = np.rot90(img_np_o, rotation, [0, 1])\n",
    "                kpts_1 = detect_kpts(img_np_r, detector, correct=corrected==1)\n",
    "\n",
    "                kpts_1 = back_project_kpts(kpts_1, img_np_r, rotation)\n",
    "                kpts_0, kpts_1, _, _ = mnn(kpts_0, kpts_1, err_th=err_th)\n",
    "\n",
    "                errors = torch.vstack((errors, kpts_1 - kpts_0))\n",
    "            means[corrected, rotation - 1] = errors.mean(dim=0)\n",
    "            mses[corrected, rotation - 1] = (torch.linalg.norm(errors, axis=1) ** 2).mean()\n",
    "\n",
    "    return means, mses"
   ]
  },
  {
   "cell_type": "code",
   "execution_count": 2,
   "id": "c83442c6",
   "metadata": {
    "pycharm": {
     "name": "#%%\n"
    }
   },
   "outputs": [
    {
     "data": {
      "application/vnd.jupyter.widget-view+json": {
       "model_id": "",
       "version_major": 2,
       "version_minor": 0
      },
      "text/plain": [
       "  0%|          | 0/3 [00:00<?, ?it/s]"
      ]
     },
     "metadata": {},
     "output_type": "display_data"
    },
    {
     "name": "stdout",
     "output_type": "stream",
     "text": [
      "\n",
      "OpenCV DoG:\n",
      "\n",
      "                 Mean error\n",
      "Rotation          x        y\n",
      "  90 deg     -0.492   -0.001\n",
      " 180 deg     -0.492   -0.491\n",
      " 270 deg     -0.001   -0.494\n",
      "\n",
      "Rotation        Mse\n",
      "  90 deg      0.269\n",
      " 180 deg      0.526\n",
      " 270 deg      0.269\n",
      "\n",
      "\n",
      "OpenCV DoG corrected:\n",
      "\n",
      "                 Mean error\n",
      "Rotation          x        y\n",
      "  90 deg     +0.002   -0.001\n",
      " 180 deg     +0.000   +0.001\n",
      " 270 deg     -0.001   +0.001\n",
      "\n",
      "Rotation        Mse\n",
      "  90 deg      0.021\n",
      " 180 deg      0.034\n",
      " 270 deg      0.022\n",
      "\n"
     ]
    }
   ],
   "source": [
    "import cv2 as cv\n",
    "detector = cv.SIFT_create()\n",
    "\n",
    "means, mses = rotate_experiment_mnn(detector, img_to_show=100, err_th=2)\n",
    "write_results(means, mses, \"OpenCV DoG\")"
   ]
  },
  {
   "cell_type": "code",
   "execution_count": 3,
   "id": "25918c94",
   "metadata": {
    "pycharm": {
     "is_executing": true,
     "name": "#%%\n"
    }
   },
   "outputs": [
    {
     "data": {
      "application/vnd.jupyter.widget-view+json": {
       "model_id": "",
       "version_major": 2,
       "version_minor": 0
      },
      "text/plain": [
       "  0%|          | 0/3 [00:00<?, ?it/s]"
      ]
     },
     "metadata": {},
     "output_type": "display_data"
    },
    {
     "name": "stdout",
     "output_type": "stream",
     "text": [
      "\n",
      "Kornia DoG:\n",
      "\n",
      "                 Mean error\n",
      "Rotation          x        y\n",
      "  90 deg     -0.476   -0.001\n",
      " 180 deg     -0.463   -0.462\n",
      " 270 deg     -0.004   -0.471\n",
      "\n",
      "Rotation        Mse\n",
      "  90 deg      0.429\n",
      " 180 deg      0.672\n",
      " 270 deg      0.423\n",
      "\n",
      "\n",
      "Kornia DoG corrected:\n",
      "\n",
      "                 Mean error\n",
      "Rotation          x        y\n",
      "  90 deg     +0.001   +0.001\n",
      " 180 deg     +0.006   +0.006\n",
      " 270 deg     -0.002   +0.004\n",
      "\n",
      "Rotation        Mse\n",
      "  90 deg      0.205\n",
      " 180 deg      0.229\n",
      " 270 deg      0.202\n",
      "\n"
     ]
    }
   ],
   "source": [
    "from kornia.feature.integrated import SIFTFeature\n",
    "from kornia.utils import image_to_tensor\n",
    "import torch\n",
    "\n",
    "\n",
    "class NumpyKorniaSiftDetector:\n",
    "\n",
    "    def __init__(self, device=torch.device(\"cpu\")):\n",
    "        self.device = device\n",
    "        self.sf = SIFTFeature(device=device)\n",
    "\n",
    "    @staticmethod\n",
    "    def cv_kpt_from_laffs_responses(laffs, responses):\n",
    "        kpts = []\n",
    "        for i, response in enumerate(responses[0]):\n",
    "            yx = laffs[0, i, :, 2]\n",
    "            kp = cv.KeyPoint(yx[0].item(), yx[1].item(), response.item(), angle=0)\n",
    "            kpts.append(kp)\n",
    "        return kpts\n",
    "\n",
    "    def detect(self, img, mask):\n",
    "        assert mask is None, \"not implemented with non-trivial mask\"\n",
    "        if len(img.shape) == 2:\n",
    "            img = img[:, :, None]\n",
    "        else:\n",
    "            img = cv.cvtColor(img, cv.COLOR_BGR2GRAY)\n",
    "        img_t = (image_to_tensor(img, False).float() / 255.).to(device=self.device)\n",
    "        laffs, responses, descs = self.sf(img_t, mask=None)\n",
    "        kpts = self.cv_kpt_from_laffs_responses(laffs, responses)\n",
    "        return kpts\n",
    "\n",
    "\n",
    "detector = NumpyKorniaSiftDetector()\n",
    "\n",
    "means, mses = rotate_experiment_mnn(detector, img_to_show=2, err_th=2)\n",
    "write_results(means, mses, \"Kornia DoG\")"
   ]
  },
  {
   "cell_type": "code",
   "execution_count": 4,
   "id": "d655972e",
   "metadata": {
    "pycharm": {
     "name": "#%%\n"
    }
   },
   "outputs": [
    {
     "data": {
      "application/vnd.jupyter.widget-view+json": {
       "model_id": "",
       "version_major": 2,
       "version_minor": 0
      },
      "text/plain": [
       "  0%|          | 0/3 [00:00<?, ?it/s]"
      ]
     },
     "metadata": {},
     "output_type": "display_data"
    },
    {
     "name": "stdout",
     "output_type": "stream",
     "text": [
      "\n",
      "VLFeat DoG:\n",
      "\n",
      "                 Mean error\n",
      "Rotation          x        y\n",
      "  90 deg     -0.001   -0.001\n",
      " 180 deg     -0.001   -0.003\n",
      " 270 deg     -0.002   -0.003\n",
      "\n",
      "Rotation        Mse\n",
      "  90 deg      0.006\n",
      " 180 deg      0.011\n",
      " 270 deg      0.006\n",
      "\n"
     ]
    }
   ],
   "source": [
    "import cv2 as cv\n",
    "from hloc.extractors.dog import DoG\n",
    "from kornia.utils import image_to_tensor\n",
    "\n",
    "class HlocSiftDetector:\n",
    "\n",
    "    sift_conf = {\n",
    "        'options': {\n",
    "            'first_octave': -1,\n",
    "            'peak_threshold': 0.01,\n",
    "        },\n",
    "        'descriptor': 'sift',\n",
    "        'max_keypoints': -1,\n",
    "        'patch_size': 32,\n",
    "        'mr_size': 12,\n",
    "    }\n",
    "\n",
    "    def __init__(self, conf=sift_conf, device=torch.device(\"cpu\")):\n",
    "        self.dog = DoG(conf)\n",
    "        self.device = device\n",
    "\n",
    "    def create_cv_kpts(self, keypoints, scales, oris):\n",
    "        keypoints = keypoints[0]\n",
    "        kpts = []\n",
    "        for i, kpt in enumerate(keypoints):\n",
    "            x = kpt[0].item()\n",
    "            y = kpt[1].item()\n",
    "            size = scales[0, i].item()\n",
    "            angle = oris[0, i].item()\n",
    "            kp = cv.KeyPoint(x, y, size=size, angle=angle)\n",
    "            kpts.append(kp)\n",
    "        return kpts\n",
    "\n",
    "    def detect(self, img, mask):\n",
    "        assert mask is None, \"not implemented with non-trivial mask\"\n",
    "        if len(img.shape) == 2:\n",
    "            img = img[:, :, None]\n",
    "        else:\n",
    "            img = cv.cvtColor(img, cv.COLOR_BGR2GRAY)\n",
    "        img_t = (image_to_tensor(img, False).float() / 255.).to(device=self.device)\n",
    "        ret_dict = self.dog({\"image\": img_t})\n",
    "        cv_kpts = self.create_cv_kpts(ret_dict['keypoints'], ret_dict['scales'], ret_dict['oris'])\n",
    "        return cv_kpts\n",
    "\n",
    "\n",
    "detector = HlocSiftDetector()\n",
    "\n",
    "means, mses = rotate_experiment_mnn(detector, img_to_show=2, err_th=2, correct=False)\n",
    "write_results(means, mses, \"VLFeat DoG\", correct=False)\n"
   ]
  }
 ],
 "metadata": {
  "kernelspec": {
   "display_name": "Python 3 (ipykernel)",
   "language": "python",
   "name": "python3"
  },
  "language_info": {
   "codemirror_mode": {
    "name": "ipython",
    "version": 3
   },
   "file_extension": ".py",
   "mimetype": "text/x-python",
   "name": "python",
   "nbconvert_exporter": "python",
   "pygments_lexer": "ipython3",
   "version": "3.10.6"
  }
 },
 "nbformat": 4,
 "nbformat_minor": 5
}